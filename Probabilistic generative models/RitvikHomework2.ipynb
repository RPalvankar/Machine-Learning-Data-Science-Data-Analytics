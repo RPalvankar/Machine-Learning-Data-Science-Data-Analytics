{
 "cells": [
  {
   "cell_type": "code",
   "execution_count": 476,
   "metadata": {},
   "outputs": [],
   "source": [
    "import numpy as np\n",
    "import pandas as pd\n",
    "import matplotlib.pyplot as plt\n",
    "%matplotlib inline"
   ]
  },
  {
   "cell_type": "code",
   "execution_count": 477,
   "metadata": {},
   "outputs": [],
   "source": [
    "data= pd.read_csv(r\"C:\\Users\\ritvikpalvankar7\\Desktop\\FML\\crab.txt\",delimiter='\\t')\n",
    "data.to_csv('crab.csv')"
   ]
  },
  {
   "cell_type": "code",
   "execution_count": 478,
   "metadata": {},
   "outputs": [
    {
     "data": {
      "text/html": [
       "<div>\n",
       "<style scoped>\n",
       "    .dataframe tbody tr th:only-of-type {\n",
       "        vertical-align: middle;\n",
       "    }\n",
       "\n",
       "    .dataframe tbody tr th {\n",
       "        vertical-align: top;\n",
       "    }\n",
       "\n",
       "    .dataframe thead th {\n",
       "        text-align: right;\n",
       "    }\n",
       "</style>\n",
       "<table border=\"1\" class=\"dataframe\">\n",
       "  <thead>\n",
       "    <tr style=\"text-align: right;\">\n",
       "      <th></th>\n",
       "      <th>Species</th>\n",
       "      <th>FrontalLip</th>\n",
       "      <th>RearWidth</th>\n",
       "      <th>Length</th>\n",
       "      <th>Width</th>\n",
       "      <th>Depth</th>\n",
       "      <th>Male</th>\n",
       "      <th>Female</th>\n",
       "    </tr>\n",
       "  </thead>\n",
       "  <tbody>\n",
       "    <tr>\n",
       "      <td>0</td>\n",
       "      <td>0</td>\n",
       "      <td>20.6</td>\n",
       "      <td>14.4</td>\n",
       "      <td>42.8</td>\n",
       "      <td>46.5</td>\n",
       "      <td>19.6</td>\n",
       "      <td>1</td>\n",
       "      <td>0</td>\n",
       "    </tr>\n",
       "    <tr>\n",
       "      <td>1</td>\n",
       "      <td>1</td>\n",
       "      <td>13.3</td>\n",
       "      <td>11.1</td>\n",
       "      <td>27.8</td>\n",
       "      <td>32.3</td>\n",
       "      <td>11.3</td>\n",
       "      <td>1</td>\n",
       "      <td>0</td>\n",
       "    </tr>\n",
       "    <tr>\n",
       "      <td>2</td>\n",
       "      <td>0</td>\n",
       "      <td>16.7</td>\n",
       "      <td>14.3</td>\n",
       "      <td>32.3</td>\n",
       "      <td>37.0</td>\n",
       "      <td>14.7</td>\n",
       "      <td>0</td>\n",
       "      <td>1</td>\n",
       "    </tr>\n",
       "    <tr>\n",
       "      <td>3</td>\n",
       "      <td>1</td>\n",
       "      <td>9.8</td>\n",
       "      <td>8.9</td>\n",
       "      <td>20.4</td>\n",
       "      <td>23.9</td>\n",
       "      <td>8.8</td>\n",
       "      <td>0</td>\n",
       "      <td>1</td>\n",
       "    </tr>\n",
       "    <tr>\n",
       "      <td>4</td>\n",
       "      <td>0</td>\n",
       "      <td>15.6</td>\n",
       "      <td>14.1</td>\n",
       "      <td>31.0</td>\n",
       "      <td>34.5</td>\n",
       "      <td>13.8</td>\n",
       "      <td>0</td>\n",
       "      <td>1</td>\n",
       "    </tr>\n",
       "  </tbody>\n",
       "</table>\n",
       "</div>"
      ],
      "text/plain": [
       "   Species  FrontalLip  RearWidth  Length  Width  Depth  Male  Female\n",
       "0        0        20.6       14.4    42.8   46.5   19.6     1       0\n",
       "1        1        13.3       11.1    27.8   32.3   11.3     1       0\n",
       "2        0        16.7       14.3    32.3   37.0   14.7     0       1\n",
       "3        1         9.8        8.9    20.4   23.9    8.8     0       1\n",
       "4        0        15.6       14.1    31.0   34.5   13.8     0       1"
      ]
     },
     "execution_count": 478,
     "metadata": {},
     "output_type": "execute_result"
    }
   ],
   "source": [
    "data.head()\n"
   ]
  },
  {
   "cell_type": "code",
   "execution_count": 479,
   "metadata": {},
   "outputs": [
    {
     "data": {
      "text/html": [
       "<div>\n",
       "<style scoped>\n",
       "    .dataframe tbody tr th:only-of-type {\n",
       "        vertical-align: middle;\n",
       "    }\n",
       "\n",
       "    .dataframe tbody tr th {\n",
       "        vertical-align: top;\n",
       "    }\n",
       "\n",
       "    .dataframe thead th {\n",
       "        text-align: right;\n",
       "    }\n",
       "</style>\n",
       "<table border=\"1\" class=\"dataframe\">\n",
       "  <thead>\n",
       "    <tr style=\"text-align: right;\">\n",
       "      <th></th>\n",
       "      <th>count</th>\n",
       "      <th>mean</th>\n",
       "      <th>std</th>\n",
       "      <th>min</th>\n",
       "      <th>25%</th>\n",
       "      <th>50%</th>\n",
       "      <th>75%</th>\n",
       "      <th>max</th>\n",
       "    </tr>\n",
       "  </thead>\n",
       "  <tbody>\n",
       "    <tr>\n",
       "      <td>Species</td>\n",
       "      <td>200.0</td>\n",
       "      <td>0.5000</td>\n",
       "      <td>0.501255</td>\n",
       "      <td>0.0</td>\n",
       "      <td>0.000</td>\n",
       "      <td>0.50</td>\n",
       "      <td>1.000</td>\n",
       "      <td>1.0</td>\n",
       "    </tr>\n",
       "    <tr>\n",
       "      <td>FrontalLip</td>\n",
       "      <td>200.0</td>\n",
       "      <td>15.5830</td>\n",
       "      <td>3.495325</td>\n",
       "      <td>7.2</td>\n",
       "      <td>12.900</td>\n",
       "      <td>15.55</td>\n",
       "      <td>18.050</td>\n",
       "      <td>23.1</td>\n",
       "    </tr>\n",
       "    <tr>\n",
       "      <td>RearWidth</td>\n",
       "      <td>200.0</td>\n",
       "      <td>12.7385</td>\n",
       "      <td>2.573340</td>\n",
       "      <td>6.5</td>\n",
       "      <td>11.000</td>\n",
       "      <td>12.80</td>\n",
       "      <td>14.300</td>\n",
       "      <td>20.2</td>\n",
       "    </tr>\n",
       "    <tr>\n",
       "      <td>Length</td>\n",
       "      <td>200.0</td>\n",
       "      <td>32.1055</td>\n",
       "      <td>7.118983</td>\n",
       "      <td>14.7</td>\n",
       "      <td>27.275</td>\n",
       "      <td>32.10</td>\n",
       "      <td>37.225</td>\n",
       "      <td>47.6</td>\n",
       "    </tr>\n",
       "    <tr>\n",
       "      <td>Width</td>\n",
       "      <td>200.0</td>\n",
       "      <td>36.4145</td>\n",
       "      <td>7.871955</td>\n",
       "      <td>17.1</td>\n",
       "      <td>31.500</td>\n",
       "      <td>36.80</td>\n",
       "      <td>42.000</td>\n",
       "      <td>54.6</td>\n",
       "    </tr>\n",
       "    <tr>\n",
       "      <td>Depth</td>\n",
       "      <td>200.0</td>\n",
       "      <td>14.0305</td>\n",
       "      <td>3.424772</td>\n",
       "      <td>6.1</td>\n",
       "      <td>11.400</td>\n",
       "      <td>13.90</td>\n",
       "      <td>16.600</td>\n",
       "      <td>21.6</td>\n",
       "    </tr>\n",
       "    <tr>\n",
       "      <td>Male</td>\n",
       "      <td>200.0</td>\n",
       "      <td>0.5000</td>\n",
       "      <td>0.501255</td>\n",
       "      <td>0.0</td>\n",
       "      <td>0.000</td>\n",
       "      <td>0.50</td>\n",
       "      <td>1.000</td>\n",
       "      <td>1.0</td>\n",
       "    </tr>\n",
       "    <tr>\n",
       "      <td>Female</td>\n",
       "      <td>200.0</td>\n",
       "      <td>0.5000</td>\n",
       "      <td>0.501255</td>\n",
       "      <td>0.0</td>\n",
       "      <td>0.000</td>\n",
       "      <td>0.50</td>\n",
       "      <td>1.000</td>\n",
       "      <td>1.0</td>\n",
       "    </tr>\n",
       "  </tbody>\n",
       "</table>\n",
       "</div>"
      ],
      "text/plain": [
       "            count     mean       std   min     25%    50%     75%   max\n",
       "Species     200.0   0.5000  0.501255   0.0   0.000   0.50   1.000   1.0\n",
       "FrontalLip  200.0  15.5830  3.495325   7.2  12.900  15.55  18.050  23.1\n",
       "RearWidth   200.0  12.7385  2.573340   6.5  11.000  12.80  14.300  20.2\n",
       "Length      200.0  32.1055  7.118983  14.7  27.275  32.10  37.225  47.6\n",
       "Width       200.0  36.4145  7.871955  17.1  31.500  36.80  42.000  54.6\n",
       "Depth       200.0  14.0305  3.424772   6.1  11.400  13.90  16.600  21.6\n",
       "Male        200.0   0.5000  0.501255   0.0   0.000   0.50   1.000   1.0\n",
       "Female      200.0   0.5000  0.501255   0.0   0.000   0.50   1.000   1.0"
      ]
     },
     "execution_count": 479,
     "metadata": {},
     "output_type": "execute_result"
    }
   ],
   "source": [
    "data.describe().transpose()"
   ]
  },
  {
   "cell_type": "code",
   "execution_count": 480,
   "metadata": {},
   "outputs": [],
   "source": [
    "colnames_numeric = data_2C.columns[0:6]"
   ]
  },
  {
   "cell_type": "code",
   "execution_count": 481,
   "metadata": {},
   "outputs": [
    {
     "data": {
      "text/html": [
       "<div>\n",
       "<style scoped>\n",
       "    .dataframe tbody tr th:only-of-type {\n",
       "        vertical-align: middle;\n",
       "    }\n",
       "\n",
       "    .dataframe tbody tr th {\n",
       "        vertical-align: top;\n",
       "    }\n",
       "\n",
       "    .dataframe thead th {\n",
       "        text-align: right;\n",
       "    }\n",
       "</style>\n",
       "<table border=\"1\" class=\"dataframe\">\n",
       "  <thead>\n",
       "    <tr style=\"text-align: right;\">\n",
       "      <th></th>\n",
       "      <th>Species</th>\n",
       "      <th>FrontalLip</th>\n",
       "      <th>RearWidth</th>\n",
       "      <th>Length</th>\n",
       "      <th>Width</th>\n",
       "      <th>Depth</th>\n",
       "      <th>Male</th>\n",
       "      <th>Female</th>\n",
       "    </tr>\n",
       "  </thead>\n",
       "  <tbody>\n",
       "    <tr>\n",
       "      <td>0</td>\n",
       "      <td>0</td>\n",
       "      <td>20.6</td>\n",
       "      <td>14.4</td>\n",
       "      <td>42.8</td>\n",
       "      <td>46.5</td>\n",
       "      <td>19.6</td>\n",
       "      <td>1</td>\n",
       "      <td>0</td>\n",
       "    </tr>\n",
       "    <tr>\n",
       "      <td>1</td>\n",
       "      <td>1</td>\n",
       "      <td>13.3</td>\n",
       "      <td>11.1</td>\n",
       "      <td>27.8</td>\n",
       "      <td>32.3</td>\n",
       "      <td>11.3</td>\n",
       "      <td>1</td>\n",
       "      <td>0</td>\n",
       "    </tr>\n",
       "    <tr>\n",
       "      <td>2</td>\n",
       "      <td>0</td>\n",
       "      <td>16.7</td>\n",
       "      <td>14.3</td>\n",
       "      <td>32.3</td>\n",
       "      <td>37.0</td>\n",
       "      <td>14.7</td>\n",
       "      <td>0</td>\n",
       "      <td>1</td>\n",
       "    </tr>\n",
       "    <tr>\n",
       "      <td>3</td>\n",
       "      <td>1</td>\n",
       "      <td>9.8</td>\n",
       "      <td>8.9</td>\n",
       "      <td>20.4</td>\n",
       "      <td>23.9</td>\n",
       "      <td>8.8</td>\n",
       "      <td>0</td>\n",
       "      <td>1</td>\n",
       "    </tr>\n",
       "    <tr>\n",
       "      <td>4</td>\n",
       "      <td>0</td>\n",
       "      <td>15.6</td>\n",
       "      <td>14.1</td>\n",
       "      <td>31.0</td>\n",
       "      <td>34.5</td>\n",
       "      <td>13.8</td>\n",
       "      <td>0</td>\n",
       "      <td>1</td>\n",
       "    </tr>\n",
       "  </tbody>\n",
       "</table>\n",
       "</div>"
      ],
      "text/plain": [
       "   Species  FrontalLip  RearWidth  Length  Width  Depth  Male  Female\n",
       "0        0        20.6       14.4    42.8   46.5   19.6     1       0\n",
       "1        1        13.3       11.1    27.8   32.3   11.3     1       0\n",
       "2        0        16.7       14.3    32.3   37.0   14.7     0       1\n",
       "3        1         9.8        8.9    20.4   23.9    8.8     0       1\n",
       "4        0        15.6       14.1    31.0   34.5   13.8     0       1"
      ]
     },
     "execution_count": 481,
     "metadata": {},
     "output_type": "execute_result"
    }
   ],
   "source": [
    "data.head()"
   ]
  },
  {
   "cell_type": "code",
   "execution_count": 482,
   "metadata": {},
   "outputs": [],
   "source": [
    "#Splitting the data into 140 and 60 samples respectively\n",
    "train_index=int(0.7*len(data))\n",
    "data_train,data_test=data[:train_index:],data[train_index:]\n",
    "t_train=data_train.Species\n",
    "t_test=data_test.Species"
   ]
  },
  {
   "cell_type": "code",
   "execution_count": 483,
   "metadata": {},
   "outputs": [
    {
     "data": {
      "text/plain": [
       "(140,)"
      ]
     },
     "execution_count": 483,
     "metadata": {},
     "output_type": "execute_result"
    }
   ],
   "source": [
    "t_train.shape"
   ]
  },
  {
   "cell_type": "code",
   "execution_count": 484,
   "metadata": {},
   "outputs": [
    {
     "data": {
      "text/plain": [
       "(60,)"
      ]
     },
     "execution_count": 484,
     "metadata": {},
     "output_type": "execute_result"
    }
   ],
   "source": [
    "t_test.shape"
   ]
  },
  {
   "cell_type": "code",
   "execution_count": 485,
   "metadata": {},
   "outputs": [],
   "source": [
    "del data_train['Species']\n",
    "del data_test['Species']\n",
    "del data_test['Female']\n",
    "del data_train['Female']"
   ]
  },
  {
   "cell_type": "code",
   "execution_count": 486,
   "metadata": {},
   "outputs": [
    {
     "data": {
      "text/plain": [
       "(60, 6)"
      ]
     },
     "execution_count": 486,
     "metadata": {},
     "output_type": "execute_result"
    }
   ],
   "source": [
    "data_test.shape"
   ]
  },
  {
   "cell_type": "code",
   "execution_count": 487,
   "metadata": {},
   "outputs": [
    {
     "data": {
      "text/plain": [
       "(140, 6)"
      ]
     },
     "execution_count": 487,
     "metadata": {},
     "output_type": "execute_result"
    }
   ],
   "source": [
    "data_train.shape"
   ]
  },
  {
   "cell_type": "code",
   "execution_count": 488,
   "metadata": {},
   "outputs": [
    {
     "data": {
      "text/plain": [
       "(0.5142857142857142, 0.4857142857142857)"
      ]
     },
     "execution_count": 488,
     "metadata": {},
     "output_type": "execute_result"
    }
   ],
   "source": [
    "pC1 = np.sum(t_train==1)/t_train.size\n",
    "pC0 = np.sum(t_train==0)/t_train.size\n",
    "pC0, pC1"
   ]
  },
  {
   "cell_type": "code",
   "execution_count": 489,
   "metadata": {},
   "outputs": [
    {
     "data": {
      "text/plain": [
       "1    100\n",
       "0    100\n",
       "Name: Species, dtype: int64"
      ]
     },
     "execution_count": 489,
     "metadata": {},
     "output_type": "execute_result"
    }
   ],
   "source": [
    "data['Species'].value_counts()"
   ]
  },
  {
   "cell_type": "code",
   "execution_count": 490,
   "metadata": {},
   "outputs": [
    {
     "data": {
      "text/plain": [
       "(140, 6)"
      ]
     },
     "execution_count": 490,
     "metadata": {},
     "output_type": "execute_result"
    }
   ],
   "source": [
    "X=np.array(data_train)\n",
    "X.shape\n"
   ]
  },
  {
   "cell_type": "code",
   "execution_count": 491,
   "metadata": {},
   "outputs": [
    {
     "name": "stdout",
     "output_type": "stream",
     "text": [
      "[17.10555556 13.62083333 34.1375     38.10277778 15.46527778  0.51388889]\n",
      "[14.03529412 11.84705882 30.08676471 34.73382353 12.56764706  0.51470588]\n"
     ]
    }
   ],
   "source": [
    "mu0 = np.mean(X[t_train==0,:],axis=0) #Calculating mean for class0\n",
    "mu1 = np.mean(X[t_train==1,:],axis=0) #Calculating mean for class1\n",
    "print(mu0)\n",
    "print(mu1)"
   ]
  },
  {
   "cell_type": "code",
   "execution_count": 492,
   "metadata": {},
   "outputs": [
    {
     "name": "stdout",
     "output_type": "stream",
     "text": [
      "[[ 9.29827856  7.23185446 18.83640845 21.15223787  8.68850548 -0.43106416]\n",
      " [ 7.23185446  6.85913732 14.3518838  16.57768779  6.55777582 -0.79254695]\n",
      " [18.83640845 14.3518838  38.99167254 43.51876761 18.02005282 -0.63644366]\n",
      " [21.15223787 16.57768779 43.51876761 48.98168232 20.07671753 -0.92539124]\n",
      " [ 8.68850548  6.55777582 18.02005282 20.07671753  8.43948161 -0.26218701]\n",
      " [-0.43106416 -0.79254695 -0.63644366 -0.92539124 -0.26218701  0.25332551]]\n",
      "[[ 9.21903424  5.97159789 21.19107112 24.21281826  9.46712906  0.56365233]\n",
      " [ 5.97159789  4.57118525 13.72510975 15.78868306  6.24841089  0.06944688]\n",
      " [21.19107112 13.72510975 49.21638938 56.12493196 21.88956541  1.40094381]\n",
      " [24.21281826 15.78868306 56.12493196 64.1691374  25.01991659  1.52561457]\n",
      " [ 9.46712906  6.24841089 21.88956541 25.01991659  9.89117647  0.55122915]\n",
      " [ 0.56365233  0.06944688  1.40094381  1.52561457  0.55122915  0.25351185]]\n"
     ]
    }
   ],
   "source": [
    "cov0 = np.cov(X[t_train==0,:].T) #Calculating covariance for class0\n",
    "cov1 = np.cov(X[t_train==1,:].T) #Calculating covariance for class1\n",
    "print(cov0)\n",
    "print(cov1)"
   ]
  },
  {
   "cell_type": "code",
   "execution_count": 493,
   "metadata": {},
   "outputs": [],
   "source": [
    "from scipy.stats import multivariate_normal\n",
    "import matplotlib.pyplot as plt"
   ]
  },
  {
   "cell_type": "code",
   "execution_count": 494,
   "metadata": {},
   "outputs": [],
   "source": [
    "y1 = multivariate_normal.pdf(X, mean=mu1, cov=cov1,)\n",
    "y0 = multivariate_normal.pdf(X, mean=mu0, cov=cov0,)"
   ]
  },
  {
   "cell_type": "code",
   "execution_count": 495,
   "metadata": {},
   "outputs": [],
   "source": [
    "pos0 = (y0*pC0)/(y1*pC1 + y0*pC0)\n",
    "pos1 = (y1*pC1)/(y1*pC1 + y0*pC0)"
   ]
  },
  {
   "cell_type": "markdown",
   "metadata": {},
   "source": [
    "# Calculation of probabilties"
   ]
  },
  {
   "cell_type": "code",
   "execution_count": 496,
   "metadata": {},
   "outputs": [],
   "source": [
    "y0new = multivariate_normal.pdf(data_test, mean=mu0, cov=cov0) #P(x|C0)\n",
    "y1new = multivariate_normal.pdf(data_test, mean=mu1, cov=cov1) #P(x|C1)"
   ]
  },
  {
   "cell_type": "code",
   "execution_count": 497,
   "metadata": {},
   "outputs": [
    {
     "data": {
      "text/plain": [
       "(array([5.52908646e-03, 1.19567639e-02, 7.55839312e-14, 3.14603377e-13,\n",
       "        1.18435549e-09, 8.04200156e-05, 6.11910190e-09, 1.60327224e-04,\n",
       "        6.34032230e-03, 1.36326532e-02, 2.17024147e-03, 5.35161630e-11,\n",
       "        2.28570347e-04, 8.03305011e-11, 1.51564563e-04, 2.97397912e-04,\n",
       "        7.24011537e-09, 1.08433497e-02, 8.30968939e-04, 1.22027557e-10,\n",
       "        1.06708280e-12, 5.04631854e-05, 9.40221137e-05, 4.40489200e-07,\n",
       "        7.75106489e-07, 2.43661916e-09, 2.97900474e-04, 4.74383061e-05,\n",
       "        9.33591599e-07, 1.27856683e-07, 4.28482756e-03, 3.89366331e-09,\n",
       "        3.68444754e-10, 8.14768974e-06, 2.38560013e-08, 5.80681716e-04,\n",
       "        1.60562908e-06, 6.64579218e-03, 7.18451019e-03, 3.48782583e-11,\n",
       "        5.77443568e-09, 1.71501663e-06, 3.19907619e-09, 5.71188423e-09,\n",
       "        2.05711195e-09, 2.07675696e-04, 4.75589781e-06, 4.61205650e-10,\n",
       "        4.44504585e-03, 1.22814772e-08, 1.03580878e-02, 3.00521041e-04,\n",
       "        5.93096851e-04, 1.99332843e-03, 1.21554081e-04, 1.21824094e-09,\n",
       "        3.35193372e-06, 1.49330991e-05, 2.49512471e-12, 1.85473603e-03]),\n",
       " array([1.17171578e-12, 1.29075541e-19, 2.70739528e-05, 8.33614083e-04,\n",
       "        2.77563131e-02, 1.23664966e-06, 8.01570625e-05, 1.11279588e-24,\n",
       "        9.88494834e-14, 1.48504448e-11, 7.01090097e-22, 2.36946789e-05,\n",
       "        3.72928133e-14, 6.52369260e-05, 1.18552397e-28, 7.50536615e-30,\n",
       "        5.76066497e-05, 2.86313857e-09, 4.35171820e-06, 3.07261765e-03,\n",
       "        3.02415911e-03, 1.19334985e-16, 2.20591764e-09, 1.08597460e-03,\n",
       "        2.72097420e-02, 1.25137395e-03, 5.65696401e-09, 3.60324286e-25,\n",
       "        8.58428747e-03, 1.42864808e-02, 5.07201893e-10, 1.28145613e-02,\n",
       "        1.98721043e-06, 2.57376218e-03, 1.25313309e-03, 5.30704089e-25,\n",
       "        4.38615479e-03, 1.79457244e-13, 5.11205441e-18, 4.54933882e-05,\n",
       "        1.01899151e-02, 3.75707027e-03, 4.00788522e-03, 2.38446589e-03,\n",
       "        3.55764902e-03, 1.10062340e-13, 7.76051434e-03, 1.55066017e-04,\n",
       "        4.73239419e-08, 2.88019999e-03, 1.06835488e-09, 5.00156206e-12,\n",
       "        8.68666205e-23, 9.19316623e-24, 8.82496608e-31, 3.62521719e-04,\n",
       "        1.07597895e-02, 1.18396881e-03, 1.27784500e-05, 6.69013030e-10]))"
      ]
     },
     "execution_count": 497,
     "metadata": {},
     "output_type": "execute_result"
    }
   ],
   "source": [
    "y0new, y1new"
   ]
  },
  {
   "cell_type": "code",
   "execution_count": 498,
   "metadata": {},
   "outputs": [],
   "source": [
    "pos0new = (y0new*pC0)/(y1new*pC1 + y0new*pC0)\n",
    "pos1new = (y1new*pC1)/(y1new*pC1 + y0new*pC0)"
   ]
  },
  {
   "cell_type": "code",
   "execution_count": 499,
   "metadata": {},
   "outputs": [
    {
     "data": {
      "text/plain": [
       "(array([1.00000000e+00, 1.00000000e+00, 2.95597932e-09, 3.99596725e-10,\n",
       "        4.51797541e-08, 9.85684814e-01, 8.08228897e-05, 1.00000000e+00,\n",
       "        1.00000000e+00, 9.99999999e-01, 1.00000000e+00, 2.39142456e-06,\n",
       "        1.00000000e+00, 1.30379708e-06, 1.00000000e+00, 1.00000000e+00,\n",
       "        1.33057287e-04, 9.99999751e-01, 9.95078362e-01, 4.20506740e-08,\n",
       "        3.73608773e-10, 1.00000000e+00, 9.99977842e-01, 4.29291907e-04,\n",
       "        3.01611179e-05, 2.06168937e-06, 9.99982066e-01, 1.00000000e+00,\n",
       "        1.15140009e-04, 9.47583829e-06, 9.99999888e-01, 3.21720028e-07,\n",
       "        1.96275844e-04, 3.34069156e-03, 2.01565074e-05, 1.00000000e+00,\n",
       "        3.87450793e-04, 1.00000000e+00, 1.00000000e+00, 8.11763907e-07,\n",
       "        6.00015272e-07, 4.83095225e-04, 8.45147526e-07, 2.53635924e-06,\n",
       "        6.12234988e-07, 9.99999999e-01, 6.48461025e-04, 3.14919971e-06,\n",
       "        9.99989945e-01, 4.51491506e-06, 9.99999903e-01, 9.99999984e-01,\n",
       "        1.00000000e+00, 1.00000000e+00, 1.00000000e+00, 3.55812498e-06,\n",
       "        3.29740281e-04, 1.31786764e-02, 2.06746217e-07, 9.99999659e-01]),\n",
       " array([2.00145261e-10, 1.01954575e-17, 9.99999997e-01, 1.00000000e+00,\n",
       "        9.99999955e-01, 1.43151865e-02, 9.99919177e-01, 6.55518049e-21,\n",
       "        1.47244637e-11, 1.02881074e-09, 3.05099988e-19, 9.99997609e-01,\n",
       "        1.54092562e-10, 9.99998696e-01, 7.38735695e-25, 2.38347381e-26,\n",
       "        9.99866943e-01, 2.49376319e-07, 4.92163807e-03, 9.99999958e-01,\n",
       "        1.00000000e+00, 2.23341556e-12, 2.21577713e-05, 9.99570708e-01,\n",
       "        9.99969839e-01, 9.99997938e-01, 1.79341521e-05, 7.17365980e-21,\n",
       "        9.99884860e-01, 9.99990524e-01, 1.11795387e-07, 9.99999678e-01,\n",
       "        9.99803724e-01, 9.96659308e-01, 9.99979843e-01, 8.63158792e-22,\n",
       "        9.99612549e-01, 2.55029637e-11, 6.72008426e-16, 9.99999188e-01,\n",
       "        9.99999400e-01, 9.99516905e-01, 9.99999155e-01, 9.99997464e-01,\n",
       "        9.99999388e-01, 5.00529278e-10, 9.99351539e-01, 9.99996851e-01,\n",
       "        1.00548760e-05, 9.99995485e-01, 9.74119692e-08, 1.57183584e-08,\n",
       "        1.38325970e-19, 4.35574723e-21, 6.85677531e-27, 9.99996442e-01,\n",
       "        9.99670260e-01, 9.86821324e-01, 9.99999793e-01, 3.40665956e-07]))"
      ]
     },
     "execution_count": 499,
     "metadata": {},
     "output_type": "execute_result"
    }
   ],
   "source": [
    "pos0new, pos1new "
   ]
  },
  {
   "cell_type": "code",
   "execution_count": 500,
   "metadata": {},
   "outputs": [],
   "source": [
    "class0=y0new*pC0\n",
    "class0_train=y0*pC0"
   ]
  },
  {
   "cell_type": "code",
   "execution_count": 501,
   "metadata": {},
   "outputs": [],
   "source": [
    "class1=y1new*pC1\n",
    "class1_train=y1*pC1\n",
    "myclass=np.zeros(60)\n",
    "classtrain=np.zeros(140)"
   ]
  },
  {
   "cell_type": "code",
   "execution_count": 502,
   "metadata": {},
   "outputs": [],
   "source": [
    "for i in range(60):   #for testing\n",
    "    if class0[i]>class1[i]:\n",
    "        myclass[i]=0\n",
    "    elif (class1[i]>class0[i]): \n",
    "        myclass[i]=1\n",
    "\n",
    "        #for training\n",
    "for i in range(140):   \n",
    "    if class0_train[i]>class1_train[i]:\n",
    "        my_classtrain[i]=0\n",
    "    elif (class1_train[i]>class0_train[i]): \n",
    "        my_classtrain[i]=1"
   ]
  },
  {
   "cell_type": "code",
   "execution_count": 503,
   "metadata": {},
   "outputs": [
    {
     "data": {
      "text/plain": [
       "array([0., 1., 0., 1., 0., 1., 0., 1., 1., 0., 0., 0., 0., 1., 1., 0., 1.,\n",
       "       0., 0., 0., 1., 1., 0., 0., 0., 1., 0., 1., 1., 0., 1., 0., 0., 1.,\n",
       "       1., 1., 0., 1., 0., 1., 1., 0., 1., 0., 1., 0., 1., 1., 0., 0., 0.,\n",
       "       0., 0., 0., 1., 0., 0., 1., 1., 1., 1., 1., 1., 1., 0., 1., 0., 1.,\n",
       "       0., 0., 1., 0., 0., 1., 1., 1., 0., 0., 0., 1., 1., 0., 0., 0., 1.,\n",
       "       1., 0., 1., 0., 0., 1., 1., 1., 1., 1., 1., 1., 0., 1., 1., 0., 0.,\n",
       "       0., 1., 0., 0., 0., 1., 1., 0., 1., 0., 1., 1., 1., 1., 1., 0., 0.,\n",
       "       1., 1., 0., 0., 1., 0., 0., 0., 0., 0., 1., 1., 0., 0., 0., 0., 0.,\n",
       "       1., 0., 1., 0.])"
      ]
     },
     "execution_count": 503,
     "metadata": {},
     "output_type": "execute_result"
    }
   ],
   "source": [
    "my_classtrain"
   ]
  },
  {
   "cell_type": "code",
   "execution_count": 504,
   "metadata": {},
   "outputs": [
    {
     "data": {
      "text/html": [
       "<div>\n",
       "<style scoped>\n",
       "    .dataframe tbody tr th:only-of-type {\n",
       "        vertical-align: middle;\n",
       "    }\n",
       "\n",
       "    .dataframe tbody tr th {\n",
       "        vertical-align: top;\n",
       "    }\n",
       "\n",
       "    .dataframe thead th {\n",
       "        text-align: right;\n",
       "    }\n",
       "</style>\n",
       "<table border=\"1\" class=\"dataframe\">\n",
       "  <thead>\n",
       "    <tr style=\"text-align: right;\">\n",
       "      <th>Predicted Species</th>\n",
       "      <th>0.0</th>\n",
       "      <th>1.0</th>\n",
       "    </tr>\n",
       "    <tr>\n",
       "      <th>Species</th>\n",
       "      <th></th>\n",
       "      <th></th>\n",
       "    </tr>\n",
       "  </thead>\n",
       "  <tbody>\n",
       "    <tr>\n",
       "      <td>0</td>\n",
       "      <td>28</td>\n",
       "      <td>0</td>\n",
       "    </tr>\n",
       "    <tr>\n",
       "      <td>1</td>\n",
       "      <td>0</td>\n",
       "      <td>32</td>\n",
       "    </tr>\n",
       "  </tbody>\n",
       "</table>\n",
       "</div>"
      ],
      "text/plain": [
       "Predicted Species  0.0  1.0\n",
       "Species                    \n",
       "0                   28    0\n",
       "1                    0   32"
      ]
     },
     "execution_count": 504,
     "metadata": {},
     "output_type": "execute_result"
    }
   ],
   "source": [
    "#for confusion matrix\n",
    "pd.crosstab(t_test,myclass,colnames=['Predicted Species'])"
   ]
  },
  {
   "cell_type": "code",
   "execution_count": 505,
   "metadata": {},
   "outputs": [
    {
     "data": {
      "text/html": [
       "<div>\n",
       "<style scoped>\n",
       "    .dataframe tbody tr th:only-of-type {\n",
       "        vertical-align: middle;\n",
       "    }\n",
       "\n",
       "    .dataframe tbody tr th {\n",
       "        vertical-align: top;\n",
       "    }\n",
       "\n",
       "    .dataframe thead th {\n",
       "        text-align: right;\n",
       "    }\n",
       "</style>\n",
       "<table border=\"1\" class=\"dataframe\">\n",
       "  <thead>\n",
       "    <tr style=\"text-align: right;\">\n",
       "      <th>Predicted Species</th>\n",
       "      <th>0.0</th>\n",
       "      <th>1.0</th>\n",
       "    </tr>\n",
       "    <tr>\n",
       "      <th>Species</th>\n",
       "      <th></th>\n",
       "      <th></th>\n",
       "    </tr>\n",
       "  </thead>\n",
       "  <tbody>\n",
       "    <tr>\n",
       "      <td>0</td>\n",
       "      <td>72</td>\n",
       "      <td>0</td>\n",
       "    </tr>\n",
       "    <tr>\n",
       "      <td>1</td>\n",
       "      <td>0</td>\n",
       "      <td>68</td>\n",
       "    </tr>\n",
       "  </tbody>\n",
       "</table>\n",
       "</div>"
      ],
      "text/plain": [
       "Predicted Species  0.0  1.0\n",
       "Species                    \n",
       "0                   72    0\n",
       "1                    0   68"
      ]
     },
     "execution_count": 505,
     "metadata": {},
     "output_type": "execute_result"
    }
   ],
   "source": [
    "#for training confusion matrix\n",
    "pd.crosstab(t_train,my_classtrain,colnames=['Predicted Species'])"
   ]
  },
  {
   "cell_type": "markdown",
   "metadata": {},
   "source": [
    "# K-NN Implementation"
   ]
  },
  {
   "cell_type": "code",
   "execution_count": 506,
   "metadata": {},
   "outputs": [],
   "source": [
    "df = data.values.tolist()"
   ]
  },
  {
   "cell_type": "code",
   "execution_count": 507,
   "metadata": {},
   "outputs": [],
   "source": [
    "train_index=int(0.7*len(df))\n",
    "train,test=df[:train_index:],df[train_index:]\n"
   ]
  },
  {
   "cell_type": "code",
   "execution_count": 508,
   "metadata": {},
   "outputs": [
    {
     "data": {
      "text/plain": [
       "140"
      ]
     },
     "execution_count": 508,
     "metadata": {},
     "output_type": "execute_result"
    }
   ],
   "source": [
    "len(train)"
   ]
  },
  {
   "cell_type": "code",
   "execution_count": 466,
   "metadata": {},
   "outputs": [
    {
     "data": {
      "text/plain": [
       "60"
      ]
     },
     "execution_count": 466,
     "metadata": {},
     "output_type": "execute_result"
    }
   ],
   "source": [
    "len(test)"
   ]
  },
  {
   "cell_type": "code",
   "execution_count": 467,
   "metadata": {},
   "outputs": [],
   "source": [
    "import math\n",
    "def Euclideandist(x,xi, length):\n",
    "    distance = 0.0\n",
    "    for i in range(length):\n",
    "        distance += pow(float(x[i])- float(xi[i]),2)\n",
    "    return math.sqrt(distance)"
   ]
  },
  {
   "cell_type": "code",
   "execution_count": 468,
   "metadata": {},
   "outputs": [],
   "source": [
    "import operator\n",
    "def getN(train, testInstance, k):\n",
    "    distances = []\n",
    "    length = len(testInstance)-1\n",
    "    for x in range(len(trainingSet)):\n",
    "        dist = Euclideandist(testInstance, train[x], length)\n",
    "        distances.append((train[x], dist))\n",
    "    distances.sort(key=operator.itemgetter(1))\n",
    "    neighbors = []\n",
    "    for x in range(k):\n",
    "        neighbors.append(distances[x][0])\n",
    "    return neighbors"
   ]
  },
  {
   "cell_type": "code",
   "execution_count": 469,
   "metadata": {},
   "outputs": [],
   "source": [
    "import operator\n",
    "def getResponse(neighbors):\n",
    "\tclassVotes = {}\n",
    "\tfor x in range(len(neighbors)):\n",
    "\t\tresponse = neighbors[x][-1]\n",
    "\t\tif response in classVotes:\n",
    "\t\t\tclassVotes[response] += 1\n",
    "\t\telse:\n",
    "\t\t\tclassVotes[response] = 1\n",
    "\tsortedVotes = sorted(classVotes.items(), key=operator.itemgetter(1), reverse=True)#Sorting it based on votes\n",
    "\treturn sortedVotes[0][0] #Please note we need the class for the top voted class, hence [0][0]#"
   ]
  },
  {
   "cell_type": "code",
   "execution_count": 470,
   "metadata": {},
   "outputs": [],
   "source": [
    "def getAccuracy(test, predictions):\n",
    "\tcorrect = 0\n",
    "\tfor x in range(len(test)):\n",
    "\t\tif test[x][-1] == predictions[x]:\n",
    "\t\t\tcorrect += 1\n",
    "\treturn (correct/float(len(test))) * 100.0\n"
   ]
  },
  {
   "cell_type": "markdown",
   "metadata": {},
   "source": [
    "# Testing the functions for different values of k(1,2,3,4)"
   ]
  },
  {
   "cell_type": "code",
   "execution_count": 471,
   "metadata": {},
   "outputs": [
    {
     "name": "stdout",
     "output_type": "stream",
     "text": [
      "> predicted=1.0, actual=1.0\n",
      "> predicted=1.0, actual=1.0\n",
      "> predicted=0.0, actual=0.0\n",
      "> predicted=0.0, actual=0.0\n",
      "> predicted=0.0, actual=0.0\n",
      "> predicted=1.0, actual=1.0\n",
      "> predicted=0.0, actual=1.0\n",
      "> predicted=0.0, actual=0.0\n",
      "> predicted=1.0, actual=1.0\n",
      "> predicted=0.0, actual=0.0\n",
      "> predicted=1.0, actual=1.0\n",
      "> predicted=1.0, actual=1.0\n",
      "> predicted=0.0, actual=0.0\n",
      "> predicted=1.0, actual=1.0\n",
      "> predicted=1.0, actual=1.0\n",
      "> predicted=1.0, actual=1.0\n",
      "> predicted=1.0, actual=1.0\n",
      "> predicted=1.0, actual=1.0\n",
      "> predicted=1.0, actual=1.0\n",
      "> predicted=1.0, actual=1.0\n",
      "> predicted=0.0, actual=0.0\n",
      "> predicted=0.0, actual=0.0\n",
      "> predicted=0.0, actual=1.0\n",
      "> predicted=1.0, actual=0.0\n",
      "> predicted=1.0, actual=1.0\n",
      "> predicted=1.0, actual=1.0\n",
      "> predicted=0.0, actual=0.0\n",
      "> predicted=0.0, actual=0.0\n",
      "> predicted=0.0, actual=0.0\n",
      "> predicted=1.0, actual=1.0\n",
      "> predicted=1.0, actual=0.0\n",
      "> predicted=0.0, actual=0.0\n",
      "> predicted=1.0, actual=1.0\n",
      "> predicted=0.0, actual=0.0\n",
      "> predicted=1.0, actual=1.0\n",
      "> predicted=0.0, actual=0.0\n",
      "> predicted=0.0, actual=0.0\n",
      "> predicted=0.0, actual=0.0\n",
      "> predicted=0.0, actual=0.0\n",
      "> predicted=1.0, actual=1.0\n",
      "> predicted=1.0, actual=1.0\n",
      "> predicted=1.0, actual=1.0\n",
      "> predicted=0.0, actual=0.0\n",
      "> predicted=0.0, actual=0.0\n",
      "> predicted=1.0, actual=1.0\n",
      "> predicted=0.0, actual=1.0\n",
      "> predicted=1.0, actual=1.0\n",
      "> predicted=0.0, actual=0.0\n",
      "> predicted=1.0, actual=1.0\n",
      "> predicted=1.0, actual=0.0\n",
      "> predicted=1.0, actual=1.0\n",
      "> predicted=0.0, actual=0.0\n",
      "> predicted=0.0, actual=0.0\n",
      "> predicted=1.0, actual=0.0\n",
      "> predicted=1.0, actual=1.0\n",
      "> predicted=0.0, actual=0.0\n",
      "> predicted=1.0, actual=1.0\n",
      "> predicted=1.0, actual=0.0\n",
      "> predicted=1.0, actual=1.0\n",
      "> predicted=1.0, actual=1.0\n",
      "Accuracy: 86.66666666666667%\n"
     ]
    }
   ],
   "source": [
    "#K=1\n",
    "k=1\n",
    "predictions=[]\n",
    "\n",
    "for x in range(len(test)):\n",
    "    neighbors = getN(train, test[x], k)\n",
    "    result = getResponse(neighbors)\n",
    "    predictions.append(result)\n",
    "    print('> predicted=' + repr(result) + ', actual=' + repr(test[x][-1]))\n",
    "accuracy = getAccuracy(test, predictions)\n",
    "print('Accuracy: ' + repr(accuracy) + '%')    "
   ]
  },
  {
   "cell_type": "code",
   "execution_count": 472,
   "metadata": {},
   "outputs": [
    {
     "name": "stdout",
     "output_type": "stream",
     "text": [
      "> predicted=1.0, actual=1.0\n",
      "> predicted=1.0, actual=1.0\n",
      "> predicted=0.0, actual=0.0\n",
      "> predicted=0.0, actual=0.0\n",
      "> predicted=0.0, actual=0.0\n",
      "> predicted=1.0, actual=1.0\n",
      "> predicted=0.0, actual=1.0\n",
      "> predicted=0.0, actual=0.0\n",
      "> predicted=1.0, actual=1.0\n",
      "> predicted=0.0, actual=0.0\n",
      "> predicted=1.0, actual=1.0\n",
      "> predicted=1.0, actual=1.0\n",
      "> predicted=0.0, actual=0.0\n",
      "> predicted=1.0, actual=1.0\n",
      "> predicted=1.0, actual=1.0\n",
      "> predicted=1.0, actual=1.0\n",
      "> predicted=1.0, actual=1.0\n",
      "> predicted=1.0, actual=1.0\n",
      "> predicted=1.0, actual=1.0\n",
      "> predicted=1.0, actual=1.0\n",
      "> predicted=0.0, actual=0.0\n",
      "> predicted=0.0, actual=0.0\n",
      "> predicted=0.0, actual=1.0\n",
      "> predicted=1.0, actual=0.0\n",
      "> predicted=1.0, actual=1.0\n",
      "> predicted=1.0, actual=1.0\n",
      "> predicted=0.0, actual=0.0\n",
      "> predicted=0.0, actual=0.0\n",
      "> predicted=0.0, actual=0.0\n",
      "> predicted=1.0, actual=1.0\n",
      "> predicted=1.0, actual=0.0\n",
      "> predicted=0.0, actual=0.0\n",
      "> predicted=1.0, actual=1.0\n",
      "> predicted=0.0, actual=0.0\n",
      "> predicted=1.0, actual=1.0\n",
      "> predicted=0.0, actual=0.0\n",
      "> predicted=0.0, actual=0.0\n",
      "> predicted=0.0, actual=0.0\n",
      "> predicted=0.0, actual=0.0\n",
      "> predicted=1.0, actual=1.0\n",
      "> predicted=1.0, actual=1.0\n",
      "> predicted=1.0, actual=1.0\n",
      "> predicted=0.0, actual=0.0\n",
      "> predicted=0.0, actual=0.0\n",
      "> predicted=1.0, actual=1.0\n",
      "> predicted=0.0, actual=1.0\n",
      "> predicted=1.0, actual=1.0\n",
      "> predicted=0.0, actual=0.0\n",
      "> predicted=1.0, actual=1.0\n",
      "> predicted=1.0, actual=0.0\n",
      "> predicted=1.0, actual=1.0\n",
      "> predicted=0.0, actual=0.0\n",
      "> predicted=0.0, actual=0.0\n",
      "> predicted=1.0, actual=0.0\n",
      "> predicted=1.0, actual=1.0\n",
      "> predicted=0.0, actual=0.0\n",
      "> predicted=1.0, actual=1.0\n",
      "> predicted=1.0, actual=0.0\n",
      "> predicted=1.0, actual=1.0\n",
      "> predicted=1.0, actual=1.0\n",
      "Accuracy: 86.66666666666667%\n"
     ]
    }
   ],
   "source": [
    "#K=2\n",
    "k=2\n",
    "predictions=[]\n",
    "\n",
    "for x in range(len(test)):\n",
    "    neighbors = getN(train, test[x], k)\n",
    "    result = getResponse(neighbors)\n",
    "    predictions.append(result)\n",
    "    print('> predicted=' + repr(result) + ', actual=' + repr(test[x][-1]))\n",
    "accuracy = getAccuracy(test, predictions)\n",
    "print('Accuracy: ' + repr(accuracy) + '%')    "
   ]
  },
  {
   "cell_type": "code",
   "execution_count": 473,
   "metadata": {},
   "outputs": [
    {
     "name": "stdout",
     "output_type": "stream",
     "text": [
      "> predicted=1.0, actual=1.0\n",
      "> predicted=1.0, actual=1.0\n",
      "> predicted=0.0, actual=0.0\n",
      "> predicted=0.0, actual=0.0\n",
      "> predicted=0.0, actual=0.0\n",
      "> predicted=1.0, actual=1.0\n",
      "> predicted=1.0, actual=1.0\n",
      "> predicted=0.0, actual=0.0\n",
      "> predicted=1.0, actual=1.0\n",
      "> predicted=0.0, actual=0.0\n",
      "> predicted=1.0, actual=1.0\n",
      "> predicted=1.0, actual=1.0\n",
      "> predicted=0.0, actual=0.0\n",
      "> predicted=1.0, actual=1.0\n",
      "> predicted=1.0, actual=1.0\n",
      "> predicted=1.0, actual=1.0\n",
      "> predicted=1.0, actual=1.0\n",
      "> predicted=1.0, actual=1.0\n",
      "> predicted=1.0, actual=1.0\n",
      "> predicted=1.0, actual=1.0\n",
      "> predicted=0.0, actual=0.0\n",
      "> predicted=0.0, actual=0.0\n",
      "> predicted=0.0, actual=1.0\n",
      "> predicted=1.0, actual=0.0\n",
      "> predicted=1.0, actual=1.0\n",
      "> predicted=1.0, actual=1.0\n",
      "> predicted=1.0, actual=0.0\n",
      "> predicted=0.0, actual=0.0\n",
      "> predicted=0.0, actual=0.0\n",
      "> predicted=1.0, actual=1.0\n",
      "> predicted=1.0, actual=0.0\n",
      "> predicted=0.0, actual=0.0\n",
      "> predicted=1.0, actual=1.0\n",
      "> predicted=0.0, actual=0.0\n",
      "> predicted=1.0, actual=1.0\n",
      "> predicted=0.0, actual=0.0\n",
      "> predicted=0.0, actual=0.0\n",
      "> predicted=0.0, actual=0.0\n",
      "> predicted=0.0, actual=0.0\n",
      "> predicted=1.0, actual=1.0\n",
      "> predicted=1.0, actual=1.0\n",
      "> predicted=1.0, actual=1.0\n",
      "> predicted=0.0, actual=0.0\n",
      "> predicted=1.0, actual=0.0\n",
      "> predicted=1.0, actual=1.0\n",
      "> predicted=0.0, actual=1.0\n",
      "> predicted=1.0, actual=1.0\n",
      "> predicted=0.0, actual=0.0\n",
      "> predicted=1.0, actual=1.0\n",
      "> predicted=1.0, actual=0.0\n",
      "> predicted=1.0, actual=1.0\n",
      "> predicted=0.0, actual=0.0\n",
      "> predicted=0.0, actual=0.0\n",
      "> predicted=1.0, actual=0.0\n",
      "> predicted=1.0, actual=1.0\n",
      "> predicted=0.0, actual=0.0\n",
      "> predicted=1.0, actual=1.0\n",
      "> predicted=1.0, actual=0.0\n",
      "> predicted=1.0, actual=1.0\n",
      "> predicted=1.0, actual=1.0\n",
      "Accuracy: 85.0%\n"
     ]
    }
   ],
   "source": [
    "#K=3\n",
    "k=3\n",
    "predictions=[]\n",
    "\n",
    "for x in range(len(test)):\n",
    "    neighbors = getN(train, test[x], k)\n",
    "    result = getResponse(neighbors)\n",
    "    predictions.append(result)\n",
    "    print('> predicted=' + repr(result) + ', actual=' + repr(test[x][-1]))\n",
    "accuracy = getAccuracy(test, predictions)\n",
    "print('Accuracy: ' + repr(accuracy) + '%')    "
   ]
  },
  {
   "cell_type": "code",
   "execution_count": 474,
   "metadata": {},
   "outputs": [
    {
     "name": "stdout",
     "output_type": "stream",
     "text": [
      "> predicted=1.0, actual=1.0\n",
      "> predicted=1.0, actual=1.0\n",
      "> predicted=0.0, actual=0.0\n",
      "> predicted=0.0, actual=0.0\n",
      "> predicted=0.0, actual=0.0\n",
      "> predicted=1.0, actual=1.0\n",
      "> predicted=1.0, actual=1.0\n",
      "> predicted=0.0, actual=0.0\n",
      "> predicted=1.0, actual=1.0\n",
      "> predicted=0.0, actual=0.0\n",
      "> predicted=1.0, actual=1.0\n",
      "> predicted=1.0, actual=1.0\n",
      "> predicted=0.0, actual=0.0\n",
      "> predicted=1.0, actual=1.0\n",
      "> predicted=1.0, actual=1.0\n",
      "> predicted=1.0, actual=1.0\n",
      "> predicted=1.0, actual=1.0\n",
      "> predicted=1.0, actual=1.0\n",
      "> predicted=1.0, actual=1.0\n",
      "> predicted=1.0, actual=1.0\n",
      "> predicted=0.0, actual=0.0\n",
      "> predicted=0.0, actual=0.0\n",
      "> predicted=0.0, actual=1.0\n",
      "> predicted=1.0, actual=0.0\n",
      "> predicted=1.0, actual=1.0\n",
      "> predicted=1.0, actual=1.0\n",
      "> predicted=1.0, actual=0.0\n",
      "> predicted=0.0, actual=0.0\n",
      "> predicted=0.0, actual=0.0\n",
      "> predicted=1.0, actual=1.0\n",
      "> predicted=1.0, actual=0.0\n",
      "> predicted=0.0, actual=0.0\n",
      "> predicted=1.0, actual=1.0\n",
      "> predicted=0.0, actual=0.0\n",
      "> predicted=1.0, actual=1.0\n",
      "> predicted=0.0, actual=0.0\n",
      "> predicted=0.0, actual=0.0\n",
      "> predicted=0.0, actual=0.0\n",
      "> predicted=0.0, actual=0.0\n",
      "> predicted=1.0, actual=1.0\n",
      "> predicted=1.0, actual=1.0\n",
      "> predicted=1.0, actual=1.0\n",
      "> predicted=0.0, actual=0.0\n",
      "> predicted=0.0, actual=0.0\n",
      "> predicted=1.0, actual=1.0\n",
      "> predicted=0.0, actual=1.0\n",
      "> predicted=1.0, actual=1.0\n",
      "> predicted=0.0, actual=0.0\n",
      "> predicted=1.0, actual=1.0\n",
      "> predicted=1.0, actual=0.0\n",
      "> predicted=1.0, actual=1.0\n",
      "> predicted=0.0, actual=0.0\n",
      "> predicted=0.0, actual=0.0\n",
      "> predicted=1.0, actual=0.0\n",
      "> predicted=1.0, actual=1.0\n",
      "> predicted=0.0, actual=0.0\n",
      "> predicted=1.0, actual=1.0\n",
      "> predicted=1.0, actual=0.0\n",
      "> predicted=1.0, actual=1.0\n",
      "> predicted=1.0, actual=1.0\n",
      "Accuracy: 86.66666666666667%\n"
     ]
    }
   ],
   "source": [
    "#K=4\n",
    "k=4\n",
    "predictions=[]\n",
    "\n",
    "for x in range(len(test)):\n",
    "    neighbors = getN(train, test[x], k)\n",
    "    result = getResponse(neighbors)\n",
    "    predictions.append(result)\n",
    "    print('> predicted=' + repr(result) + ', actual=' + repr(test[x][-1]))\n",
    "accuracy = getAccuracy(test, predictions)\n",
    "print('Accuracy: ' + repr(accuracy) + '%')\n"
   ]
  },
  {
   "cell_type": "markdown",
   "metadata": {},
   "source": [
    "# Question2.5 When k goes on increasing, the model will be simple. All the test points will belong to the same class:the majority class. This is under fit, that is, high bias and low variance. When k decreases,the resolution is too fin, which is overfit,which indicates high variance. The accuracy decreases as k increases\n"
   ]
  },
  {
   "cell_type": "markdown",
   "metadata": {},
   "source": [
    "# Question2.2 I faced dimensions problems while plotting the probability distribution which I overcame by checking the array "
   ]
  },
  {
   "cell_type": "markdown",
   "metadata": {},
   "source": [
    "# Question2.7 The generative model is better as compared to the discriminative as it has better accuracy"
   ]
  },
  {
   "cell_type": "code",
   "execution_count": null,
   "metadata": {},
   "outputs": [],
   "source": []
  },
  {
   "cell_type": "code",
   "execution_count": null,
   "metadata": {},
   "outputs": [],
   "source": []
  },
  {
   "cell_type": "code",
   "execution_count": null,
   "metadata": {},
   "outputs": [],
   "source": []
  },
  {
   "cell_type": "code",
   "execution_count": null,
   "metadata": {},
   "outputs": [],
   "source": []
  },
  {
   "cell_type": "code",
   "execution_count": null,
   "metadata": {},
   "outputs": [],
   "source": []
  },
  {
   "cell_type": "code",
   "execution_count": null,
   "metadata": {},
   "outputs": [],
   "source": []
  },
  {
   "cell_type": "code",
   "execution_count": null,
   "metadata": {},
   "outputs": [],
   "source": []
  },
  {
   "cell_type": "code",
   "execution_count": null,
   "metadata": {},
   "outputs": [],
   "source": []
  },
  {
   "cell_type": "code",
   "execution_count": null,
   "metadata": {},
   "outputs": [],
   "source": []
  },
  {
   "cell_type": "code",
   "execution_count": null,
   "metadata": {},
   "outputs": [],
   "source": []
  },
  {
   "cell_type": "code",
   "execution_count": null,
   "metadata": {},
   "outputs": [],
   "source": []
  },
  {
   "cell_type": "code",
   "execution_count": null,
   "metadata": {},
   "outputs": [],
   "source": []
  },
  {
   "cell_type": "code",
   "execution_count": null,
   "metadata": {},
   "outputs": [],
   "source": []
  },
  {
   "cell_type": "code",
   "execution_count": null,
   "metadata": {},
   "outputs": [],
   "source": []
  },
  {
   "cell_type": "code",
   "execution_count": null,
   "metadata": {},
   "outputs": [],
   "source": []
  },
  {
   "cell_type": "code",
   "execution_count": null,
   "metadata": {},
   "outputs": [],
   "source": []
  },
  {
   "cell_type": "code",
   "execution_count": null,
   "metadata": {},
   "outputs": [],
   "source": []
  },
  {
   "cell_type": "code",
   "execution_count": null,
   "metadata": {},
   "outputs": [],
   "source": []
  },
  {
   "cell_type": "code",
   "execution_count": null,
   "metadata": {},
   "outputs": [],
   "source": []
  },
  {
   "cell_type": "code",
   "execution_count": null,
   "metadata": {},
   "outputs": [],
   "source": []
  },
  {
   "cell_type": "code",
   "execution_count": null,
   "metadata": {},
   "outputs": [],
   "source": []
  },
  {
   "cell_type": "code",
   "execution_count": null,
   "metadata": {},
   "outputs": [],
   "source": []
  },
  {
   "cell_type": "code",
   "execution_count": null,
   "metadata": {},
   "outputs": [],
   "source": []
  },
  {
   "cell_type": "code",
   "execution_count": null,
   "metadata": {},
   "outputs": [],
   "source": []
  },
  {
   "cell_type": "code",
   "execution_count": null,
   "metadata": {},
   "outputs": [],
   "source": []
  },
  {
   "cell_type": "code",
   "execution_count": null,
   "metadata": {},
   "outputs": [],
   "source": []
  },
  {
   "cell_type": "code",
   "execution_count": null,
   "metadata": {},
   "outputs": [],
   "source": []
  },
  {
   "cell_type": "code",
   "execution_count": null,
   "metadata": {},
   "outputs": [],
   "source": []
  },
  {
   "cell_type": "code",
   "execution_count": null,
   "metadata": {},
   "outputs": [],
   "source": []
  },
  {
   "cell_type": "code",
   "execution_count": null,
   "metadata": {},
   "outputs": [],
   "source": []
  },
  {
   "cell_type": "code",
   "execution_count": null,
   "metadata": {},
   "outputs": [],
   "source": []
  },
  {
   "cell_type": "code",
   "execution_count": null,
   "metadata": {},
   "outputs": [],
   "source": []
  },
  {
   "cell_type": "code",
   "execution_count": null,
   "metadata": {},
   "outputs": [],
   "source": []
  },
  {
   "cell_type": "code",
   "execution_count": null,
   "metadata": {},
   "outputs": [],
   "source": []
  },
  {
   "cell_type": "code",
   "execution_count": null,
   "metadata": {},
   "outputs": [],
   "source": []
  },
  {
   "cell_type": "code",
   "execution_count": null,
   "metadata": {},
   "outputs": [],
   "source": []
  },
  {
   "cell_type": "code",
   "execution_count": null,
   "metadata": {},
   "outputs": [],
   "source": []
  },
  {
   "cell_type": "code",
   "execution_count": null,
   "metadata": {},
   "outputs": [],
   "source": []
  },
  {
   "cell_type": "code",
   "execution_count": null,
   "metadata": {},
   "outputs": [],
   "source": []
  },
  {
   "cell_type": "code",
   "execution_count": null,
   "metadata": {},
   "outputs": [],
   "source": []
  },
  {
   "cell_type": "code",
   "execution_count": null,
   "metadata": {},
   "outputs": [],
   "source": []
  },
  {
   "cell_type": "code",
   "execution_count": null,
   "metadata": {},
   "outputs": [],
   "source": []
  },
  {
   "cell_type": "code",
   "execution_count": null,
   "metadata": {},
   "outputs": [],
   "source": []
  }
 ],
 "metadata": {
  "kernelspec": {
   "display_name": "Python 3",
   "language": "python",
   "name": "python3"
  },
  "language_info": {
   "codemirror_mode": {
    "name": "ipython",
    "version": 3
   },
   "file_extension": ".py",
   "mimetype": "text/x-python",
   "name": "python",
   "nbconvert_exporter": "python",
   "pygments_lexer": "ipython3",
   "version": "3.7.4"
  }
 },
 "nbformat": 4,
 "nbformat_minor": 2
}
