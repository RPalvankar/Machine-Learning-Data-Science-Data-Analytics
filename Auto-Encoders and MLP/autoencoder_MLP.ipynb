{
 "cells": [
  {
   "cell_type": "code",
   "execution_count": 74,
   "metadata": {
    "colab": {
     "base_uri": "https://localhost:8080/"
    },
    "id": "q4MjKeJVBxRH",
    "outputId": "10d99e22-ad15-45fc-a097-b5523a700437"
   },
   "outputs": [],
   "source": [
    "import tensorflow as tf\n",
    "import keras\n",
    "import keras.utils\n",
    "from keras import utils as np_utils\n",
    "\n",
    "from tensorflow.keras import layers\n",
    "# Helper libraries\n",
    "import numpy as np\n",
    "import matplotlib.pyplot as plt\n",
    "from sklearn.model_selection import train_test_split\n",
    "from sklearn.metrics import confusion_matrix\n",
    "\n"
   ]
  },
  {
   "cell_type": "markdown",
   "metadata": {},
   "source": [
    "# Train-Test split"
   ]
  },
  {
   "cell_type": "code",
   "execution_count": 75,
   "metadata": {
    "id": "_PtwWK0avnjF"
   },
   "outputs": [],
   "source": [
    "from keras.datasets import fashion_mnist\n",
    "\n",
    "(x_train, y_train), (x_test, y_test) = fashion_mnist.load_data()"
   ]
  },
  {
   "cell_type": "markdown",
   "metadata": {},
   "source": [
    "# Pre-Processing"
   ]
  },
  {
   "cell_type": "code",
   "execution_count": 76,
   "metadata": {
    "colab": {
     "base_uri": "https://localhost:8080/"
    },
    "id": "c2aP-dqLvqpp",
    "outputId": "4bb9359e-7a4d-4ccc-db32-61ea5017fcba"
   },
   "outputs": [
    {
     "name": "stdout",
     "output_type": "stream",
     "text": [
      "(60000, 784)\n",
      "(10000, 784)\n"
     ]
    }
   ],
   "source": [
    "x_train = x_train.astype('float32') / 255.\n",
    "x_test = x_test.astype('float32') / 255.\n",
    "x_train = x_train.reshape((len(x_train), np.prod(x_train.shape[1:])))\n",
    "x_test = x_test.reshape((len(x_test), np.prod(x_test.shape[1:])))\n",
    "print(x_train.shape)\n",
    "print(x_test.shape)"
   ]
  },
  {
   "cell_type": "markdown",
   "metadata": {},
   "source": [
    "# Encoder and Decoder "
   ]
  },
  {
   "cell_type": "code",
   "execution_count": 77,
   "metadata": {
    "id": "9aJBHB1yB7Uf"
   },
   "outputs": [],
   "source": [
    "input_img = tf.keras.Input(shape=(784,))\n",
    "\n",
    "def encoder(input_img):\n",
    "  encoded = layers.Dense(500, activation='relu')(input_img)\n",
    "  encoded = layers.Dense(200, activation='relu')(encoded)\n",
    "  encoded = layers.Dense(5, activation='relu')(encoded)\n",
    "  return encoded\n",
    " \n",
    "def decoder(encoded):\n",
    "  decoded = layers.Dense(200, activation='relu')(encoded)\n",
    "  decoded = layers.Dense(500, activation='relu')(decoded)\n",
    "  decoded = layers.Dense(784, activation='sigmoid')(decoded)\n",
    "  return decoded"
   ]
  },
  {
   "cell_type": "code",
   "execution_count": 78,
   "metadata": {
    "id": "Pdar4up_CIjk"
   },
   "outputs": [],
   "source": [
    "autoencoder = tf.keras.Model(input_img, decoder(encoder(input_img)))"
   ]
  },
  {
   "cell_type": "code",
   "execution_count": 79,
   "metadata": {
    "id": "Vyuaba7t3W0A"
   },
   "outputs": [],
   "source": [
    "adam = keras.optimizers.Adam(learning_rate=0.001)"
   ]
  },
  {
   "cell_type": "code",
   "execution_count": 80,
   "metadata": {
    "id": "_DQqte_mvf_v"
   },
   "outputs": [],
   "source": [
    "autoencoder.compile(optimizer='adam', loss='mse')"
   ]
  },
  {
   "cell_type": "code",
   "execution_count": 81,
   "metadata": {
    "colab": {
     "base_uri": "https://localhost:8080/"
    },
    "id": "TUQEMeSfvuJd",
    "outputId": "a9e024c8-56b9-499b-a7f3-0866cb83fc47",
    "scrolled": true
   },
   "outputs": [
    {
     "name": "stdout",
     "output_type": "stream",
     "text": [
      "Train on 60000 samples, validate on 10000 samples\n",
      "Epoch 1/25\n",
      "60000/60000 [==============================] - 4s 60us/sample - loss: 0.0481 - val_loss: 0.0313\n",
      "Epoch 2/25\n",
      "60000/60000 [==============================] - 3s 49us/sample - loss: 0.0283 - val_loss: 0.0262\n",
      "Epoch 3/25\n",
      "60000/60000 [==============================] - 3s 50us/sample - loss: 0.0256 - val_loss: 0.0249\n",
      "Epoch 4/25\n",
      "60000/60000 [==============================] - 3s 50us/sample - loss: 0.0247 - val_loss: 0.0244\n",
      "Epoch 5/25\n",
      "60000/60000 [==============================] - 3s 51us/sample - loss: 0.0240 - val_loss: 0.0239\n",
      "Epoch 6/25\n",
      "60000/60000 [==============================] - 3s 51us/sample - loss: 0.0236 - val_loss: 0.0236\n",
      "Epoch 7/25\n",
      "60000/60000 [==============================] - 3s 52us/sample - loss: 0.0233 - val_loss: 0.0232\n",
      "Epoch 8/25\n",
      "60000/60000 [==============================] - 3s 52us/sample - loss: 0.0230 - val_loss: 0.0230\n",
      "Epoch 9/25\n",
      "60000/60000 [==============================] - 3s 52us/sample - loss: 0.0227 - val_loss: 0.0229\n",
      "Epoch 10/25\n",
      "60000/60000 [==============================] - 3s 53us/sample - loss: 0.0225 - val_loss: 0.0225\n",
      "Epoch 11/25\n",
      "60000/60000 [==============================] - 3s 55us/sample - loss: 0.0223 - val_loss: 0.0224\n",
      "Epoch 12/25\n",
      "60000/60000 [==============================] - 3s 53us/sample - loss: 0.0221 - val_loss: 0.0222\n",
      "Epoch 13/25\n",
      "60000/60000 [==============================] - 3s 54us/sample - loss: 0.0219 - val_loss: 0.0224\n",
      "Epoch 14/25\n",
      "60000/60000 [==============================] - 3s 54us/sample - loss: 0.0218 - val_loss: 0.0222\n",
      "Epoch 15/25\n",
      "60000/60000 [==============================] - 3s 54us/sample - loss: 0.0217 - val_loss: 0.0221\n",
      "Epoch 16/25\n",
      "60000/60000 [==============================] - 3s 55us/sample - loss: 0.0215 - val_loss: 0.0218\n",
      "Epoch 17/25\n",
      "60000/60000 [==============================] - 3s 55us/sample - loss: 0.0214 - val_loss: 0.0219\n",
      "Epoch 18/25\n",
      "60000/60000 [==============================] - 3s 55us/sample - loss: 0.0213 - val_loss: 0.0216\n",
      "Epoch 19/25\n",
      "60000/60000 [==============================] - 3s 56us/sample - loss: 0.0212 - val_loss: 0.0215\n",
      "Epoch 20/25\n",
      "60000/60000 [==============================] - 3s 58us/sample - loss: 0.0211 - val_loss: 0.0215\n",
      "Epoch 21/25\n",
      "60000/60000 [==============================] - 3s 57us/sample - loss: 0.0210 - val_loss: 0.0214\n",
      "Epoch 22/25\n",
      "60000/60000 [==============================] - 3s 56us/sample - loss: 0.0210 - val_loss: 0.0212\n",
      "Epoch 23/25\n",
      "60000/60000 [==============================] - 3s 56us/sample - loss: 0.0209 - val_loss: 0.0215\n",
      "Epoch 24/25\n",
      "60000/60000 [==============================] - 3s 56us/sample - loss: 0.0208 - val_loss: 0.0213\n",
      "Epoch 25/25\n",
      "60000/60000 [==============================] - 3s 56us/sample - loss: 0.0207 - val_loss: 0.0212\n"
     ]
    }
   ],
   "source": [
    "autoencoder_train = autoencoder.fit(x_train, x_train,\n",
    "                epochs=25,\n",
    "                batch_size=256,\n",
    "                shuffle=True,\n",
    "                validation_data=(x_test, x_test))"
   ]
  },
  {
   "cell_type": "code",
   "execution_count": 82,
   "metadata": {
    "id": "lhFOaQfNyykz"
   },
   "outputs": [],
   "source": [
    "encoded_imgs = autoencoder.predict(x_test)"
   ]
  },
  {
   "cell_type": "code",
   "execution_count": 83,
   "metadata": {
    "colab": {
     "base_uri": "https://localhost:8080/",
     "height": 248
    },
    "id": "WDPtENZdy--R",
    "outputId": "9284fc9a-8a25-40e3-a542-3274787d08d8"
   },
   "outputs": [
    {
     "data": {
      "image/png": "[encoded data removed]",
      "text/plain": [
       "<Figure size 1440x288 with 20 Axes>"
      ]
     },
     "metadata": {
      "needs_background": "light"
     },
     "output_type": "display_data"
    }
   ],
   "source": [
    "# Use Matplotlib \n",
    "import matplotlib.pyplot as plt\n",
    "\n",
    "n = 10  # How many digits we will display\n",
    "plt.figure(figsize=(20, 4))\n",
    "for i in range(n):\n",
    "    # Display original\n",
    "    ax = plt.subplot(2, n, i + 1)\n",
    "    plt.imshow(x_test[i].reshape(28, 28))\n",
    "    plt.gray()\n",
    "    ax.get_xaxis().set_visible(False)\n",
    "    ax.get_yaxis().set_visible(False)\n",
    "\n",
    "    # Display reconstruction\n",
    "    ax = plt.subplot(2, n, i + 1 + n)\n",
    "    plt.imshow(encoded_imgs[i].reshape(28, 28))\n",
    "    plt.gray()\n",
    "    ax.get_xaxis().set_visible(False)\n",
    "    ax.get_yaxis().set_visible(False)\n",
    "plt.show()"
   ]
  },
  {
   "cell_type": "code",
   "execution_count": 84,
   "metadata": {
    "colab": {
     "base_uri": "https://localhost:8080/",
     "height": 281
    },
    "id": "71HMZ9Mvaego",
    "outputId": "f371a354-5396-49a5-a146-84cf548005f9"
   },
   "outputs": [
    {
     "data": {
      "image/png": "[encoded data removed]",
      "text/plain": [
       "<Figure size 432x288 with 1 Axes>"
      ]
     },
     "metadata": {
      "needs_background": "light"
     },
     "output_type": "display_data"
    }
   ],
   "source": [
    "loss = autoencoder_train.history['loss']\n",
    "val_loss = autoencoder_train.history['val_loss']\n",
    "epochs = range(25) \n",
    "plt.figure()\n",
    "plt.plot(epochs, loss, 'bo', label='Training loss')\n",
    "plt.plot(epochs, val_loss, 'b', label='Validation loss')\n",
    "plt.title('Training and validation loss')\n",
    "plt.legend()\n",
    "plt.show()"
   ]
  },
  {
   "cell_type": "code",
   "execution_count": 85,
   "metadata": {
    "id": "2So5EKtezCCi"
   },
   "outputs": [],
   "source": [
    "import keras\n",
    "import keras.utils\n",
    "from keras import utils as np_utils"
   ]
  },
  {
   "cell_type": "code",
   "execution_count": 86,
   "metadata": {
    "id": "njwnx99bP4-f"
   },
   "outputs": [],
   "source": [
    "# This is a mlp classification code with features reduced by an Autoencoder\n",
    "\n",
    "from keras.models import Sequential\n",
    "from keras.layers import Input, Dense\n",
    "from keras.models import Model\n",
    "from sklearn.preprocessing import MinMaxScaler\n",
    "from sklearn.model_selection import train_test_split\n",
    "import numpy as np\n"
   ]
  },
  {
   "cell_type": "markdown",
   "metadata": {},
   "source": [
    "# One-hot encoding"
   ]
  },
  {
   "cell_type": "code",
   "execution_count": 87,
   "metadata": {
    "colab": {
     "base_uri": "https://localhost:8080/"
    },
    "id": "wBWiqO1MhgQT",
    "outputId": "727d15fb-78f8-413c-d867-c4d661a7eede"
   },
   "outputs": [],
   "source": [
    "train_y_one_hot = tf.keras.utils.to_categorical(y_train)\n",
    "test_y_one_hot = tf.keras.utils.to_categorical(y_test)\n",
    "# print('Original label:', y_train[0])\n",
    "# print('After conversion to one-hot:', train_y_one_hot[0])"
   ]
  },
  {
   "cell_type": "code",
   "execution_count": 88,
   "metadata": {
    "id": "TTmpyl4UhhmC"
   },
   "outputs": [],
   "source": [
    "train_X, valid_X, train_label, valid_label = train_test_split(x_train, train_y_one_hot, test_size=0.2, random_state =42)"
   ]
  },
  {
   "cell_type": "code",
   "execution_count": 89,
   "metadata": {
    "id": "KHeGlTTPjpRP"
   },
   "outputs": [],
   "source": [
    "def classifier(encoder):\n",
    "  flat = tf.keras.layers.Flatten()(encoder)\n",
    "  dense = tf.keras.layers.Dense(128, activation='relu')(flat)\n",
    "  output = tf.keras.layers.Dense(10, activation='softmax')(dense)\n",
    "  return output"
   ]
  },
  {
   "cell_type": "code",
   "execution_count": 90,
   "metadata": {
    "colab": {
     "base_uri": "https://localhost:8080/"
    },
    "id": "UDBZYm4dksPn",
    "outputId": "c0086f9c-c1ad-4fb1-b882-23ecdf270923"
   },
   "outputs": [
    {
     "name": "stdout",
     "output_type": "stream",
     "text": [
      "Model: \"model_4\"\n",
      "_________________________________________________________________\n",
      "Layer (type)                 Output Shape              Param #   \n",
      "=================================================================\n",
      "input_3 (InputLayer)         [(None, 784)]             0         \n",
      "_________________________________________________________________\n",
      "dense_23 (Dense)             (None, 500)               392500    \n",
      "_________________________________________________________________\n",
      "dense_24 (Dense)             (None, 200)               100200    \n",
      "_________________________________________________________________\n",
      "dense_25 (Dense)             (None, 5)                 1005      \n",
      "_________________________________________________________________\n",
      "flatten_1 (Flatten)          (None, 5)                 0         \n",
      "_________________________________________________________________\n",
      "dense_26 (Dense)             (None, 128)               768       \n",
      "_________________________________________________________________\n",
      "dense_27 (Dense)             (None, 10)                1290      \n",
      "=================================================================\n",
      "Total params: 495,763\n",
      "Trainable params: 495,763\n",
      "Non-trainable params: 0\n",
      "_________________________________________________________________\n"
     ]
    }
   ],
   "source": [
    "model = tf.keras.Model(input_img, classifier(encoder(input_img)))\n",
    "model.summary()"
   ]
  },
  {
   "cell_type": "code",
   "execution_count": 91,
   "metadata": {
    "id": "-KzDVN6Dk6cE"
   },
   "outputs": [],
   "source": [
    "model.compile(loss = tf.keras.losses.categorical_crossentropy, optimizer=tf.keras.optimizers.Adam(), metrics=['accuracy'])"
   ]
  },
  {
   "cell_type": "code",
   "execution_count": 92,
   "metadata": {
    "colab": {
     "base_uri": "https://localhost:8080/"
    },
    "id": "gAHzBBQslJJ9",
    "outputId": "3219dcf0-4399-49bc-91a2-541a10ccd5b5",
    "scrolled": true
   },
   "outputs": [
    {
     "name": "stdout",
     "output_type": "stream",
     "text": [
      "Train on 48000 samples, validate on 12000 samples\n",
      "Epoch 1/25\n",
      "48000/48000 [==============================] - 2s 45us/sample - loss: 0.7219 - accuracy: 0.7446 - val_loss: 0.4913 - val_accuracy: 0.8177\n",
      "Epoch 2/25\n",
      "48000/48000 [==============================] - 2s 34us/sample - loss: 0.4298 - accuracy: 0.8453 - val_loss: 0.3904 - val_accuracy: 0.8580\n",
      "Epoch 3/25\n",
      "48000/48000 [==============================] - 2s 35us/sample - loss: 0.3724 - accuracy: 0.8673 - val_loss: 0.3625 - val_accuracy: 0.8700\n",
      "Epoch 4/25\n",
      "48000/48000 [==============================] - 2s 35us/sample - loss: 0.3461 - accuracy: 0.8756 - val_loss: 0.3423 - val_accuracy: 0.8763\n",
      "Epoch 5/25\n",
      "48000/48000 [==============================] - 2s 34us/sample - loss: 0.3209 - accuracy: 0.8829 - val_loss: 0.3501 - val_accuracy: 0.8747\n",
      "Epoch 6/25\n",
      "48000/48000 [==============================] - 2s 34us/sample - loss: 0.2995 - accuracy: 0.8898 - val_loss: 0.3290 - val_accuracy: 0.8808\n",
      "Epoch 7/25\n",
      "48000/48000 [==============================] - 2s 35us/sample - loss: 0.2857 - accuracy: 0.8949 - val_loss: 0.3317 - val_accuracy: 0.8811\n",
      "Epoch 8/25\n",
      "48000/48000 [==============================] - 2s 34us/sample - loss: 0.2677 - accuracy: 0.9017 - val_loss: 0.3175 - val_accuracy: 0.8867\n",
      "Epoch 9/25\n",
      "48000/48000 [==============================] - 2s 35us/sample - loss: 0.2598 - accuracy: 0.9046 - val_loss: 0.3281 - val_accuracy: 0.8848\n",
      "Epoch 10/25\n",
      "48000/48000 [==============================] - 2s 34us/sample - loss: 0.2491 - accuracy: 0.9074 - val_loss: 0.3453 - val_accuracy: 0.8770\n",
      "Epoch 11/25\n",
      "48000/48000 [==============================] - 2s 35us/sample - loss: 0.2412 - accuracy: 0.9103 - val_loss: 0.3279 - val_accuracy: 0.8838\n",
      "Epoch 12/25\n",
      "48000/48000 [==============================] - 2s 35us/sample - loss: 0.2318 - accuracy: 0.9136 - val_loss: 0.3510 - val_accuracy: 0.8818\n",
      "Epoch 13/25\n",
      "48000/48000 [==============================] - 2s 34us/sample - loss: 0.2230 - accuracy: 0.9157 - val_loss: 0.3333 - val_accuracy: 0.8827\n",
      "Epoch 14/25\n",
      "48000/48000 [==============================] - 2s 34us/sample - loss: 0.2143 - accuracy: 0.9207 - val_loss: 0.3252 - val_accuracy: 0.8876\n",
      "Epoch 15/25\n",
      "48000/48000 [==============================] - 2s 35us/sample - loss: 0.2058 - accuracy: 0.9231 - val_loss: 0.3533 - val_accuracy: 0.8817\n",
      "Epoch 16/25\n",
      "48000/48000 [==============================] - 2s 34us/sample - loss: 0.2011 - accuracy: 0.9261 - val_loss: 0.3266 - val_accuracy: 0.8909\n",
      "Epoch 17/25\n",
      "48000/48000 [==============================] - 2s 34us/sample - loss: 0.1912 - accuracy: 0.9290 - val_loss: 0.3333 - val_accuracy: 0.8886\n",
      "Epoch 18/25\n",
      "48000/48000 [==============================] - 2s 34us/sample - loss: 0.1914 - accuracy: 0.9303 - val_loss: 0.3333 - val_accuracy: 0.8917\n",
      "Epoch 19/25\n",
      "48000/48000 [==============================] - 2s 34us/sample - loss: 0.1829 - accuracy: 0.9312 - val_loss: 0.3560 - val_accuracy: 0.8880\n",
      "Epoch 20/25\n",
      "48000/48000 [==============================] - 2s 34us/sample - loss: 0.1747 - accuracy: 0.9347 - val_loss: 0.3485 - val_accuracy: 0.8898\n",
      "Epoch 21/25\n",
      "48000/48000 [==============================] - 2s 34us/sample - loss: 0.1750 - accuracy: 0.9349 - val_loss: 0.3412 - val_accuracy: 0.8911\n",
      "Epoch 22/25\n",
      "48000/48000 [==============================] - 2s 34us/sample - loss: 0.1673 - accuracy: 0.9378 - val_loss: 0.3433 - val_accuracy: 0.8883\n",
      "Epoch 23/25\n",
      "48000/48000 [==============================] - 2s 34us/sample - loss: 0.1646 - accuracy: 0.9377 - val_loss: 0.3397 - val_accuracy: 0.8890\n",
      "Epoch 24/25\n",
      "48000/48000 [==============================] - 2s 34us/sample - loss: 0.1555 - accuracy: 0.9429 - val_loss: 0.3819 - val_accuracy: 0.8806\n",
      "Epoch 25/25\n",
      "48000/48000 [==============================] - 2s 34us/sample - loss: 0.1535 - accuracy: 0.9421 - val_loss: 0.3719 - val_accuracy: 0.8893\n"
     ]
    }
   ],
   "source": [
    "classify_train = model.fit(train_X, train_label, batch_size = 256, epochs=25, verbose=1, validation_data=(valid_X, valid_label))"
   ]
  },
  {
   "cell_type": "code",
   "execution_count": 93,
   "metadata": {
    "id": "ocvgPKy7pfrB"
   },
   "outputs": [],
   "source": [
    "test_eval = model.evaluate(x_test, test_y_one_hot, verbose=0)"
   ]
  },
  {
   "cell_type": "code",
   "execution_count": 94,
   "metadata": {
    "colab": {
     "base_uri": "https://localhost:8080/"
    },
    "id": "MrBsfU6KpyfZ",
    "outputId": "8094aac8-1319-4627-fbb4-3870da421be7"
   },
   "outputs": [
    {
     "name": "stdout",
     "output_type": "stream",
     "text": [
      "Test loss: 0.41349313932657245\n",
      "Test accuracy: 0.8807\n"
     ]
    }
   ],
   "source": [
    "print('Test loss:', test_eval[0])\n",
    "print('Test accuracy:', test_eval[1])"
   ]
  },
  {
   "cell_type": "code",
   "execution_count": 96,
   "metadata": {
    "colab": {
     "base_uri": "https://localhost:8080/",
     "height": 545
    },
    "id": "Bu2ZHKw2Ln6o",
    "outputId": "12e9f677-76b6-4afd-cc95-23f9a8d5c949"
   },
   "outputs": [
    {
     "data": {
      "image/png": "[encoded data removed]",
      "text/plain": [
       "<Figure size 432x288 with 1 Axes>"
      ]
     },
     "metadata": {
      "needs_background": "light"
     },
     "output_type": "display_data"
    },
    {
     "data": {
      "image/png": "[encoded data removed]",
      "text/plain": [
       "<Figure size 432x288 with 1 Axes>"
      ]
     },
     "metadata": {
      "needs_background": "light"
     },
     "output_type": "display_data"
    }
   ],
   "source": [
    "import matplotlib.pyplot as plt\n",
    "%matplotlib inline\n",
    "\n",
    "accuracy = classify_train.history['accuracy']\n",
    "val_accuracy = classify_train.history['val_accuracy']\n",
    "loss = classify_train.history['loss']\n",
    "val_loss = classify_train.history['val_loss']\n",
    "epochs = range(len(accuracy))\n",
    "\n",
    "plt.plot(epochs, accuracy, 'r', label='Training accuracy')\n",
    "plt.plot(epochs, val_accuracy, 'b', label='Validation accuracy')\n",
    "plt.title('Training and validation accuracy')\n",
    "plt.legend()\n",
    "plt.figure()\n",
    "\n",
    "plt.plot(epochs, loss, 'r', label='Training loss')\n",
    "plt.plot(epochs, val_loss, 'b', label='Validation loss')\n",
    "plt.title('Training and validation loss')\n",
    "plt.legend()\n",
    "plt.show()"
   ]
  },
  {
   "cell_type": "code",
   "execution_count": 97,
   "metadata": {
    "colab": {
     "base_uri": "https://localhost:8080/"
    },
    "id": "z9hRDhz0MFmy",
    "outputId": "4b84250f-02d8-4bc5-c084-670f15966db4"
   },
   "outputs": [
    {
     "name": "stdout",
     "output_type": "stream",
     "text": [
      "Train accuracy of the model:  0.942125\n",
      "Train loss of the model:  0.15346025065581004\n",
      "Validation accuracy of the model:  0.8893333\n",
      "Validation loss of the model:  0.37186372017860414\n"
     ]
    }
   ],
   "source": [
    "print('Train accuracy of the model: ',classify_train.history['accuracy'][-1])\n",
    "print('Train loss of the model: ',classify_train.history['loss'][-1])\n",
    "print('Validation accuracy of the model: ',classify_train.history['val_accuracy'][-1])\n",
    "print('Validation loss of the model: ',classify_train.history['val_loss'][-1])"
   ]
  },
  {
   "cell_type": "markdown",
   "metadata": {},
   "source": [
    "# Prediction"
   ]
  },
  {
   "cell_type": "code",
   "execution_count": 98,
   "metadata": {
    "id": "rA2Te5bRp6I0"
   },
   "outputs": [],
   "source": [
    "predicted_classes = model.predict(x_test)"
   ]
  },
  {
   "cell_type": "code",
   "execution_count": 99,
   "metadata": {
    "id": "nURgFRrbqBVs"
   },
   "outputs": [],
   "source": [
    "predicted_classes = np.argmax(np.round(predicted_classes),axis=1)"
   ]
  },
  {
   "cell_type": "code",
   "execution_count": 100,
   "metadata": {
    "colab": {
     "base_uri": "https://localhost:8080/"
    },
    "id": "9wnBVtHIqFNi",
    "outputId": "eade9474-1dcd-4469-85fa-c9a4defc428b"
   },
   "outputs": [
    {
     "data": {
      "text/plain": [
       "((10000,), (10000,))"
      ]
     },
     "execution_count": 100,
     "metadata": {},
     "output_type": "execute_result"
    }
   ],
   "source": [
    "predicted_classes.shape, y_test.shape"
   ]
  },
  {
   "cell_type": "markdown",
   "metadata": {},
   "source": [
    "# Plot correct labels"
   ]
  },
  {
   "cell_type": "code",
   "execution_count": 40,
   "metadata": {
    "colab": {
     "base_uri": "https://localhost:8080/",
     "height": 314
    },
    "id": "LCsN6wdKqlmt",
    "outputId": "47a2283f-e338-4513-fdd0-58d8292e24d4"
   },
   "outputs": [
    {
     "name": "stdout",
     "output_type": "stream",
     "text": [
      "Found 8850 correct labels\n"
     ]
    },
    {
     "data": {
      "image/png": "[encoded data removed]",
      "text/plain": [
       "<Figure size 432x288 with 9 Axes>"
      ]
     },
     "metadata": {
      "needs_background": "light"
     },
     "output_type": "display_data"
    }
   ],
   "source": [
    "correct = np.where(predicted_classes==y_test)[0]\n",
    "print (\"Found {} correct labels\".format(len(correct)))\n",
    "for i, correct in enumerate(correct[:9]):\n",
    "    plt.subplot(3,3,i+1)\n",
    "    plt.imshow(x_test[correct].reshape(28,28), cmap='gray', interpolation='none')\n",
    "    plt.title(\"Predicted {}, Class {}\".format(predicted_classes[correct], y_test[correct]))\n",
    "    plt.tight_layout()"
   ]
  },
  {
   "cell_type": "markdown",
   "metadata": {},
   "source": [
    "# Plot incorrect labels"
   ]
  },
  {
   "cell_type": "code",
   "execution_count": 41,
   "metadata": {
    "colab": {
     "base_uri": "https://localhost:8080/",
     "height": 314
    },
    "id": "rHV7VFTTq6tf",
    "outputId": "0f42cdf6-2507-43f8-b5f6-1e39002d1e1c",
    "scrolled": true
   },
   "outputs": [
    {
     "name": "stdout",
     "output_type": "stream",
     "text": [
      "Found 1150 incorrect labels\n"
     ]
    },
    {
     "data": {
      "image/png": "[encoded data removed]",
      "text/plain": [
       "<Figure size 432x288 with 9 Axes>"
      ]
     },
     "metadata": {
      "needs_background": "light"
     },
     "output_type": "display_data"
    }
   ],
   "source": [
    "incorrect = np.where(predicted_classes!=y_test)[0]\n",
    "print (\"Found {} incorrect labels\".format(len(incorrect)))\n",
    "for i, incorrect in enumerate(incorrect[:9]):\n",
    "    plt.subplot(3,3,i+1)\n",
    "    plt.imshow(x_test[incorrect].reshape(28,28), cmap='gray', interpolation='none')\n",
    "    plt.title(\"Predicted {}, Class {}\".format(predicted_classes[incorrect], y_test[incorrect]))\n",
    "    plt.tight_layout()"
   ]
  },
  {
   "cell_type": "markdown",
   "metadata": {},
   "source": [
    "# Confusion matrix"
   ]
  },
  {
   "cell_type": "code",
   "execution_count": 101,
   "metadata": {
    "colab": {
     "base_uri": "https://localhost:8080/"
    },
    "id": "95d6jVyRrStT",
    "outputId": "462efbe2-a7d3-496a-fe1a-779f8dcabee7"
   },
   "outputs": [
    {
     "data": {
      "text/plain": [
       "array([[833,   1,  10,  19,   2,   0, 122,   1,  11,   1],\n",
       "       [ 10, 959,   1,  20,   8,   0,   1,   0,   1,   0],\n",
       "       [ 65,   0, 807,  11,  69,   0,  42,   0,   6,   0],\n",
       "       [ 54,   5,   7, 883,  26,   0,  18,   0,   7,   0],\n",
       "       [ 42,   0, 100,  26, 769,   0,  50,   0,  13,   0],\n",
       "       [  0,   0,   0,   0,   0, 939,   0,  42,   0,  19],\n",
       "       [157,   0,  71,  21,  55,   0, 684,   0,  12,   0],\n",
       "       [  0,   0,   0,   0,   0,   4,   0, 978,   0,  18],\n",
       "       [ 11,   0,   3,   2,   0,   1,   2,  15, 964,   2],\n",
       "       [  0,   0,   0,   0,   0,   8,   1,  48,   0, 943]], dtype=int64)"
      ]
     },
     "execution_count": 101,
     "metadata": {},
     "output_type": "execute_result"
    }
   ],
   "source": [
    "import seaborn as sns\n",
    "confusion_mtx = confusion_matrix(y_test, predicted_classes) \n",
    "confusion_mtx"
   ]
  },
  {
   "cell_type": "markdown",
   "metadata": {},
   "source": [
    "# Part 2"
   ]
  },
  {
   "cell_type": "code",
   "execution_count": 284,
   "metadata": {},
   "outputs": [],
   "source": [
    "import tensorflow as tf\n",
    "import keras\n",
    "import keras.backend as K\n",
    "def qmi(y_true, y_pred):\n",
    "\n",
    "\ts = 0.1\n",
    "\n",
    "\tM1 = tf.shape(y_pred)[0]\n",
    "\n",
    "\tm1 = tf.cast(M1, 'float32')\n",
    "\n",
    "\ty_true = tf.cast(y_true, 'float32')\n",
    "\n",
    "\tpi = tf.cast(np.pi, 'float32')\n",
    "\n",
    "\ta1 = K.repeat(tf.transpose(y_pred), M1)\n",
    "\n",
    "\n",
    "\tb1 = tf.transpose(a1, perm=[0,2,1])\n",
    "\n",
    "\n",
    "\ta2 = K.repeat(tf.transpose(y_true), M1)\n",
    "\n",
    "\n",
    "\tb2 = tf.transpose(a2, perm=[0,2,1])\n",
    "\tv1_ij = K.exp(-K.sum(K.square(b1 - a1),axis=0) / 2*s**2) / (K.sqrt(2*pi)*s)\n",
    "\tv2_ij = K.exp(-K.sum(K.square(b2 - a2),axis=0) / 2*s**2) / (K.sqrt(2*pi)*s)\n",
    "\n",
    "\tv1_i=K.mean(v1_ij,axis=1)\n",
    "\tv2_i=K.mean(v2_ij,axis=1)\n",
    "\n",
    "\tv1=K.mean(v1_i)\n",
    "\tv2=K.mean(v2_i)\n",
    "\n",
    "\tvj=K.sum(v1_ij*v2_ij)/(m1**2)\n",
    "\tvm=v1*v2\n",
    "\tvc=K.mean(v1_i*v2_i)\n",
    "\n",
    "\tcost=vj+vm-(2*vc)\n",
    "\n",
    "\treturn -cost"
   ]
  },
  {
   "cell_type": "markdown",
   "metadata": {},
   "source": [
    "# Passing the encoder output through the MLP classifier "
   ]
  },
  {
   "cell_type": "code",
   "execution_count": 285,
   "metadata": {},
   "outputs": [],
   "source": [
    "train_y_one_hot = tf.keras.utils.to_categorical(y_train)\n",
    "test_y_one_hot = tf.keras.utils.to_categorical(y_test)"
   ]
  },
  {
   "cell_type": "code",
   "execution_count": 286,
   "metadata": {},
   "outputs": [
    {
     "data": {
      "text/plain": [
       "(10000, 784)"
      ]
     },
     "execution_count": 286,
     "metadata": {},
     "output_type": "execute_result"
    }
   ],
   "source": [
    "x_test.shape"
   ]
  },
  {
   "cell_type": "code",
   "execution_count": 287,
   "metadata": {},
   "outputs": [],
   "source": [
    "from keras.models import Sequential\n",
    "from keras.layers import Dense,Dropout\n",
    "from keras.optimizers import Adam,SGD\n",
    "def create_model(bottleneck,input_dim=28*28,M=None):\n",
    "    model=Sequential()\n",
    "    model.add(Dense(500,activation='relu',input_shape=(input_dim,)))\n",
    "    #model.add(Dropout(0.4))\n",
    "    model.add(Dense(200,activation='relu'))\n",
    "    #model.add(Dropout(0.4))\n",
    "    model.add(Dense(bottleneck,activation=M))\n",
    "    #model.add(Dense(n_out,activation='sigmoid'))\n",
    "    optimizer=Adam(learning_rate=-0.001)\n",
    "    model.compile(optimizer=optimizer,loss=qmi)\n",
    "    #model.fit(x_train,train_y_one_hot,epochs=25,batch_size=200,verbose=1,validation_data=(x_test,test_y_one_hot))\n",
    "    return model"
   ]
  },
  {
   "cell_type": "code",
   "execution_count": 291,
   "metadata": {
    "scrolled": true
   },
   "outputs": [
    {
     "name": "stdout",
     "output_type": "stream",
     "text": [
      "Train on 60000 samples, validate on 10000 samples\n",
      "Epoch 1/25\n",
      "60000/60000 [==============================] - 5s 76us/step - loss: -9.6703e-06 - val_loss: -1.1597e-05\n",
      "Epoch 2/25\n",
      "60000/60000 [==============================] - 4s 69us/step - loss: 4.4187e-06 - val_loss: 5.0354e-06\n",
      "Epoch 3/25\n",
      "60000/60000 [==============================] - 4s 70us/step - loss: 2.6004e-06 - val_loss: 4.0436e-06\n",
      "Epoch 4/25\n",
      "60000/60000 [==============================] - 4s 70us/step - loss: 6.1480e-06 - val_loss: 5.9891e-06\n",
      "Epoch 5/25\n",
      "60000/60000 [==============================] - 4s 72us/step - loss: 2.1553e-06 - val_loss: -9.9182e-07\n",
      "Epoch 6/25\n",
      "60000/60000 [==============================] - 4s 72us/step - loss: -3.8783e-06 - val_loss: -5.2643e-06\n",
      "Epoch 7/25\n",
      "60000/60000 [==============================] - 4s 73us/step - loss: -7.9600e-06 - val_loss: -9.2697e-06\n",
      "Epoch 8/25\n",
      "60000/60000 [==============================] - 4s 73us/step - loss: -1.0223e-05 - val_loss: -1.0529e-05\n",
      "Epoch 9/25\n",
      "60000/60000 [==============================] - 4s 73us/step - loss: -1.1272e-05 - val_loss: -1.1940e-05\n",
      "Epoch 10/25\n",
      "60000/60000 [==============================] - 4s 74us/step - loss: -1.2366e-05 - val_loss: -1.2856e-05\n",
      "Epoch 11/25\n",
      "60000/60000 [==============================] - 4s 73us/step - loss: -1.2519e-05 - val_loss: -1.2817e-05\n",
      "Epoch 12/25\n",
      "60000/60000 [==============================] - 4s 74us/step - loss: -1.2754e-05 - val_loss: -1.2779e-05\n",
      "Epoch 13/25\n",
      "60000/60000 [==============================] - 4s 75us/step - loss: -1.3078e-05 - val_loss: -1.3123e-05\n",
      "Epoch 14/25\n",
      "60000/60000 [==============================] - 4s 74us/step - loss: -1.3072e-05 - val_loss: -1.2932e-05\n",
      "Epoch 15/25\n",
      "60000/60000 [==============================] - 4s 74us/step - loss: -1.3307e-05 - val_loss: -1.3084e-05\n",
      "Epoch 16/25\n",
      "60000/60000 [==============================] - 4s 74us/step - loss: -1.3390e-05 - val_loss: -1.3008e-05\n",
      "Epoch 17/25\n",
      "60000/60000 [==============================] - 4s 74us/step - loss: -1.3218e-05 - val_loss: -1.3008e-05\n",
      "Epoch 18/25\n",
      "60000/60000 [==============================] - 4s 74us/step - loss: -1.3237e-05 - val_loss: -1.3123e-05\n",
      "Epoch 19/25\n",
      "60000/60000 [==============================] - 4s 74us/step - loss: -1.3142e-05 - val_loss: -1.2970e-05\n",
      "Epoch 20/25\n",
      "60000/60000 [==============================] - 4s 75us/step - loss: -1.3409e-05 - val_loss: -1.3084e-05\n",
      "Epoch 21/25\n",
      "60000/60000 [==============================] - 4s 75us/step - loss: -1.3282e-05 - val_loss: -1.3199e-05\n",
      "Epoch 22/25\n",
      "60000/60000 [==============================] - 4s 74us/step - loss: -1.3199e-05 - val_loss: -1.3351e-05\n",
      "Epoch 23/25\n",
      "60000/60000 [==============================] - 4s 74us/step - loss: -1.3472e-05 - val_loss: -1.3390e-05\n",
      "Epoch 24/25\n",
      "60000/60000 [==============================] - 4s 74us/step - loss: -1.3485e-05 - val_loss: -1.3351e-05\n",
      "Epoch 25/25\n",
      "60000/60000 [==============================] - 4s 74us/step - loss: -1.3161e-05 - val_loss: -1.3199e-05\n"
     ]
    }
   ],
   "source": [
    "H=create_model(20,input_dim=28*28)\n",
    "K=H.fit(x_train,train_y_one_hot,epochs=25,batch_size=200,verbose=1,validation_data=(x_test,test_y_one_hot))"
   ]
  },
  {
   "cell_type": "code",
   "execution_count": 293,
   "metadata": {},
   "outputs": [
    {
     "data": {
      "image/png": "[encoded data removed]",
      "text/plain": [
       "<Figure size 432x288 with 1 Axes>"
      ]
     },
     "metadata": {
      "needs_background": "light"
     },
     "output_type": "display_data"
    }
   ],
   "source": [
    "loss=np.asarray(K.history['loss'])\n",
    "import matplotlib.pyplot as plt\n",
    "%matplotlib inline\n",
    "plt.plot(loss)\n",
    "plt.title('Quadratic mutual information vs Epochs')\n",
    "plt.xlabel('Epochs')\n",
    "plt.ylabel('QMI');"
   ]
  },
  {
   "cell_type": "code",
   "execution_count": 294,
   "metadata": {},
   "outputs": [
    {
     "name": "stdout",
     "output_type": "stream",
     "text": [
      "(6000, 784)\n",
      "(6000, 784)\n",
      "(6000, 784)\n",
      "(6000, 784)\n",
      "(6000, 784)\n",
      "(6000, 784)\n",
      "(6000, 784)\n",
      "(6000, 784)\n",
      "(6000, 784)\n",
      "(6000, 784)\n",
      "(10, 6000, 784)\n"
     ]
    }
   ],
   "source": [
    "train_labels = np.argmax(train_y_one_hot, axis = 1) \n",
    "labels_all = [0,1,2,3,4,5,6,7,8,9]\n",
    "\n",
    "X_train_individual_classes = []\n",
    "for i in labels_all:\n",
    "  idx = np.where(train_labels == i)\n",
    "  X_train_temp = x_train[idx,:]\n",
    "  X_train_temp = X_train_temp.reshape(X_train_temp.shape[1],X_train_temp.shape[2])\n",
    "  print(X_train_temp.shape)\n",
    "  X_train_individual_classes.append(X_train_temp)\n",
    "X_train_individual_classes = np.array(X_train_individual_classes)\n",
    "print(X_train_individual_classes.shape)"
   ]
  },
  {
   "cell_type": "code",
   "execution_count": 295,
   "metadata": {},
   "outputs": [
    {
     "name": "stdout",
     "output_type": "stream",
     "text": [
      "Mean:\n",
      "(20,)\n",
      "[ 9.99271106e-06 -2.69259363e-06  2.60623365e-05 -6.61962122e-06\n",
      " -3.60674971e-06  1.38541309e-05 -1.34064667e-05  2.24173946e-05\n",
      "  2.35384214e-05 -1.46780349e-05  1.09473103e-05  6.80201174e-06\n",
      " -1.20491795e-05  1.88261783e-05  1.44008482e-05  4.30704495e-06\n",
      "  2.72532707e-05 -1.53434630e-05  5.07090635e-06 -3.69401710e-06]\n",
      "Covar:\n",
      "(20, 20)\n",
      "[[ 7.29640787e-07  1.65040541e-08  2.94954718e-07  1.87012122e-07\n",
      "  -2.60989489e-07 -3.89313437e-08  6.20350221e-08  5.98634498e-08\n",
      "   1.09675205e-07 -2.36499155e-07  3.25169217e-08  2.15629892e-07\n",
      "  -1.71269067e-07  2.90385832e-08  1.92343573e-07 -8.80513148e-08\n",
      "   2.89154229e-07 -2.13090654e-09  9.64742581e-08  4.02348409e-08]\n",
      " [ 1.65040541e-08  5.11862873e-07 -2.29090347e-07  1.48282504e-07\n",
      "   2.38652791e-07  4.53794351e-08  1.41401273e-07  1.35988753e-07\n",
      "   6.98556482e-09 -5.26838724e-08  8.86695953e-11  6.37644043e-08\n",
      "   4.76892098e-08  7.49344483e-09  2.14450176e-08 -3.10198674e-08\n",
      "  -2.54721318e-07 -3.61548640e-08 -3.29821790e-07 -6.26267102e-08]\n",
      " [ 2.94954718e-07 -2.29090347e-07  8.31430924e-07 -2.38536177e-07\n",
      "  -1.80516680e-07 -2.20645315e-10 -1.22067206e-07  5.59599651e-08\n",
      "   2.10835533e-07  9.43694684e-09  1.48977783e-07  8.92559669e-08\n",
      "  -2.35738707e-07  1.79602678e-07  2.81187843e-07 -1.06817887e-07\n",
      "   5.94849026e-07  7.14402784e-08  2.95253393e-07  7.20253923e-09]\n",
      " [ 1.87012122e-07  1.48282504e-07 -2.38536177e-07  1.08042884e-06\n",
      "   4.76382254e-07 -1.17708673e-07  3.18168698e-07  2.18194091e-07\n",
      "  -1.53483063e-07 -5.56902388e-07 -2.93935222e-07  1.99889170e-07\n",
      "   1.75986990e-07 -2.03832243e-07 -1.57520770e-07  3.29452085e-07\n",
      "  -2.65732987e-07 -2.15369088e-07 -5.51555919e-07 -2.87178215e-08]\n",
      " [-2.60989489e-07  2.38652791e-07 -1.80516680e-07  4.76382254e-07\n",
      "   1.18080136e-06 -1.32731671e-08  3.49725297e-07  4.57666466e-07\n",
      "   4.77645022e-10 -3.17299223e-07 -1.67162407e-07  4.38106460e-08\n",
      "   2.47002161e-07 -2.45857027e-08 -2.90625302e-07  4.14347376e-07\n",
      "  -4.34854778e-07 -1.10107482e-07 -7.13644562e-07 -1.32917133e-07]\n",
      " [-3.89313437e-08  4.53794351e-08 -2.20645315e-10 -1.17708673e-07\n",
      "  -1.32731671e-08  4.69861267e-07 -1.38072008e-07  3.15895058e-10\n",
      "   7.44239674e-08  2.29355021e-07  1.04921758e-07 -1.08470257e-07\n",
      "   1.40200027e-08  2.00015724e-08 -1.28881666e-07  2.53135990e-08\n",
      "  -5.64372594e-08 -6.54319313e-08  5.13624512e-08 -8.24423430e-08]\n",
      " [ 6.20350221e-08  1.41401273e-07 -1.22067206e-07  3.18168698e-07\n",
      "   3.49725297e-07 -1.38072008e-07  6.55010466e-07  3.45623817e-07\n",
      "  -1.05104106e-07 -3.59108574e-07 -3.73009136e-07  2.19576833e-07\n",
      "   1.76334095e-07 -2.60235260e-08 -1.93982006e-07  4.12349299e-08\n",
      "  -3.15519995e-07 -7.03481016e-08 -5.52778299e-07  1.78201854e-07]\n",
      " [ 5.98634498e-08  1.35988753e-07  5.59599651e-08  2.18194091e-07\n",
      "   4.57666466e-07  3.15895058e-10  3.45623817e-07  9.85452699e-07\n",
      "   9.51572196e-08 -6.73150953e-07 -1.01266088e-07  3.28992893e-07\n",
      "  -1.61456142e-07  2.04454677e-07 -1.13865145e-07  1.57311502e-07\n",
      "  -8.39266068e-08 -2.93722014e-08 -6.06906092e-07 -7.73463888e-08]\n",
      " [ 1.09675205e-07  6.98556482e-09  2.10835533e-07 -1.53483063e-07\n",
      "   4.77645022e-10  7.44239674e-08 -1.05104106e-07  9.51572196e-08\n",
      "   5.38646268e-07 -6.81184430e-08  6.94923619e-08 -3.55052996e-08\n",
      "   6.83832718e-08  5.54534071e-08  2.32205722e-07  2.48296236e-08\n",
      "   1.12313591e-07  1.60164733e-07  2.10182723e-07 -7.97275111e-09]\n",
      " [-2.36499155e-07 -5.26838724e-08  9.43694684e-09 -5.56902388e-07\n",
      "  -3.17299223e-07  2.29355021e-07 -3.59108574e-07 -6.73150953e-07\n",
      "  -6.81184430e-08  1.03726584e-06  3.50360445e-07 -3.91155910e-07\n",
      "   6.85374240e-08 -6.73701378e-08  1.46436998e-07 -1.65945450e-07\n",
      "   1.20060940e-07  7.77086109e-08  6.21314097e-07 -8.22415514e-08]\n",
      " [ 3.25169217e-08  8.86695953e-11  1.48977783e-07 -2.93935222e-07\n",
      "  -1.67162407e-07  1.04921758e-07 -3.73009136e-07 -1.01266088e-07\n",
      "   6.94923619e-08  3.50360445e-07  6.69345094e-07 -1.72515218e-07\n",
      "  -5.60852716e-08  3.55707297e-08  2.59773510e-07 -7.33445662e-08\n",
      "   2.52722511e-07  1.10410985e-07  4.81975392e-07 -2.93533154e-07]\n",
      " [ 2.15629892e-07  6.37644043e-08  8.92559669e-08  1.99889170e-07\n",
      "   4.38106460e-08 -1.08470257e-07  2.19576833e-07  3.28992893e-07\n",
      "  -3.55052996e-08 -3.91155910e-07 -1.72515218e-07  7.55322354e-07\n",
      "  -3.35966748e-07 -4.20663431e-08 -1.95391702e-07 -1.74105697e-07\n",
      "   1.62339123e-07  2.01848811e-07 -4.88073497e-07  1.87308274e-07]\n",
      " [-1.71269067e-07  4.76892098e-08 -2.35738707e-07  1.75986990e-07\n",
      "   2.47002161e-07  1.40200027e-08  1.76334095e-07 -1.61456142e-07\n",
      "   6.83832718e-08  6.85374240e-08 -5.60852716e-08 -3.35966748e-07\n",
      "   8.18817787e-07 -9.85808986e-08  1.47286327e-08  1.70842430e-07\n",
      "  -4.81899499e-07 -6.17687102e-08 -3.26571573e-08 -1.24959787e-08]\n",
      " [ 2.90385832e-08  7.49344483e-09  1.79602678e-07 -2.03832243e-07\n",
      "  -2.45857027e-08  2.00015724e-08 -2.60235260e-08  2.04454677e-07\n",
      "   5.54534071e-08 -6.73701378e-08  3.55707297e-08 -4.20663431e-08\n",
      "  -9.85808986e-08  5.75244990e-07  2.22702454e-07 -1.32770497e-07\n",
      "  -1.43638687e-08 -2.70423911e-07 -1.90246159e-07  9.27556038e-09]\n",
      " [ 1.92343573e-07  2.14450176e-08  2.81187843e-07 -1.57520770e-07\n",
      "  -2.90625302e-07 -1.28881666e-07 -1.93982006e-07 -1.13865145e-07\n",
      "   2.32205722e-07  1.46436998e-07  2.59773510e-07 -1.95391702e-07\n",
      "   1.47286327e-08  2.22702454e-07  7.06394310e-07 -1.47189500e-07\n",
      "   1.99261323e-07 -2.44740720e-08  3.53751522e-07 -5.91692018e-08]\n",
      " [-8.80513148e-08 -3.10198674e-08 -1.06817887e-07  3.29452085e-07\n",
      "   4.14347376e-07  2.53135990e-08  4.12349299e-08  1.57311502e-07\n",
      "   2.48296236e-08 -1.65945450e-07 -7.33445662e-08 -1.74105697e-07\n",
      "   1.70842430e-07 -1.32770497e-07 -1.47189500e-07  7.74154193e-07\n",
      "  -2.12024885e-07 -4.27901599e-08 -4.10133678e-08 -2.30732624e-07]\n",
      " [ 2.89154229e-07 -2.54721318e-07  5.94849026e-07 -2.65732987e-07\n",
      "  -4.34854778e-07 -5.64372594e-08 -3.15519995e-07 -8.39266068e-08\n",
      "   1.12313591e-07  1.20060940e-07  2.52722511e-07  1.62339123e-07\n",
      "  -4.81899499e-07 -1.43638687e-08  1.99261323e-07 -2.12024885e-07\n",
      "   9.95874525e-07  2.16061932e-07  5.85691424e-07  1.19109585e-08]\n",
      " [-2.13090654e-09 -3.61548640e-08  7.14402784e-08 -2.15369088e-07\n",
      "  -1.10107482e-07 -6.54319313e-08 -7.03481016e-08 -2.93722014e-08\n",
      "   1.60164733e-07  7.77086109e-08  1.10410985e-07  2.01848811e-07\n",
      "  -6.17687102e-08 -2.70423911e-07 -2.44740720e-08 -4.27901599e-08\n",
      "   2.16061932e-07  6.53954947e-07  2.37231728e-07 -3.07257549e-09]\n",
      " [ 9.64742581e-08 -3.29821790e-07  2.95253393e-07 -5.51555919e-07\n",
      "  -7.13644562e-07  5.13624512e-08 -5.52778299e-07 -6.06906092e-07\n",
      "   2.10182723e-07  6.21314097e-07  4.81975392e-07 -4.88073497e-07\n",
      "  -3.26571573e-08 -1.90246159e-07  3.53751522e-07 -4.10133678e-08\n",
      "   5.85691424e-07  2.37231728e-07  1.35456150e-06 -1.45051666e-07]\n",
      " [ 4.02348409e-08 -6.26267102e-08  7.20253923e-09 -2.87178215e-08\n",
      "  -1.32917133e-07 -8.24423430e-08  1.78201854e-07 -7.73463888e-08\n",
      "  -7.97275111e-09 -8.22415514e-08 -2.93533154e-07  1.87308274e-07\n",
      "  -1.24959787e-08  9.27556038e-09 -5.91692018e-08 -2.30732624e-07\n",
      "   1.19109585e-08 -3.07257549e-09 -1.45051666e-07  4.58856413e-07]]\n",
      "Class probability P(C):\n",
      "0.1\n",
      "*******************************************************************\n",
      "Mean:\n",
      "(20,)\n",
      "[ 1.1914113e-05 -3.2059953e-07  3.3988317e-06  3.7784018e-06\n",
      " -1.7919281e-06  1.5712338e-05 -7.1403620e-06 -3.3454112e-06\n",
      "  7.6824126e-06 -3.5174216e-06  7.2384955e-06  1.5445692e-05\n",
      " -4.9584532e-06 -8.3211144e-06  5.8937912e-06 -9.5309196e-07\n",
      "  1.2573066e-05 -9.1297907e-06 -4.6727155e-06 -1.8264918e-06]\n",
      "Covar:\n",
      "(20, 20)\n",
      "[[ 1.21173385e-07 -1.42467211e-09  2.08823316e-08  1.82389378e-08\n",
      "  -4.07082755e-08  1.09316816e-07 -4.24105645e-08 -1.25572390e-08\n",
      "   1.53660723e-08 -4.13910612e-08  6.64254022e-08  7.74641845e-08\n",
      "  -3.03346228e-08 -8.59955888e-09 -2.87593970e-09 -3.67498777e-08\n",
      "   6.63466660e-08 -3.96295384e-08 -3.17016908e-08 -6.46944708e-08]\n",
      " [-1.42467211e-09  1.61355030e-07 -9.26812179e-09 -7.39693546e-08\n",
      "   6.02980266e-09  7.08443293e-08  8.43056939e-08 -6.97296392e-09\n",
      "   1.76862472e-08 -1.72466479e-08  6.00247947e-08 -7.07212050e-08\n",
      "  -3.31580362e-09 -3.34932511e-08  4.54279458e-08 -5.17380092e-08\n",
      "   4.25132345e-08  6.30979468e-08 -2.32916462e-08  6.48639635e-09]\n",
      " [ 2.08823316e-08 -9.26812179e-09  1.11273997e-07 -1.62714110e-08\n",
      "   2.15394524e-08  5.49337478e-08 -4.24048325e-08 -4.40784061e-08\n",
      "  -6.21053131e-08  5.56983656e-08  1.32570084e-08 -5.71138622e-09\n",
      "  -5.04671560e-09  2.91998947e-08 -6.20342486e-08 -1.24479384e-08\n",
      "  -8.15464814e-09  1.52462554e-08  9.82625748e-09 -1.52866880e-08]\n",
      " [ 1.82389378e-08 -7.39693546e-08 -1.62714110e-08  1.43903765e-07\n",
      "  -2.10309653e-08 -3.57489796e-08 -2.13778087e-08  5.73060061e-09\n",
      "   3.26554582e-09  2.69161404e-08 -8.84379022e-08  1.17634002e-07\n",
      "   4.88765665e-08  3.94101112e-09  2.18151253e-08  5.38170308e-08\n",
      "  -3.39746070e-08 -5.69372036e-08 -8.00101460e-09 -5.26378857e-10]\n",
      " [-4.07082755e-08  6.02980266e-09  2.15394524e-08 -2.10309653e-08\n",
      "   1.18578675e-07 -9.02296741e-08 -3.45394345e-09 -5.66461977e-08\n",
      "  -4.11356965e-08  6.32473636e-08 -1.23695304e-08 -1.97372118e-08\n",
      "  -3.21167043e-08 -2.53209104e-08 -5.11895428e-08 -3.39952943e-08\n",
      "  -3.10297625e-08  8.08996024e-08  1.51771229e-08 -5.85623834e-09]\n",
      " [ 1.09316816e-07  7.08443293e-08  5.49337478e-08 -3.57489796e-08\n",
      "  -9.02296741e-08  2.81007222e-07  5.91378736e-09  4.44462188e-08\n",
      "   4.45008246e-08 -9.47363354e-08  1.17313066e-07  1.75581190e-09\n",
      "  -4.21602204e-08  4.17834378e-08  7.45555262e-08 -2.12454776e-08\n",
      "   9.65798190e-08 -7.49610867e-08 -1.88842952e-08 -2.94702980e-08]\n",
      " [-4.24105645e-08  8.43056939e-08 -4.24048325e-08 -2.13778087e-08\n",
      "  -3.45394345e-09  5.91378736e-09  1.72202418e-07  1.61447588e-08\n",
      "   3.88935240e-08  8.85913774e-09  2.25538342e-09  6.14114412e-09\n",
      "   1.54451594e-08 -7.47413149e-08  9.99153183e-08 -9.31013418e-09\n",
      "   3.00741276e-08  2.23520900e-08 -2.24325569e-09  2.22723527e-08]\n",
      " [-1.25572390e-08 -6.97296392e-09 -4.40784061e-08  5.73060061e-09\n",
      "  -5.66461977e-08  4.44462188e-08  1.61447588e-08  1.26733479e-07\n",
      "   1.79351296e-08 -1.04246289e-07 -2.64612460e-08 -5.72570871e-08\n",
      "   1.35871282e-08  3.71934890e-08  7.96114919e-08  3.06743167e-08\n",
      "  -8.83107761e-09 -4.05454992e-08  4.31994087e-08  4.49473854e-08]\n",
      " [ 1.53660723e-08  1.76862472e-08 -6.21053131e-08  3.26554582e-09\n",
      "  -4.11356965e-08  4.45008246e-08  3.88935240e-08  1.79351296e-08\n",
      "   1.24246456e-07 -4.20326469e-08  5.51544672e-08  5.46898967e-08\n",
      "  -2.22522212e-08 -4.36921876e-08  7.03222535e-08  2.08958205e-08\n",
      "   5.68447721e-08 -4.07276862e-08 -2.58936077e-08 -9.44254607e-09]\n",
      " [-4.13910612e-08 -1.72466479e-08  5.56983656e-08  2.69161404e-08\n",
      "   6.32473636e-08 -9.47363354e-08  8.85913774e-09 -1.04246289e-07\n",
      "  -4.20326469e-08  1.61097600e-07 -5.11891400e-08  4.79049043e-08\n",
      "   3.99665704e-08 -2.47629947e-08 -5.81122220e-08  2.10985409e-08\n",
      "  -4.49771706e-08  4.09635363e-08 -3.45530934e-09 -1.13653099e-08]\n",
      " [ 6.64254022e-08  6.00247947e-08  1.32570084e-08 -8.84379022e-08\n",
      "  -1.23695304e-08  1.17313066e-07  2.25538342e-09 -2.64612460e-08\n",
      "   5.51544672e-08 -5.11891400e-08  2.21796412e-07  4.55631546e-09\n",
      "  -6.04146805e-08 -5.41218284e-08 -9.51310993e-09 -9.21063188e-08\n",
      "   1.05585029e-07  1.32514087e-08 -4.08914938e-08 -4.66253214e-08]\n",
      " [ 7.74641845e-08 -7.07212050e-08 -5.71138622e-09  1.17634002e-07\n",
      "  -1.97372118e-08  1.75581190e-09  6.14114412e-09 -5.72570871e-08\n",
      "   5.46898967e-08  4.79049043e-08  4.55631546e-09  2.70822663e-07\n",
      "   1.45648610e-08 -9.20208183e-08  2.50438354e-08  1.03257170e-08\n",
      "   7.15956426e-08 -2.39683147e-08 -4.31505224e-08 -6.65031269e-08]\n",
      " [-3.03346228e-08 -3.31580362e-09 -5.04671560e-09  4.88765665e-08\n",
      "  -3.21167043e-08 -4.21602204e-08  1.54451594e-08  1.35871282e-08\n",
      "  -2.22522212e-08  3.99665704e-08 -6.04146805e-08  1.45648610e-08\n",
      "   1.22735914e-07 -1.44320575e-08  4.72008001e-08  3.40859628e-08\n",
      "  -2.13790613e-08 -5.92154910e-09  1.75574716e-08  1.82427398e-08]\n",
      " [-8.59955888e-09 -3.34932511e-08  2.91998947e-08  3.94101112e-09\n",
      "  -2.53209104e-08  4.17834378e-08 -7.47413149e-08  3.71934890e-08\n",
      "  -4.36921876e-08 -2.47629947e-08 -5.41218284e-08 -9.20208183e-08\n",
      "  -1.44320575e-08  1.67618895e-07 -5.02991606e-08  4.03753006e-08\n",
      "  -7.84864915e-08 -4.74454162e-08  2.63618605e-08  1.25891768e-08]\n",
      " [-2.87593970e-09  4.54279458e-08 -6.20342486e-08  2.18151253e-08\n",
      "  -5.11895428e-08  7.45555262e-08  9.99153183e-08  7.96114919e-08\n",
      "   7.03222535e-08 -5.81122220e-08 -9.51310993e-09  2.50438354e-08\n",
      "   4.72008001e-08 -5.02991606e-08  2.01298506e-07  3.64938148e-10\n",
      "   5.87539725e-08 -3.90775641e-08  2.67615027e-08  2.33118920e-08]\n",
      " [-3.67498777e-08 -5.17380092e-08 -1.24479384e-08  5.38170308e-08\n",
      "  -3.39952943e-08 -2.12454776e-08 -9.31013418e-09  3.06743167e-08\n",
      "   2.08958205e-08  2.10985409e-08 -9.21063188e-08  1.03257170e-08\n",
      "   3.40859628e-08  4.03753006e-08  3.64938148e-10  1.28160339e-07\n",
      "  -5.20947413e-08 -7.03238163e-08  1.52061663e-08  3.54953620e-08]\n",
      " [ 6.63466660e-08  4.25132345e-08 -8.15464814e-09 -3.39746070e-08\n",
      "  -3.10297625e-08  9.65798190e-08  3.00741276e-08 -8.83107761e-09\n",
      "   5.68447721e-08 -4.49771706e-08  1.05585029e-07  7.15956426e-08\n",
      "  -2.13790613e-08 -7.84864915e-08  5.87539725e-08 -5.20947413e-08\n",
      "   1.25475932e-07  7.66397470e-09 -3.64183037e-08 -4.82998155e-08]\n",
      " [-3.96295384e-08  6.30979468e-08  1.52462554e-08 -5.69372036e-08\n",
      "   8.08996024e-08 -7.49610867e-08  2.23520900e-08 -4.05454992e-08\n",
      "  -4.07276862e-08  4.09635363e-08  1.32514087e-08 -2.39683147e-08\n",
      "  -5.92154910e-09 -4.74454162e-08 -3.90775641e-08 -7.03238163e-08\n",
      "   7.66397470e-09  1.60555187e-07  8.75591916e-10 -8.47644686e-09]\n",
      " [-3.17016908e-08 -2.32916462e-08  9.82625748e-09 -8.00101460e-09\n",
      "   1.51771229e-08 -1.88842952e-08 -2.24325569e-09  4.31994087e-08\n",
      "  -2.58936077e-08 -3.45530934e-09 -4.08914938e-08 -4.31505224e-08\n",
      "   1.75574716e-08  2.63618605e-08  2.67615027e-08  1.52061663e-08\n",
      "  -3.64183037e-08  8.75591916e-10  8.01302338e-08  1.55792413e-08]\n",
      " [-6.46944708e-08  6.48639635e-09 -1.52866880e-08 -5.26378857e-10\n",
      "  -5.85623834e-09 -2.94702980e-08  2.22723527e-08  4.49473854e-08\n",
      "  -9.44254607e-09 -1.13653099e-08 -4.66253214e-08 -6.65031269e-08\n",
      "   1.82427398e-08  1.25891768e-08  2.33118920e-08  3.54953620e-08\n",
      "  -4.82998155e-08 -8.47644686e-09  1.55792413e-08  8.61788705e-08]]\n",
      "Class probability P(C):\n",
      "0.1\n",
      "*******************************************************************\n",
      "Mean:\n",
      "(20,)\n",
      "[-3.4718246e-06  1.0011911e-05  8.1604194e-06  2.9095029e-06\n",
      " -1.0166979e-05 -7.9730571e-06 -6.7505852e-07  7.0932092e-06\n",
      "  9.5639425e-06 -9.2423688e-06 -1.5607762e-06  6.2010977e-06\n",
      " -2.0831155e-06 -1.4818370e-05  1.2443752e-05 -4.0230711e-07\n",
      "  9.5745572e-06 -8.8631850e-07  7.1458790e-06  6.6430894e-06]\n",
      "Covar:\n"
     ]
    },
    {
     "name": "stdout",
     "output_type": "stream",
     "text": [
      "(20, 20)\n",
      "[[ 2.09625758e-07  5.04172508e-08 -4.64479326e-08 -3.33754875e-08\n",
      "   5.87079835e-08  4.02857023e-09  3.61072055e-08  6.26576866e-09\n",
      "  -4.01064930e-08 -7.67369869e-09  5.13211448e-09  9.56032993e-11\n",
      "  -1.06732259e-07  4.62107748e-08 -6.85964486e-08 -9.79089543e-08\n",
      "  -5.93302899e-08 -1.32133398e-08 -3.43148668e-08 -1.53918957e-08]\n",
      " [ 5.04172508e-08  2.11040786e-07  1.22809426e-08 -2.05459982e-09\n",
      "   2.77971868e-08 -6.30595575e-08  4.97384339e-08 -7.25024450e-08\n",
      "  -9.60924620e-09  3.37371803e-08 -2.32769344e-08  1.25714397e-10\n",
      "  -4.61241133e-08  2.58099754e-08  1.67512346e-08 -3.72971955e-08\n",
      "   2.20571093e-08  2.37982657e-08  6.24753175e-08  6.33246095e-09]\n",
      " [-4.64479326e-08  1.22809426e-08  1.97603127e-07 -1.05580283e-08\n",
      "  -4.48050572e-08 -1.12912123e-07  6.95956397e-08  1.68356769e-08\n",
      "   6.06989873e-08 -4.86850531e-08  7.13176874e-08  9.29204300e-10\n",
      "   1.42005411e-07 -7.87319558e-08  9.12782807e-08  8.36953574e-09\n",
      "   6.73074112e-08 -1.92343359e-08  7.34344234e-08  4.50871964e-08]\n",
      " [-3.33754875e-08 -2.05459982e-09 -1.05580283e-08  2.38324567e-07\n",
      "   1.54399490e-07  3.04332024e-08 -5.85485213e-08  2.21072131e-08\n",
      "   6.69015551e-08 -3.10210640e-08 -9.69618807e-08 -1.53910158e-07\n",
      "   1.58432318e-08 -3.74660313e-08  6.18439259e-08  1.24507074e-08\n",
      "  -9.02495043e-08 -1.41424141e-07  2.46844192e-08 -1.01335538e-07]\n",
      " [ 5.87079835e-08  2.77971868e-08 -4.48050572e-08  1.54399490e-07\n",
      "   2.32801577e-07  4.19858145e-08 -4.75872004e-08  4.88080255e-08\n",
      "   3.27927059e-08  2.08601522e-08 -2.29823713e-08 -1.49904108e-07\n",
      "  -2.83606817e-08  5.55951506e-08 -2.12354390e-09 -9.62268485e-08\n",
      "  -1.36169586e-07 -1.16641500e-07 -1.73084334e-08 -1.01631884e-07]\n",
      " [ 4.02857023e-09 -6.30595575e-08 -1.12912123e-07  3.04332024e-08\n",
      "   4.19858145e-08  2.74827772e-07 -1.06056120e-07  2.97341711e-08\n",
      "  -2.21792731e-08  1.07229689e-08 -1.05749581e-09 -4.40832413e-08\n",
      "  -1.05144371e-07  1.16623944e-08 -1.21324483e-07 -1.01868625e-09\n",
      "  -8.27805237e-08 -8.37353496e-08 -1.05329679e-07 -9.11044257e-08]\n",
      " [ 3.61072055e-08  4.97384339e-08  6.95956397e-08 -5.85485213e-08\n",
      "  -4.75872004e-08 -1.06056120e-07  3.17699466e-07 -4.38044944e-08\n",
      "  -5.64952353e-08 -1.84737809e-09 -4.09414616e-08  7.96484690e-08\n",
      "   2.90477408e-08  1.15617663e-08 -2.28796230e-08  1.31996692e-07\n",
      "  -4.61277239e-08  7.31762068e-08  7.10128798e-08 -6.58235000e-08]\n",
      " [ 6.26576866e-09 -7.25024450e-08  1.68356769e-08  2.21072131e-08\n",
      "   4.88080255e-08  2.97341711e-08 -4.38044944e-08  2.85795178e-07\n",
      "   2.01941925e-08 -1.05042923e-07  1.54113059e-07 -4.04007022e-08\n",
      "   4.65352597e-08 -7.65026521e-08 -2.79471037e-09 -1.29001287e-07\n",
      "  -5.46062285e-09 -7.88008755e-08  4.39356551e-08 -1.52554066e-08]\n",
      " [-4.01064930e-08 -9.60924620e-09  6.06989873e-08  6.69015551e-08\n",
      "   3.27927059e-08 -2.21792731e-08 -5.64952353e-08  2.01941925e-08\n",
      "   1.37386933e-07  1.05927320e-08  1.44413056e-08 -1.91882706e-08\n",
      "   8.08839642e-08 -4.22369264e-08  7.05112096e-08 -1.53277347e-08\n",
      "  -5.91984446e-09 -2.95447047e-08  2.07593880e-09  5.53000483e-09]\n",
      " [-7.67369869e-09  3.37371803e-08 -4.86850531e-08 -3.10210640e-08\n",
      "   2.08601522e-08  1.07229689e-08 -1.84737809e-09 -1.05042923e-07\n",
      "   1.05927320e-08  2.13026097e-07 -2.46139018e-08  7.00932798e-08\n",
      "  -6.34806429e-09  8.76529942e-08 -5.70753018e-08  1.59797747e-08\n",
      "  -5.44057354e-08  7.22838816e-08 -1.11231155e-07 -7.20285573e-08]\n",
      " [ 5.13211448e-09 -2.32769344e-08  7.13176874e-08 -9.69618807e-08\n",
      "  -2.29823713e-08 -1.05749581e-09 -4.09414616e-08  1.54113059e-07\n",
      "   1.44413056e-08 -2.46139018e-08  2.74827529e-07  5.76382495e-08\n",
      "   9.05745235e-08 -3.25123318e-09 -6.52505894e-08 -1.34342513e-07\n",
      "   2.85220009e-08  2.07878338e-09 -1.99978186e-08 -1.35666433e-08]\n",
      " [ 9.56032993e-11  1.25714397e-10  9.29204300e-10 -1.53910158e-07\n",
      "  -1.49904108e-07 -4.40832413e-08  7.96484690e-08 -4.04007022e-08\n",
      "  -1.91882706e-08  7.00932798e-08  5.76382495e-08  3.23098862e-07\n",
      "  -2.41440754e-08  2.59995951e-08 -6.45345558e-08  4.57781984e-08\n",
      "   6.94138980e-08  1.44416427e-07 -9.90491585e-08 -5.56186951e-08]\n",
      " [-1.06732259e-07 -4.61241133e-08  1.42005411e-07  1.58432318e-08\n",
      "  -2.83606817e-08 -1.05144371e-07  2.90477408e-08  4.65352597e-08\n",
      "   8.08839642e-08 -6.34806429e-09  9.05745235e-08 -2.41440754e-08\n",
      "   2.22409434e-07 -6.03971990e-08  1.03344709e-07  2.59684209e-08\n",
      "   3.81361417e-08 -1.88372195e-08  6.51833831e-08  2.07343569e-08]\n",
      " [ 4.62107748e-08  2.58099754e-08 -7.87319558e-08 -3.74660313e-08\n",
      "   5.55951506e-08  1.16623944e-08  1.15617663e-08 -7.65026521e-08\n",
      "  -4.22369264e-08  8.76529942e-08 -3.25123318e-09  2.59995951e-08\n",
      "  -6.03971990e-08  1.94716530e-07 -5.18141571e-08 -1.45156466e-08\n",
      "  -7.96830132e-08  4.48791110e-08 -8.06373200e-08 -3.56284989e-08]\n",
      " [-6.85964486e-08  1.67512346e-08  9.12782807e-08  6.18439259e-08\n",
      "  -2.12354390e-09 -1.21324483e-07 -2.28796230e-08 -2.79471037e-09\n",
      "   7.05112096e-08 -5.70753018e-08 -6.52505894e-08 -6.45345558e-08\n",
      "   1.03344709e-07 -5.18141571e-08  2.64116129e-07  9.97096787e-09\n",
      "   9.93210727e-08 -3.89639004e-08  1.05436475e-07  1.27998093e-07]\n",
      " [-9.79089543e-08 -3.72971955e-08  8.36953574e-09  1.24507074e-08\n",
      "  -9.62268485e-08 -1.01868625e-09  1.31996692e-07 -1.29001287e-07\n",
      "  -1.53277347e-08  1.59797747e-08 -1.34342513e-07  4.57781984e-08\n",
      "   2.59684209e-08 -1.45156466e-08  9.97096787e-09  2.89234788e-07\n",
      "  -2.16597499e-08  4.72186699e-08  3.79152748e-08 -6.27709706e-08]\n",
      " [-5.93302899e-08  2.20571093e-08  6.73074112e-08 -9.02495043e-08\n",
      "  -1.36169586e-07 -8.27805237e-08 -4.61277239e-08 -5.46062285e-09\n",
      "  -5.91984446e-09 -5.44057354e-08  2.85220009e-08  6.94138980e-08\n",
      "   3.81361417e-08 -7.96830132e-08  9.93210727e-08 -2.16597499e-08\n",
      "   2.55424109e-07  6.76309766e-08  7.72898673e-08  1.80995537e-07]\n",
      " [-1.32133398e-08  2.37982657e-08 -1.92343359e-08 -1.41424141e-07\n",
      "  -1.16641500e-07 -8.37353496e-08  7.31762068e-08 -7.88008755e-08\n",
      "  -2.95447047e-08  7.22838816e-08  2.07878338e-09  1.44416427e-07\n",
      "  -1.88372195e-08  4.48791110e-08 -3.89639004e-08  4.72186699e-08\n",
      "   6.76309766e-08  2.15000737e-07  2.68807042e-08  7.10929028e-08]\n",
      " [-3.43148668e-08  6.24753175e-08  7.34344234e-08  2.46844192e-08\n",
      "  -1.73084334e-08 -1.05329679e-07  7.10128798e-08  4.39356551e-08\n",
      "   2.07593880e-09 -1.11231155e-07 -1.99978186e-08 -9.90491585e-08\n",
      "   6.51833831e-08 -8.06373200e-08  1.05436475e-07  3.79152748e-08\n",
      "   7.72898673e-08  2.68807042e-08  2.24569598e-07  1.02946359e-07]\n",
      " [-1.53918957e-08  6.33246095e-09  4.50871964e-08 -1.01335538e-07\n",
      "  -1.01631884e-07 -9.11044257e-08 -6.58235000e-08 -1.52554066e-08\n",
      "   5.53000483e-09 -7.20285573e-08 -1.35666433e-08 -5.56186951e-08\n",
      "   2.07343569e-08 -3.56284989e-08  1.27998093e-07 -6.27709706e-08\n",
      "   1.80995537e-07  7.10929028e-08  1.02946359e-07  3.20976696e-07]]\n",
      "Class probability P(C):\n",
      "0.1\n",
      "*******************************************************************\n",
      "Mean:\n",
      "(20,)\n",
      "[ 1.6719176e-05  4.3261997e-07 -1.7288882e-06  2.9953194e-06\n",
      " -2.1151585e-05  1.5921079e-05 -1.0463456e-05  2.9738698e-05\n",
      "  9.4613006e-06 -6.1676142e-06 -6.5142135e-06  3.6367121e-06\n",
      " -9.1746131e-07 -2.4461808e-05  1.9664252e-05  1.7106126e-05\n",
      "  1.0861763e-05 -6.6169691e-06 -6.6122393e-06 -1.0153517e-05]\n",
      "Covar:\n",
      "(20, 20)\n",
      "[[ 4.57471759e-07  8.54885102e-08 -1.12849802e-07 -1.49790915e-07\n",
      "  -2.32833154e-08  4.35003696e-08 -2.13802650e-07  1.26192349e-08\n",
      "  -2.24091885e-09  1.03667114e-07 -5.22891898e-08  1.22532125e-07\n",
      "  -1.86299070e-07 -7.50857891e-08  1.42228736e-08 -1.54425362e-08\n",
      "   9.49184800e-08  5.07581546e-08 -1.43065401e-07  2.28039946e-08]\n",
      " [ 8.54885102e-08  5.00483238e-07  1.02606409e-08 -1.01179325e-07\n",
      "  -4.86838204e-08 -1.65743261e-07  1.20488972e-07 -2.01267324e-07\n",
      "   3.23061772e-08 -3.26170775e-08  5.90930216e-08  4.92377119e-08\n",
      "  -5.50409767e-08 -9.82826592e-09 -1.07712535e-07 -1.90026913e-08\n",
      "  -4.66722497e-08  5.86519429e-08 -1.81916937e-07 -4.46230064e-09]\n",
      " [-1.12849802e-07  1.02606409e-08  2.94630917e-07  6.01020056e-08\n",
      "  -2.43720804e-08 -4.74095006e-09  1.95519142e-07 -5.40562691e-08\n",
      "   9.57630509e-08 -7.28333455e-08  1.49374888e-07  2.84789786e-08\n",
      "   1.07740911e-07 -8.24218486e-08  2.50016264e-08  3.55849213e-08\n",
      "  -3.00935358e-08 -9.28331747e-09  7.81481846e-08 -1.50763643e-07]\n",
      " [-1.49790915e-07 -1.01179325e-07  6.01020056e-08  2.52688745e-07\n",
      "   6.41403123e-08 -1.75327818e-08  1.30042108e-07  4.16166701e-08\n",
      "   9.17810218e-08 -1.40684933e-07 -4.82687367e-09 -2.31362534e-08\n",
      "   5.38773252e-08  1.63453538e-08 -1.59610829e-08  9.47045311e-08\n",
      "  -1.54331063e-08 -2.00881578e-08 -4.73988322e-08 -2.70014140e-08]\n",
      " [-2.32833154e-08 -4.86838204e-08 -2.43720804e-08  6.41403123e-08\n",
      "   3.99919072e-07 -6.96872660e-08 -1.96705085e-08  2.01662842e-09\n",
      "   2.96147237e-08  4.33342106e-08  9.76918316e-08 -2.41336151e-09\n",
      "  -7.55418000e-08  1.59957808e-07 -4.98642151e-08 -1.29286834e-07\n",
      "   7.70370697e-08  9.46081829e-08 -3.37145334e-08  5.19180062e-08]\n",
      " [ 4.35003696e-08 -1.65743261e-07 -4.74095006e-09 -1.75327818e-08\n",
      "  -6.96872660e-08  4.66066317e-07 -2.13645651e-07  3.57762217e-07\n",
      "   6.22071639e-08  1.41018303e-07 -1.50385018e-08 -1.07383140e-08\n",
      "   8.02807173e-09 -1.23764547e-07  2.59329041e-07  1.12922610e-07\n",
      "   7.80546949e-08  9.71721553e-08  7.81487026e-08  2.62342817e-08]\n",
      " [-2.13802650e-07  1.20488972e-07  1.95519142e-07  1.30042108e-07\n",
      "  -1.96705085e-08 -2.13645651e-07  5.26202664e-07 -2.01132206e-07\n",
      "   1.25244501e-07 -1.90129224e-07  7.52701813e-08  9.63444362e-09\n",
      "   1.80836899e-07 -6.98441353e-08 -1.28762225e-07  3.61036134e-08\n",
      "  -1.38354953e-07 -6.88729084e-08 -1.17261669e-07 -1.33305551e-07]\n",
      " [ 1.26192349e-08 -2.01267324e-07 -5.40562691e-08  4.16166701e-08\n",
      "   2.01662842e-09  3.57762217e-07 -2.01132206e-07  6.29865831e-07\n",
      "  -3.73076982e-08  1.42479557e-07 -2.75717148e-08  3.34485337e-08\n",
      "   9.48017344e-08 -1.39463714e-07  2.67384727e-07  7.76624559e-08\n",
      "   1.42825811e-07  3.46998830e-08  1.39864432e-07 -1.06865366e-08]\n",
      " [-2.24091885e-09  3.23061772e-08  9.57630509e-08  9.17810218e-08\n",
      "   2.96147237e-08  6.22071639e-08  1.25244501e-07 -3.73076982e-08\n",
      "   4.03930135e-07 -8.62541449e-08  1.09366179e-07 -5.59460872e-09\n",
      "  -1.96594021e-08 -1.30617893e-07  7.07997062e-08  1.26998404e-07\n",
      "   2.51375565e-08  9.18017186e-08 -1.01032993e-07 -2.94143792e-09]\n",
      " [ 1.03667114e-07 -3.26170775e-08 -7.28333455e-08 -1.40684933e-07\n",
      "   4.33342106e-08  1.41018303e-07 -1.90129224e-07  1.42479557e-07\n",
      "  -8.62541449e-08  4.53621121e-07 -1.45577407e-08  1.84036374e-08\n",
      "  -4.11035746e-08  5.79267021e-10  1.12761133e-07 -2.81294263e-09\n",
      "   4.82149180e-08  2.12929865e-07 -2.49167263e-08  9.56779563e-08]\n",
      " [-5.22891898e-08  5.90930216e-08  1.49374888e-07 -4.82687367e-09\n",
      "   9.76918316e-08 -1.50385018e-08  7.52701813e-08 -2.75717148e-08\n",
      "   1.09366179e-07 -1.45577407e-08  4.43097986e-07 -2.48744107e-08\n",
      "   3.07218572e-08 -3.13633626e-08 -1.73214886e-08 -1.63922127e-07\n",
      "   1.38025809e-07  5.48445573e-09  8.85944705e-08 -6.35471528e-08]\n",
      " [ 1.22532125e-07  4.92377119e-08  2.84789786e-08 -2.31362534e-08\n",
      "  -2.41336151e-09 -1.07383140e-08  9.63444362e-09  3.34485337e-08\n",
      "  -5.59460872e-09  1.84036374e-08 -2.48744107e-08  3.61543157e-07\n",
      "  -1.24600566e-07 -5.47993615e-08 -3.92806054e-08  1.79886799e-08\n",
      "  -3.13743725e-08  1.24957706e-08 -5.79369500e-08  7.39405785e-08]\n",
      " [-1.86299070e-07 -5.50409767e-08  1.07740911e-07  5.38773252e-08\n",
      "  -7.55418000e-08  8.02807173e-09  1.80836899e-07  9.48017344e-08\n",
      "  -1.96594021e-08 -4.11035746e-08  3.07218572e-08 -1.24600566e-07\n",
      "   4.84076861e-07 -8.71992257e-08  2.81306394e-08 -6.33238279e-08\n",
      "   7.97851232e-09 -5.58868814e-08  8.63294865e-08 -1.49930502e-07]\n",
      " [-7.50857891e-08 -9.82826592e-09 -8.24218486e-08  1.63453538e-08\n",
      "   1.59957808e-07 -1.23764547e-07 -6.98441353e-08 -1.39463714e-07\n",
      "  -1.30617893e-07  5.79267021e-10 -3.13633626e-08 -5.47993615e-08\n",
      "  -8.71992257e-08  4.65059151e-07 -1.12629917e-07 -1.59181935e-07\n",
      "   1.31745836e-08 -2.77314652e-09  8.74164142e-08  9.66031071e-08]\n",
      " [ 1.42228736e-08 -1.07712535e-07  2.50016264e-08 -1.59610829e-08\n",
      "  -4.98642151e-08  2.59329041e-07 -1.28762225e-07  2.67384727e-07\n",
      "   7.07997062e-08  1.12761133e-07 -1.73214886e-08 -3.92806054e-08\n",
      "   2.81306394e-08 -1.12629917e-07  3.47782626e-07  8.29477451e-08\n",
      "   2.44543848e-08  1.58772004e-08  9.67728160e-08 -4.75093846e-08]\n",
      " [-1.54425362e-08 -1.90026913e-08  3.55849213e-08  9.47045311e-08\n",
      "  -1.29286834e-07  1.12922610e-07  3.61036134e-08  7.76624559e-08\n",
      "   1.26998404e-07 -2.81294263e-09 -1.63922127e-07  1.79886799e-08\n",
      "  -6.33238279e-08 -1.59181935e-07  8.29477451e-08  4.43169635e-07\n",
      "  -8.65490867e-08  3.31340337e-08 -9.22919555e-08 -7.30849493e-08]\n",
      " [ 9.49184800e-08 -4.66722497e-08 -3.00935358e-08 -1.54331063e-08\n",
      "   7.70370697e-08  7.80546949e-08 -1.38354953e-07  1.42825811e-07\n",
      "   2.51375565e-08  4.82149180e-08  1.38025809e-07 -3.13743725e-08\n",
      "   7.97851232e-09  1.31745836e-08  2.44543848e-08 -8.65490867e-08\n",
      "   2.68495500e-07  3.03614993e-08  1.05463956e-07  2.02870042e-08]\n",
      " [ 5.07581546e-08  5.86519429e-08 -9.28331747e-09 -2.00881578e-08\n",
      "   9.46081829e-08  9.71721553e-08 -6.88729084e-08  3.46998830e-08\n",
      "   9.18017186e-08  2.12929865e-07  5.48445573e-09  1.24957706e-08\n",
      "  -5.58868814e-08 -2.77314652e-09  1.58772004e-08  3.31340337e-08\n",
      "   3.03614993e-08  3.78365939e-07 -1.30599672e-07  1.36813921e-07]\n",
      " [-1.43065401e-07 -1.81916937e-07  7.81481846e-08 -4.73988322e-08\n",
      "  -3.37145334e-08  7.81487026e-08 -1.17261669e-07  1.39864432e-07\n",
      "  -1.01032993e-07 -2.49167263e-08  8.85944705e-08 -5.79369500e-08\n",
      "   8.63294865e-08  8.74164142e-08  9.67728160e-08 -9.22919555e-08\n",
      "   1.05463956e-07 -1.30599672e-07  4.86362325e-07 -3.18293571e-08]\n",
      " [ 2.28039946e-08 -4.46230064e-09 -1.50763643e-07 -2.70014140e-08\n",
      "   5.19180062e-08  2.62342817e-08 -1.33305551e-07 -1.06865366e-08\n",
      "  -2.94143792e-09  9.56779563e-08 -6.35471528e-08  7.39405785e-08\n",
      "  -1.49930502e-07  9.66031071e-08 -4.75093846e-08 -7.30849493e-08\n",
      "   2.02870042e-08  1.36813921e-07 -3.18293571e-08  4.51004659e-07]]\n",
      "Class probability P(C):\n",
      "0.1\n",
      "*******************************************************************\n",
      "Mean:\n",
      "(20,)\n",
      "[-7.8590010e-06  9.4107037e-07 -4.8163461e-06  1.8274268e-05\n",
      "  7.3348662e-07  2.7567792e-06 -1.6199250e-06  7.4644145e-06\n",
      " -8.1849976e-06 -1.0179817e-06 -9.4742672e-06 -1.8279171e-06\n",
      " -8.9086143e-06  5.4375691e-06 -1.4823622e-06 -5.7889911e-06\n",
      " -9.7912780e-06 -1.2709529e-05 -7.9245774e-06 -4.0433983e-06]\n",
      "Covar:\n"
     ]
    },
    {
     "name": "stdout",
     "output_type": "stream",
     "text": [
      "(20, 20)\n",
      "[[ 2.82702119e-07  1.46110235e-07  4.10425566e-08 -2.91806829e-07\n",
      "   1.37085533e-07 -1.18936448e-08  7.37713638e-08  1.08479478e-07\n",
      "   3.05306587e-07  8.45199592e-08  1.46782131e-07  7.89388120e-08\n",
      "   1.12745939e-07 -1.78572664e-07  2.83322672e-08 -1.58428074e-07\n",
      "   1.59016870e-07  2.79571988e-07  7.45897662e-08  1.06474159e-07]\n",
      " [ 1.46110235e-07  1.29460620e-07  1.59106297e-08 -1.89046514e-07\n",
      "   1.03895175e-07  1.40317064e-08  4.50489134e-08  9.74655469e-08\n",
      "   2.04829007e-07  6.43157587e-08  9.98642593e-08  6.54099155e-08\n",
      "   5.64343666e-08 -1.09833990e-07  1.69037836e-08 -1.13034908e-07\n",
      "   1.08188978e-07  1.73957169e-07  5.05627353e-08  5.28351653e-08]\n",
      " [ 4.10425566e-08  1.59106297e-08  1.40670575e-07 -8.74986867e-08\n",
      "   3.48073458e-09  5.65096300e-08  6.30991846e-10 -9.45386215e-08\n",
      "  -5.88550667e-09 -5.00985994e-08  6.35259321e-08 -6.63342245e-09\n",
      "   4.17803999e-08  2.27177618e-08  6.16206131e-08  2.91481852e-08\n",
      "   2.71099242e-08  3.51338515e-08  6.97962388e-08  7.86655357e-08]\n",
      " [-2.91806829e-07 -1.89046514e-07 -8.74986867e-08  5.95332084e-07\n",
      "  -1.90153957e-07 -2.54731701e-08 -5.89311803e-08 -1.17496151e-07\n",
      "  -4.67268310e-07 -7.26852212e-08 -3.01558272e-07 -8.77136874e-08\n",
      "  -2.51119867e-07  2.33154414e-07 -1.01157002e-07  1.44785691e-07\n",
      "  -3.44130845e-07 -4.67778509e-07 -2.17818151e-07 -1.34938426e-07]\n",
      " [ 1.37085533e-07  1.03895175e-07  3.48073458e-09 -1.90153957e-07\n",
      "   1.87017557e-07  4.81374821e-08  7.82848995e-09  1.82408657e-07\n",
      "   2.54137856e-07  4.26950228e-08  6.50724832e-08  5.86422002e-08\n",
      "   1.34486070e-07 -6.58652370e-08  3.39860038e-08 -1.78022774e-07\n",
      "   1.41172124e-07  1.96160455e-07  8.69446672e-09  4.72992802e-08]\n",
      " [-1.18936448e-08  1.40317064e-08  5.65096300e-08 -2.54731701e-08\n",
      "   4.81374821e-08  6.96811018e-08 -3.47327272e-08  1.82047796e-08\n",
      "   1.47196835e-08 -3.67906900e-08  4.91370279e-09  7.03478550e-09\n",
      "   4.14384453e-08  4.51784362e-08  2.57587584e-08 -2.86566250e-08\n",
      "   1.88706163e-08  1.62481472e-08 -1.53453623e-09  1.28295954e-08]\n",
      " [ 7.37713638e-08  4.50489134e-08  6.30991846e-10 -5.89311803e-08\n",
      "   7.82848995e-09 -3.47327272e-08  6.96379736e-08  1.03061022e-08\n",
      "   8.49130476e-08  5.61132424e-08  5.48234153e-08  2.37969374e-08\n",
      "   5.53210611e-09 -7.77736011e-08 -1.61183535e-08 -3.86617487e-08\n",
      "   2.77857484e-08  4.17426164e-08  3.21990230e-08  3.06558864e-08]\n",
      " [ 1.08479478e-07  9.74655469e-08 -9.45386215e-08 -1.17496151e-07\n",
      "   1.82408657e-07  1.82047796e-08  1.03061022e-08  2.95616526e-07\n",
      "   2.57633787e-07  9.40313505e-08  1.12598658e-08  7.74530102e-08\n",
      "   1.07796072e-07 -7.93186161e-08 -2.31832584e-08 -2.37859411e-07\n",
      "   1.09394734e-07  1.75140196e-07 -5.89496589e-08 -1.36715153e-08]\n",
      " [ 3.05306587e-07  2.04829007e-07 -5.88550667e-09 -4.67268310e-07\n",
      "   2.54137856e-07  1.47196835e-08  8.49130476e-08  2.57633787e-07\n",
      "   6.20590443e-07  8.66247141e-08  2.05111907e-07  1.64049432e-07\n",
      "   2.61770695e-07 -2.76568949e-07 -3.69431100e-08 -2.74085108e-07\n",
      "   3.09084661e-07  4.07223736e-07  8.45033405e-08  2.23728478e-08]\n",
      " [ 8.45199592e-08  6.43157587e-08 -5.00985994e-08 -7.26852212e-08\n",
      "   4.26950228e-08 -3.67906900e-08  5.61132424e-08  9.40313505e-08\n",
      "   8.66247141e-08  1.29716902e-07  6.51901180e-08  3.18650424e-08\n",
      "  -7.64256684e-10 -8.37128653e-08 -1.80192795e-08 -9.08186704e-08\n",
      "   4.10190005e-08  9.11061072e-08  9.17995042e-09  3.34449095e-08]\n",
      " [ 1.46782131e-07  9.98642593e-08  6.35259321e-08 -3.01558272e-07\n",
      "   6.50724832e-08  4.91370279e-09  5.48234153e-08  1.12598658e-08\n",
      "   2.05111907e-07  6.51901180e-08  2.01442035e-07  2.90958618e-08\n",
      "   8.90092878e-08 -1.38158950e-07  3.90693953e-08 -5.76374948e-08\n",
      "   1.66506740e-07  2.13677287e-07  1.42769198e-07  8.98510593e-08]\n",
      " [ 7.89388120e-08  6.54099155e-08 -6.63342245e-09 -8.77136874e-08\n",
      "   5.86422002e-08  7.03478550e-09  2.37969374e-08  7.74530102e-08\n",
      "   1.64049432e-07  3.18650424e-08  2.90958618e-08  9.43963112e-08\n",
      "   5.12997759e-08 -6.83779290e-08 -3.02805620e-08 -7.58428324e-08\n",
      "   5.48231915e-08  8.81920951e-08 -1.51207159e-08 -1.86302604e-08]\n",
      " [ 1.12745939e-07  5.64343666e-08  4.17803999e-08 -2.51119867e-07\n",
      "   1.34486070e-07  4.14384453e-08  5.53210611e-09  1.07796072e-07\n",
      "   2.61770695e-07 -7.64256684e-10  8.90092878e-08  5.12997759e-08\n",
      "   1.96125423e-07 -6.55098814e-08  3.18050957e-08 -1.13406937e-07\n",
      "   1.68647891e-07  2.07432341e-07  5.06991209e-08  2.64588778e-08]\n",
      " [-1.78572664e-07 -1.09833990e-07  2.27177618e-08  2.33154414e-07\n",
      "  -6.58652370e-08  4.51784362e-08 -7.77736011e-08 -7.93186161e-08\n",
      "  -2.76568949e-07 -8.37128653e-08 -1.38158950e-07 -6.83779290e-08\n",
      "  -6.55098814e-08  1.98034652e-07  4.29520914e-08  1.00530008e-07\n",
      "  -1.38408546e-07 -1.95183246e-07 -7.24909034e-08 -2.07933316e-08]\n",
      " [ 2.83322672e-08  1.69037836e-08  6.16206131e-08 -1.01157002e-07\n",
      "   3.39860038e-08  2.57587584e-08 -1.61183535e-08 -2.31832584e-08\n",
      "  -3.69431100e-08 -1.80192795e-08  3.90693953e-08 -3.02805620e-08\n",
      "   3.18050957e-08  4.29520914e-08  1.42926820e-07  2.59196585e-08\n",
      "   4.09552607e-08  7.30133015e-08  6.64771012e-08  1.07710982e-07]\n",
      " [-1.58428074e-07 -1.13034908e-07  2.91481852e-08  1.44785691e-07\n",
      "  -1.78022774e-07 -2.86566250e-08 -3.86617487e-08 -2.37859411e-07\n",
      "  -2.74085108e-07 -9.08186704e-08 -5.76374948e-08 -7.58428324e-08\n",
      "  -1.13406937e-07  1.00530008e-07  2.59196585e-08  2.45334784e-07\n",
      "  -1.14950946e-07 -1.78264506e-07  2.57382607e-08 -2.43924908e-08]\n",
      " [ 1.59016870e-07  1.08188978e-07  2.71099242e-08 -3.44130845e-07\n",
      "   1.41172124e-07  1.88706163e-08  2.77857484e-08  1.09394734e-07\n",
      "   3.09084661e-07  4.10190005e-08  1.66506740e-07  5.48231915e-08\n",
      "   1.68647891e-07 -1.38408546e-07  4.09552607e-08 -1.14950946e-07\n",
      "   2.21172980e-07  2.74113606e-07  1.10453385e-07  5.44864830e-08]\n",
      " [ 2.79571988e-07  1.73957169e-07  3.51338515e-08 -4.67778509e-07\n",
      "   1.96160455e-07  1.62481472e-08  4.17426164e-08  1.75140196e-07\n",
      "   4.07223736e-07  9.11061072e-08  2.13677287e-07  8.81920951e-08\n",
      "   2.07432341e-07 -1.95183246e-07  7.30133015e-08 -1.78264506e-07\n",
      "   2.74113606e-07  4.19729866e-07  1.34461923e-07  1.08784518e-07]\n",
      " [ 7.45897662e-08  5.05627353e-08  6.97962388e-08 -2.17818151e-07\n",
      "   8.69446672e-09 -1.53453623e-09  3.21990230e-08 -5.89496589e-08\n",
      "   8.45033405e-08  9.17995042e-09  1.42769198e-07 -1.51207159e-08\n",
      "   5.06991209e-08 -7.24909034e-08  6.64771012e-08  2.57382607e-08\n",
      "   1.10453385e-07  1.34461923e-07  1.42204708e-07  8.37448422e-08]\n",
      " [ 1.06474159e-07  5.28351653e-08  7.86655357e-08 -1.34938426e-07\n",
      "   4.72992802e-08  1.28295954e-08  3.06558864e-08 -1.36715153e-08\n",
      "   2.23728478e-08  3.34449095e-08  8.98510593e-08 -1.86302604e-08\n",
      "   2.64588778e-08 -2.07933316e-08  1.07710982e-07 -2.43924908e-08\n",
      "   5.44864830e-08  1.08784518e-07  8.37448422e-08  1.42029231e-07]]\n",
      "Class probability P(C):\n",
      "0.1\n",
      "*******************************************************************\n",
      "Mean:\n",
      "(20,)\n",
      "[-1.54831571e-06  3.58186771e-05  5.54469079e-05  1.58810835e-05\n",
      "  1.11310255e-05  1.04612755e-05  1.52607367e-08  1.01176302e-04\n",
      "  7.42808288e-06 -4.02812402e-05  3.85228486e-05 -2.48497308e-05\n",
      " -2.40585177e-05  2.61802961e-06  1.99366605e-05 -2.92745954e-05\n",
      "  5.92901015e-05  3.58669931e-05 -6.40026292e-06 -1.74399156e-06]\n",
      "Covar:\n",
      "(20, 20)\n",
      "[[ 6.93401873e-06 -1.36005939e-06 -4.23644402e-08  5.07105152e-07\n",
      "   5.78419581e-07 -5.13930297e-07  2.09509819e-07  1.06094600e-07\n",
      "  -1.45299804e-07 -1.06444119e-07  8.45013103e-07 -6.75512586e-07\n",
      "  -7.63368492e-07 -1.18698107e-06 -9.42242597e-08  8.76363490e-07\n",
      "   2.56463241e-08 -5.41169454e-07 -5.40211446e-07 -4.78814939e-07]\n",
      " [-1.36005939e-06  6.35993432e-06  2.41984024e-07 -1.93436679e-07\n",
      "  -3.51024010e-07 -4.25538623e-07  4.05035592e-08  4.68903826e-07\n",
      "   9.24469344e-08  1.53966471e-09 -2.65441555e-08  1.26249836e-07\n",
      "   9.92206849e-07 -7.26491358e-08  9.63861521e-07 -1.10621927e-06\n",
      "   9.84971552e-07  1.23801861e-06  2.41094096e-07  5.40473820e-07]\n",
      " [-4.23644402e-08  2.41984024e-07  6.86963352e-06 -4.93987526e-08\n",
      "  -3.68989747e-07  7.90924379e-07  4.69020060e-07 -5.96975146e-07\n",
      "  -2.38186922e-07  3.43758548e-07 -6.57116337e-08  4.71172025e-07\n",
      "   1.28387863e-06 -6.86341033e-08 -2.71017622e-07 -6.54622946e-07\n",
      "   1.69822215e-08  2.19177935e-08  1.15486144e-06 -5.82993307e-07]\n",
      " [ 5.07105152e-07 -1.93436679e-07 -4.93987526e-08  5.69569697e-06\n",
      "   8.86839210e-07 -2.72047244e-09  9.69892990e-07  4.44469199e-07\n",
      "   6.29500789e-07 -8.61879177e-08 -4.86099207e-07  5.07410921e-07\n",
      "   8.26530358e-09  3.73671486e-07 -3.89581541e-07 -8.09090161e-09\n",
      "  -8.54203650e-07 -1.05275153e-06 -3.21055168e-07 -4.71511595e-07]\n",
      " [ 5.78419581e-07 -3.51024010e-07 -3.68989747e-07  8.86839210e-07\n",
      "   6.21706714e-06 -5.86137135e-07  1.22187555e-08  5.11224864e-07\n",
      "   5.73264513e-07  1.40299360e-08  5.20921827e-07 -9.06733570e-07\n",
      "  -1.07470082e-07 -1.12951439e-07 -1.12134005e-07  1.47086857e-07\n",
      "  -1.02268781e-06 -3.20512706e-07 -8.80445046e-07 -5.18409576e-08]\n",
      " [-5.13930297e-07 -4.25538623e-07  7.90924379e-07 -2.72047244e-09\n",
      "  -5.86137135e-07  5.94005852e-06 -9.95338757e-07 -1.72498649e-08\n",
      "   2.11991311e-07  6.41033941e-07 -1.05133013e-07 -1.41562718e-07\n",
      "   3.66806662e-07  1.21121827e-06 -9.18530438e-07 -2.74299955e-07\n",
      "   5.83948416e-07 -3.71167364e-08  1.32233628e-08 -9.42326578e-07]\n",
      " [ 2.09509819e-07  4.05035592e-08  4.69020060e-07  9.69892990e-07\n",
      "   1.22187555e-08 -9.95338757e-07  5.45352300e-06  7.01795874e-07\n",
      "  -2.52288137e-07  2.71000144e-07 -1.98336688e-07  2.34386251e-07\n",
      "   1.11298760e-06 -5.88101521e-07  4.22375520e-07  6.45145990e-07\n",
      "  -8.24103829e-07 -1.40635971e-06 -9.97479885e-07  4.62752278e-07]\n",
      " [ 1.06094600e-07  4.68903826e-07 -5.96975146e-07  4.44469199e-07\n",
      "   5.11224864e-07 -1.72498649e-08  7.01795874e-07  6.51462074e-06\n",
      "   4.20333552e-07 -1.39456179e-06 -7.03251363e-08 -5.80771050e-08\n",
      "  -6.61671205e-07 -2.04782882e-08  1.16760832e-06 -1.11282638e-06\n",
      "  -3.26356865e-07 -3.10249465e-07 -8.64696565e-07  1.65479837e-07]\n",
      " [-1.45299804e-07  9.24469344e-08 -2.38186922e-07  6.29500789e-07\n",
      "   5.73264513e-07  2.11991311e-07 -2.52288137e-07  4.20333552e-07\n",
      "   5.49480902e-06 -5.45662998e-07  1.00177956e-06 -3.58903079e-08\n",
      "  -3.96711784e-07  2.90985017e-07 -3.22533855e-07  6.27186675e-07\n",
      "  -6.10737333e-07 -3.13776809e-07  3.49427082e-07 -2.56160017e-07]\n",
      " [-1.06444119e-07  1.53966471e-09  3.43758548e-07 -8.61879177e-08\n",
      "   1.40299360e-08  6.41033941e-07  2.71000144e-07 -1.39456179e-06\n",
      "  -5.45662998e-07  5.88492696e-06 -4.68100653e-07 -3.13178180e-07\n",
      "   1.02549182e-06 -3.22829726e-07 -1.05657589e-07  6.01070939e-07\n",
      "  -2.37993832e-07  3.88546245e-07 -9.33063199e-07 -6.74357072e-08]\n",
      " [ 8.45013103e-07 -2.65441555e-08 -6.57116337e-08 -4.86099207e-07\n",
      "   5.20921827e-07 -1.05133013e-07 -1.98336688e-07 -7.03251363e-08\n",
      "   1.00177956e-06 -4.68100653e-07  5.62711200e-06 -7.41979227e-07\n",
      "  -1.19750949e-07 -2.55838026e-07  1.57315432e-07  2.79358197e-07\n",
      "   5.45554275e-07 -9.42950932e-08  6.54168697e-07 -5.16026759e-08]\n",
      " [-6.75512586e-07  1.26249836e-07  4.71172025e-07  5.07410921e-07\n",
      "  -9.06733570e-07 -1.41562718e-07  2.34386251e-07 -5.80771050e-08\n",
      "  -3.58903079e-08 -3.13178180e-07 -7.41979227e-07  5.97183250e-06\n",
      "  -7.66796402e-07  4.32810766e-09 -1.53520472e-07 -1.22228915e-06\n",
      "   8.57498095e-07  1.91620310e-07 -1.06015501e-06  9.87024500e-08]\n",
      " [-7.63368492e-07  9.92206849e-07  1.28387863e-06  8.26530358e-09\n",
      "  -1.07470082e-07  3.66806662e-07  1.11298760e-06 -6.61671205e-07\n",
      "  -3.96711784e-07  1.02549182e-06 -1.19750949e-07 -7.66796402e-07\n",
      "   6.21068504e-06  8.81661179e-07 -1.06796536e-06 -5.00194085e-07\n",
      "   4.18631085e-07 -1.02849456e-07  5.33877572e-07 -2.65760184e-07]\n",
      " [-1.18698107e-06 -7.26491358e-08 -6.86341033e-08  3.73671486e-07\n",
      "  -1.12951439e-07  1.21121827e-06 -5.88101521e-07 -2.04782882e-08\n",
      "   2.90985017e-07 -3.22829726e-07 -2.55838026e-07  4.32810766e-09\n",
      "   8.81661179e-07  6.62496770e-06 -5.66196712e-07  3.38491789e-07\n",
      "   3.75194538e-07  2.17680439e-07  1.28699659e-06 -9.58437046e-07]\n",
      " [-9.42242597e-08  9.63861521e-07 -2.71017622e-07 -3.89581541e-07\n",
      "  -1.12134005e-07 -9.18530438e-07  4.22375520e-07  1.16760832e-06\n",
      "  -3.22533855e-07 -1.05657589e-07  1.57315432e-07 -1.53520472e-07\n",
      "  -1.06796536e-06 -5.66196712e-07  6.19763643e-06 -1.11744474e-06\n",
      "   1.72147402e-07  1.33888559e-07 -4.26555123e-07  1.24516080e-06]\n",
      " [ 8.76363490e-07 -1.10621927e-06 -6.54622946e-07 -8.09090161e-09\n",
      "   1.47086857e-07 -2.74299955e-07  6.45145990e-07 -1.11282638e-06\n",
      "   6.27186675e-07  6.01070939e-07  2.79358197e-07 -1.22228915e-06\n",
      "  -5.00194085e-07  3.38491789e-07 -1.11744474e-06  5.62206927e-06\n",
      "  -7.92224208e-07 -5.35632822e-07 -9.51242611e-08 -2.53312901e-07]\n",
      " [ 2.56463241e-08  9.84971552e-07  1.69822215e-08 -8.54203650e-07\n",
      "  -1.02268781e-06  5.83948416e-07 -8.24103829e-07 -3.26356865e-07\n",
      "  -6.10737333e-07 -2.37993832e-07  5.45554275e-07  8.57498095e-07\n",
      "   4.18631085e-07  3.75194538e-07  1.72147402e-07 -7.92224208e-07\n",
      "   5.87881181e-06  1.39277876e-06 -3.05228530e-07  1.04308568e-07]\n",
      " [-5.41169454e-07  1.23801861e-06  2.19177935e-08 -1.05275153e-06\n",
      "  -3.20512706e-07 -3.71167364e-08 -1.40635971e-06 -3.10249465e-07\n",
      "  -3.13776809e-07  3.88546245e-07 -9.42950932e-08  1.91620310e-07\n",
      "  -1.02849456e-07  2.17680439e-07  1.33888559e-07 -5.35632822e-07\n",
      "   1.39277876e-06  6.08293639e-06 -5.68850070e-07  5.32073933e-07]\n",
      " [-5.40211446e-07  2.41094096e-07  1.15486144e-06 -3.21055168e-07\n",
      "  -8.80445046e-07  1.32233628e-08 -9.97479885e-07 -8.64696565e-07\n",
      "   3.49427082e-07 -9.33063199e-07  6.54168697e-07 -1.06015501e-06\n",
      "   5.33877572e-07  1.28699659e-06 -4.26555123e-07 -9.51242611e-08\n",
      "  -3.05228530e-07 -5.68850070e-07  6.28189974e-06 -2.38085640e-07]\n",
      " [-4.78814939e-07  5.40473820e-07 -5.82993307e-07 -4.71511595e-07\n",
      "  -5.18409576e-08 -9.42326578e-07  4.62752278e-07  1.65479837e-07\n",
      "  -2.56160017e-07 -6.74357072e-08 -5.16026759e-08  9.87024500e-08\n",
      "  -2.65760184e-07 -9.58437046e-07  1.24516080e-06 -2.53312901e-07\n",
      "   1.04308568e-07  5.32073933e-07 -2.38085640e-07  5.47791191e-06]]\n",
      "Class probability P(C):\n",
      "0.1\n",
      "*******************************************************************\n"
     ]
    },
    {
     "name": "stdout",
     "output_type": "stream",
     "text": [
      "Mean:\n",
      "(20,)\n",
      "[ 1.3401143e-05  5.0899889e-06 -7.4417821e-06  6.0268394e-06\n",
      "  2.7793239e-06  4.9348864e-07  2.5960073e-06  7.8906314e-06\n",
      "  6.9395223e-06  8.6958189e-06  1.2160290e-05 -1.5016323e-05\n",
      "  6.4278896e-07 -5.0640729e-06 -7.5655935e-06 -9.6848962e-06\n",
      " -2.1994065e-06 -9.8115670e-06 -4.5248203e-06 -5.9155905e-06]\n",
      "Covar:\n",
      "(20, 20)\n",
      "[[ 1.45262382e-07  1.03949310e-09 -9.88088696e-09  3.22732735e-08\n",
      "   6.16117564e-08 -3.49585697e-08 -1.79621256e-08  4.18065260e-08\n",
      "  -5.23171766e-09 -7.94351501e-09 -4.53391619e-08 -1.88464371e-08\n",
      "   1.29200972e-08 -3.94180944e-08 -4.73060852e-08 -3.48293284e-08\n",
      "  -3.78322638e-08  6.19442833e-09 -3.50908128e-08 -1.65896389e-09]\n",
      " [ 1.03949310e-09  7.29060653e-08 -5.27551945e-08  1.61474573e-08\n",
      "  -6.74351632e-09  5.15604991e-08  7.70992463e-09 -1.14029914e-08\n",
      "  -9.19213937e-09  5.70571592e-08  1.81537846e-08 -8.17481217e-09\n",
      "   1.09615947e-08  4.18699455e-08 -7.61566609e-09 -3.17803019e-08\n",
      "  -2.47575360e-08  1.87810396e-09 -2.04042327e-08  3.11079924e-08]\n",
      " [-9.88088696e-09 -5.27551945e-08  2.25705244e-07  1.79756752e-08\n",
      "  -3.37374456e-08 -9.71843049e-08  7.73557384e-08  5.17943531e-08\n",
      "  -2.58042584e-08 -6.11601496e-08 -3.91448105e-08  1.18456124e-07\n",
      "  -3.85629004e-08 -1.40421022e-07  8.32317696e-08 -2.05681817e-08\n",
      "   6.01203086e-08  1.93290993e-08  7.47853616e-08 -5.00310892e-08]\n",
      " [ 3.22732735e-08  1.61474573e-08  1.79756752e-08  2.01451468e-07\n",
      "  -1.02903395e-08  1.51592680e-08  8.83692528e-08  4.43901119e-08\n",
      "   7.24625212e-08  3.55447809e-08  3.97916963e-09  4.88400284e-08\n",
      "  -4.33371613e-08 -7.36707387e-08  3.79320860e-08 -1.27434702e-07\n",
      "   6.17209202e-09 -7.25339759e-08  2.13175276e-08 -9.38117257e-09]\n",
      " [ 6.16117564e-08 -6.74351632e-09 -3.37374456e-08 -1.02903395e-08\n",
      "   1.21168313e-07  3.05895071e-08 -5.72050756e-08  6.44697567e-08\n",
      "  -2.58702989e-08  7.67085055e-09 -3.32182181e-09 -6.24796945e-08\n",
      "  -4.72601334e-09  4.30004429e-08 -2.82891784e-08 -2.40259414e-08\n",
      "  -3.96197457e-08  1.48527894e-08 -1.89969177e-08  3.03378164e-08]\n",
      " [-3.49585697e-08  5.15604991e-08 -9.71843049e-08  1.51592680e-08\n",
      "   3.05895071e-08  2.63375927e-07 -1.68353530e-08  1.83081891e-09\n",
      "  -3.53230041e-09  7.19683638e-08  3.45890377e-08 -3.99053189e-08\n",
      "   1.68714728e-08  1.45823783e-07  2.40513033e-08 -8.96580930e-08\n",
      "  -3.38745467e-08  1.58048390e-09 -3.18452985e-08  9.03543820e-08]\n",
      " [-1.79621256e-08  7.70992463e-09  7.73557384e-08  8.83692528e-08\n",
      "  -5.72050756e-08 -1.68353530e-08  2.31820541e-07  3.06704422e-08\n",
      "   2.92292508e-08  7.77551687e-08  2.02780246e-08  4.84908860e-08\n",
      "   6.12984661e-08 -3.79675420e-08  8.92268102e-08 -5.37781909e-08\n",
      "   1.61582790e-08 -4.85734959e-08  5.30040591e-08 -3.83900720e-08]\n",
      " [ 4.18065260e-08 -1.14029914e-08  5.17943531e-08  4.43901119e-08\n",
      "   6.44697567e-08  1.83081891e-09  3.06704422e-08  2.81153871e-07\n",
      "  -6.62187150e-08  2.07127782e-08 -1.87723706e-08 -9.13564983e-08\n",
      "   2.40333270e-08 -4.48637648e-08  1.80280841e-07 -8.25309373e-08\n",
      "  -2.58820149e-08  2.75629213e-08  5.49143604e-08  2.49921992e-08]\n",
      " [-5.23171766e-09 -9.19213937e-09 -2.58042584e-08  7.24625212e-08\n",
      "  -2.58702989e-08 -3.53230041e-09  2.92292508e-08 -6.62187150e-08\n",
      "   1.76905370e-07  1.35316729e-08  9.29970769e-08 -1.81513883e-08\n",
      "  -7.32966031e-08 -3.89679472e-08 -7.91699974e-08 -4.82397948e-08\n",
      "   2.28427914e-08 -4.90652079e-08 -3.03365435e-09 -6.68253931e-08]\n",
      " [-7.94351501e-09  5.70571592e-08 -6.11601496e-08  3.55447809e-08\n",
      "   7.67085055e-09  7.19683638e-08  7.77551687e-08  2.07127782e-08\n",
      "   1.35316729e-08  2.19942407e-07  3.73263010e-08 -1.79534572e-08\n",
      "   3.33292242e-08  6.17641027e-08 -3.05991542e-08 -9.34154185e-08\n",
      "  -3.44920943e-08  3.13524443e-08 -6.50427982e-08  1.11363811e-08]\n",
      " [-4.53391619e-08  1.81537846e-08 -3.91448105e-08  3.97916963e-09\n",
      "  -3.32182181e-09  3.45890377e-08  2.02780246e-08 -1.87723706e-08\n",
      "   9.29970769e-08  3.73263010e-08  2.66455852e-07 -9.27325513e-08\n",
      "  -8.54031694e-09  6.60453061e-08 -7.60092028e-09  1.09653729e-09\n",
      "   8.86719631e-09 -1.00427950e-07  3.04430109e-08 -5.47860188e-08]\n",
      " [-1.88464371e-08 -8.17481217e-09  1.18456124e-07  4.88400284e-08\n",
      "  -6.24796945e-08 -3.99053189e-08  4.84908860e-08 -9.13564983e-08\n",
      "  -1.81513883e-08 -1.79534572e-08 -9.27325513e-08  2.61697051e-07\n",
      "  -5.27688650e-08 -1.16987252e-07 -4.38422266e-08 -6.71647877e-09\n",
      "   5.60196454e-08  2.00530793e-08  1.17537098e-08  3.62652817e-09]\n",
      " [ 1.29200972e-08  1.09615947e-08 -3.85629004e-08 -4.33371613e-08\n",
      "  -4.72601334e-09  1.68714728e-08  6.12984661e-08  2.40333270e-08\n",
      "  -7.32966031e-08  3.33292242e-08 -8.54031694e-09 -5.27688650e-08\n",
      "   1.91437910e-07  6.54223021e-08  8.42462819e-08  6.25792847e-08\n",
      "  -4.18226855e-08  5.36476480e-09 -1.11836211e-08  3.59167829e-08]\n",
      " [-3.94180944e-08  4.18699455e-08 -1.40421022e-07 -7.36707387e-08\n",
      "   4.30004429e-08  1.45823783e-07 -3.79675420e-08 -4.48637648e-08\n",
      "  -3.89679472e-08  6.17641027e-08  6.60453061e-08 -1.16987252e-07\n",
      "   6.54223021e-08  2.79273404e-07  1.12961187e-08  4.65767407e-08\n",
      "  -6.65722068e-08  7.82742495e-09 -3.32633894e-08  3.56103186e-08]\n",
      " [-4.73060852e-08 -7.61566609e-09  8.32317696e-08  3.79320860e-08\n",
      "  -2.82891784e-08  2.40513033e-08  8.92268102e-08  1.80280841e-07\n",
      "  -7.91699974e-08 -3.05991542e-08 -7.60092028e-09 -4.38422266e-08\n",
      "   8.42462819e-08  1.12961187e-08  2.90693222e-07 -2.27481515e-08\n",
      "  -4.48630203e-09 -9.73842071e-09  8.39253087e-08  2.18627326e-08]\n",
      " [-3.48293284e-08 -3.17803019e-08 -2.05681817e-08 -1.27434702e-07\n",
      "  -2.40259414e-08 -8.96580930e-08 -5.37781909e-08 -8.25309373e-08\n",
      "  -4.82397948e-08 -9.34154185e-08  1.09653729e-09 -6.71647877e-09\n",
      "   6.25792847e-08  4.65767407e-08 -2.27481515e-08  2.26223699e-07\n",
      "   6.83047535e-09  3.30187221e-09  8.45725121e-09 -2.41750712e-08]\n",
      " [-3.78322638e-08 -2.47575360e-08  6.01203086e-08  6.17209202e-09\n",
      "  -3.96197457e-08 -3.38745467e-08  1.61582790e-08 -2.58820149e-08\n",
      "   2.28427914e-08 -3.44920943e-08  8.86719631e-09  5.60196454e-08\n",
      "  -4.18226855e-08 -6.65722068e-08 -4.48630203e-09  6.83047535e-09\n",
      "   9.31739377e-08 -1.13180019e-08  2.06904156e-08 -2.25037923e-08]\n",
      " [ 6.19442833e-09  1.87810396e-09  1.93290993e-08 -7.25339759e-08\n",
      "   1.48527894e-08  1.58048390e-09 -4.85734959e-08  2.75629213e-08\n",
      "  -4.90652079e-08  3.13524443e-08 -1.00427950e-07  2.00530793e-08\n",
      "   5.36476480e-09  7.82742495e-09 -9.73842071e-09  3.30187221e-09\n",
      "  -1.13180019e-08  1.56398822e-07 -1.18828760e-08  3.28270867e-08]\n",
      " [-3.50908128e-08 -2.04042327e-08  7.47853616e-08  2.13175276e-08\n",
      "  -1.89969177e-08 -3.18452985e-08  5.30040591e-08  5.49143604e-08\n",
      "  -3.03365435e-09 -6.50427982e-08  3.04430109e-08  1.17537098e-08\n",
      "  -1.11836211e-08 -3.32633894e-08  8.39253087e-08  8.45725121e-09\n",
      "   2.06904156e-08 -1.18828760e-08  1.20491987e-07 -1.34637844e-08]\n",
      " [-1.65896389e-09  3.11079924e-08 -5.00310892e-08 -9.38117257e-09\n",
      "   3.03378164e-08  9.03543820e-08 -3.83900720e-08  2.49921992e-08\n",
      "  -6.68253931e-08  1.11363811e-08 -5.47860188e-08  3.62652817e-09\n",
      "   3.59167829e-08  3.56103186e-08  2.18627326e-08 -2.41750712e-08\n",
      "  -2.25037923e-08  3.28270867e-08 -1.34637844e-08  1.40036836e-07]]\n",
      "Class probability P(C):\n",
      "0.1\n",
      "*******************************************************************\n",
      "Mean:\n",
      "(20,)\n",
      "[ 7.2616899e-07  6.4587271e-06 -5.8186301e-06 -1.1518749e-06\n",
      " -8.7477679e-07  3.1141522e-06 -6.2459035e-06  4.2965203e-06\n",
      " -1.3494631e-06 -7.7345857e-07  1.6287036e-05  9.1114532e-07\n",
      " -1.0612757e-05  9.3089204e-07 -4.5961460e-06 -6.3672337e-07\n",
      "  5.9633344e-06 -2.0154091e-06 -1.3249400e-05  1.4584698e-06]\n",
      "Covar:\n",
      "(20, 20)\n",
      "[[ 3.28804390e-07 -9.98657671e-08  7.45988933e-08 -3.33173234e-08\n",
      "  -7.64162851e-08  2.14840983e-08  1.99590784e-08 -1.33272294e-07\n",
      "   3.05363860e-08  3.45405032e-09  9.01813812e-08  2.34947276e-08\n",
      "  -1.10303642e-07 -6.51553558e-08 -1.77104426e-07 -1.33016280e-08\n",
      "  -1.35120050e-08 -2.02871960e-08 -1.21420935e-07 -3.51138158e-08]\n",
      " [-9.98657671e-08  2.89127737e-07 -4.65724425e-08 -2.44186283e-08\n",
      "   7.58740468e-08 -2.03135511e-07 -7.06583672e-08  5.31432713e-08\n",
      "  -3.96012924e-08  3.30809860e-08  7.41293957e-08 -3.77397850e-09\n",
      "  -3.26869220e-08  4.05701969e-08  5.28230503e-08  1.07986647e-07\n",
      "   8.27811331e-08  8.90220111e-08  1.62925823e-07 -3.14466927e-08]\n",
      " [ 7.45988933e-08 -4.65724425e-08  3.31915881e-07 -7.80934799e-09\n",
      "   1.24235753e-08  1.00779090e-07 -1.18718559e-07 -3.33431020e-08\n",
      "  -9.12787287e-09  1.28522038e-07  1.20555291e-07  1.46120140e-08\n",
      "   6.50424203e-08 -1.97188138e-07 -5.32658818e-08  4.92508751e-08\n",
      "   6.40203857e-08 -2.18713315e-08  1.29954596e-07 -2.49179428e-08]\n",
      " [-3.33173234e-08 -2.44186283e-08 -7.80934799e-09  1.31997217e-07\n",
      "   4.53160625e-08  1.76649706e-08  3.98046434e-08  2.64353250e-08\n",
      "  -5.81369123e-08  5.94989799e-08 -3.49505908e-08  5.55398880e-08\n",
      "   4.09449219e-08 -3.10787686e-08  2.62106067e-08 -2.82717235e-09\n",
      "   3.96855775e-08  3.04366698e-08 -7.54836834e-08 -6.93402928e-08]\n",
      " [-7.64162851e-08  7.58740468e-08  1.24235753e-08  4.53160625e-08\n",
      "   3.72563848e-07 -1.44882623e-07 -5.13268462e-08  1.08467876e-07\n",
      "  -8.43838235e-08  8.24272120e-08  7.02492721e-08 -3.78605656e-08\n",
      "   2.01071089e-08  4.13740345e-08  1.33713562e-08  1.16399611e-07\n",
      "  -6.94111845e-10  9.45977634e-08  5.98941983e-08 -1.39778657e-07]\n",
      " [ 2.14840983e-08 -2.03135511e-07  1.00779090e-07  1.76649706e-08\n",
      "  -1.44882623e-07  3.65142437e-07  5.27453134e-10 -1.37029156e-08\n",
      "   2.26680183e-08 -4.93246776e-08 -9.20698035e-08  3.26761892e-08\n",
      "   9.55369471e-08 -6.83977158e-08 -1.45160744e-08 -1.32657682e-07\n",
      "  -1.40165996e-08 -5.00107053e-08 -1.05037914e-07  1.31823368e-07]\n",
      " [ 1.99590784e-08 -7.06583672e-08 -1.18718559e-07  3.98046434e-08\n",
      "  -5.13268462e-08  5.27453134e-10  2.55579072e-07 -3.89020653e-09\n",
      "  -2.82948178e-08 -6.82183095e-08 -9.43680385e-08 -2.16981108e-08\n",
      "   5.62142416e-08  2.06023503e-08  6.58406650e-08 -1.08179486e-07\n",
      "  -4.92447065e-08 -2.23909393e-08 -2.11258174e-07 -7.36444657e-08]\n",
      " [-1.33272294e-07  5.31432713e-08 -3.33431020e-08  2.64353250e-08\n",
      "   1.08467876e-07 -1.37029156e-08 -3.89020653e-09  2.84306317e-07\n",
      "  -4.88025552e-08  1.47564708e-08  7.49640468e-09  5.67771858e-08\n",
      "   8.49169321e-08  8.67003805e-09  4.65247953e-08  1.35582789e-08\n",
      "   1.78539343e-09  3.89935552e-08  2.45017545e-08 -5.63924503e-08]\n",
      " [ 3.05363860e-08 -3.96012924e-08 -9.12787287e-09 -5.81369123e-08\n",
      "  -8.43838235e-08  2.26680183e-08 -2.82948178e-08 -4.88025552e-08\n",
      "   2.65122326e-07 -8.25030936e-08 -3.42569387e-08 -3.82284549e-08\n",
      "  -3.41199692e-08  2.34825185e-08  2.90559246e-08 -3.01238821e-08\n",
      "  -7.08763619e-08 -6.43104705e-08  3.48635379e-08  1.30562186e-07]\n",
      " [ 3.45405032e-09  3.30809860e-08  1.28522038e-07  5.94989799e-08\n",
      "   8.24272120e-08 -4.93246776e-08 -6.82183095e-08  1.47564708e-08\n",
      "  -8.25030936e-08  2.43757757e-07  1.11381801e-07  4.18008395e-08\n",
      "  -1.24468646e-08 -8.24735826e-08 -8.99467921e-08  4.98230194e-08\n",
      "   4.24728228e-09  6.85583096e-09  7.52092455e-08 -5.38710115e-08]\n",
      " [ 9.01813812e-08  7.41293957e-08  1.20555291e-07 -3.49505908e-08\n",
      "   7.02492721e-08 -9.20698035e-08 -9.43680385e-08  7.49640468e-09\n",
      "  -3.42569387e-08  1.11381801e-07  2.86782508e-07 -1.29186477e-08\n",
      "  -6.75828211e-08 -5.47729715e-08 -1.17886513e-07  1.33069781e-07\n",
      "   3.75109729e-08  2.80951011e-08  1.12592961e-07 -1.13898439e-07]\n",
      " [ 2.34947276e-08 -3.77397850e-09  1.46120140e-08  5.55398880e-08\n",
      "  -3.78605656e-08  3.26761892e-08 -2.16981108e-08  5.67771858e-08\n",
      "  -3.82284549e-08  4.18008395e-08 -1.29186477e-08  2.39361222e-07\n",
      "  -4.15769703e-08  7.45013725e-09 -7.13012470e-08  1.30754187e-08\n",
      "   7.15133481e-08  5.25358621e-08 -5.43748475e-08 -2.70850325e-08]\n",
      " [-1.10303642e-07 -3.26869220e-08  6.50424203e-08  4.09449219e-08\n",
      "   2.01071089e-08  9.55369471e-08  5.62142416e-08  8.49169321e-08\n",
      "  -3.41199692e-08 -1.24468646e-08 -6.75828211e-08 -4.15769703e-08\n",
      "   2.85863033e-07 -5.37467049e-08  1.71824720e-07 -9.45279658e-08\n",
      "   3.77973139e-08 -1.46130484e-08  2.25146312e-08 -4.74283162e-08]\n",
      " [-6.51553558e-08  4.05701969e-08 -1.97188138e-07 -3.10787686e-08\n",
      "   4.13740345e-08 -6.83977158e-08  2.06023503e-08  8.67003805e-09\n",
      "   2.34825185e-08 -8.24735826e-08 -5.47729715e-08  7.45013725e-09\n",
      "  -5.37467049e-08  2.63060151e-07  1.92244682e-08 -2.18449269e-08\n",
      "  -6.76948499e-08 -1.96595036e-08 -1.98942647e-08  7.00382715e-08]\n",
      " [-1.77104426e-07  5.28230503e-08 -5.32658818e-08  2.62106067e-08\n",
      "   1.33713562e-08 -1.45160744e-08  6.58406650e-08  4.65247953e-08\n",
      "   2.90559246e-08 -8.99467921e-08 -1.17886513e-07 -7.13012470e-08\n",
      "   1.71824720e-07  1.92244682e-08  2.87912427e-07 -1.00210628e-07\n",
      "   3.29006376e-08 -3.72753654e-08  3.68063965e-08 -2.84784796e-08]\n",
      " [-1.33016280e-08  1.07986647e-07  4.92508751e-08 -2.82717235e-09\n",
      "   1.16399611e-07 -1.32657682e-07 -1.08179486e-07  1.35582789e-08\n",
      "  -3.01238821e-08  4.98230194e-08  1.33069781e-07  1.30754187e-08\n",
      "  -9.45279658e-08 -2.18449269e-08 -1.00210628e-07  2.61659608e-07\n",
      "   5.52799373e-08  1.02635875e-07  1.43951718e-07 -1.04677219e-07]\n",
      " [-1.35120050e-08  8.27811331e-08  6.40203857e-08  3.96855775e-08\n",
      "  -6.94111845e-10 -1.40165996e-08 -4.92447065e-08  1.78539343e-09\n",
      "  -7.08763619e-08  4.24728228e-09  3.75109729e-08  7.15133481e-08\n",
      "   3.77973139e-08 -6.76948499e-08  3.29006376e-08  5.52799373e-08\n",
      "   2.30933991e-07  1.11285489e-07  6.09119961e-08 -8.60294535e-08]\n",
      " [-2.02871960e-08  8.90220111e-08 -2.18713315e-08  3.04366698e-08\n",
      "   9.45977634e-08 -5.00107053e-08 -2.23909393e-08  3.89935552e-08\n",
      "  -6.43104705e-08  6.85583096e-09  2.80951011e-08  5.25358621e-08\n",
      "  -1.46130484e-08 -1.96595036e-08 -3.72753654e-08  1.02635875e-07\n",
      "   1.11285489e-07  2.18303212e-07  3.28286220e-08 -7.28138853e-08]\n",
      " [-1.21420935e-07  1.62925823e-07  1.29954596e-07 -7.54836834e-08\n",
      "   5.98941983e-08 -1.05037914e-07 -2.11258174e-07  2.45017545e-08\n",
      "   3.48635379e-08  7.52092455e-08  1.12592961e-07 -5.43748475e-08\n",
      "   2.25146312e-08 -1.98942647e-08  3.68063965e-08  1.43951718e-07\n",
      "   6.09119961e-08  3.28286220e-08  4.23961432e-07  5.51787184e-08]\n",
      " [-3.51138158e-08 -3.14466927e-08 -2.49179428e-08 -6.93402928e-08\n",
      "  -1.39778657e-07  1.31823368e-07 -7.36444657e-08 -5.63924503e-08\n",
      "   1.30562186e-07 -5.38710115e-08 -1.13898439e-07 -2.70850325e-08\n",
      "  -4.74283162e-08  7.00382715e-08 -2.84784796e-08 -1.04677219e-07\n",
      "  -8.60294535e-08 -7.28138853e-08  5.51787184e-08  3.97163227e-07]]\n",
      "Class probability P(C):\n",
      "0.1\n",
      "*******************************************************************\n",
      "Mean:\n",
      "(20,)\n",
      "[-2.8271390e-06  2.6261885e-05  8.8757361e-06  4.1997027e-06\n",
      " -6.3656034e-06  1.3070510e-06  1.2654053e-05 -6.3415587e-06\n",
      "  1.7480630e-05  2.8601746e-06  7.2431576e-06 -2.0248493e-05\n",
      " -2.0418360e-05  6.8536574e-06  6.8684512e-06 -6.9411217e-06\n",
      "  1.1696535e-05  3.0970164e-06 -5.3395702e-06  8.2301295e-07]\n",
      "Covar:\n"
     ]
    },
    {
     "name": "stdout",
     "output_type": "stream",
     "text": [
      "(20, 20)\n",
      "[[ 7.01245979e-07 -2.61267574e-08  1.08233709e-07 -1.58490785e-08\n",
      "   1.23703890e-07  7.94292224e-08 -1.74485712e-07  1.89359038e-07\n",
      "  -1.64163647e-07  1.56415729e-07 -1.00489246e-07 -7.58961691e-08\n",
      "   7.64744788e-08 -1.52330884e-07 -1.55148479e-07  3.98500055e-08\n",
      "  -6.67322079e-09  2.90262996e-07 -1.90555936e-07 -1.16018324e-07]\n",
      " [-2.61267574e-08  5.84774983e-07  1.99898218e-07 -8.72163972e-08\n",
      "  -1.50195851e-07 -3.50307798e-08  1.28364632e-07 -2.01201832e-07\n",
      "  -2.82329277e-08 -4.42056644e-08  1.63773039e-07 -1.24181397e-07\n",
      "  -3.41780235e-08  5.27370952e-08  1.58166734e-08  1.40736020e-08\n",
      "   6.42338607e-08  7.32539359e-08  2.79066081e-08 -4.19813384e-08]\n",
      " [ 1.08233709e-07  1.99898218e-07  6.42850128e-07 -7.95690780e-08\n",
      "  -3.08583630e-07 -1.42924035e-07  1.71772094e-07 -1.97904545e-07\n",
      "  -1.85040541e-08 -3.65888946e-08  1.76288529e-07  1.13058632e-07\n",
      "   9.58163605e-08 -1.04618432e-07  1.20478810e-07 -5.70658756e-08\n",
      "   9.93198980e-08 -8.67752822e-08  9.54660071e-08 -1.67698259e-07]\n",
      " [-1.58490785e-08 -8.72163972e-08 -7.95690780e-08  3.07213047e-07\n",
      "   1.70928358e-07 -7.88320096e-08  3.69244386e-08  2.77513852e-08\n",
      "   7.56626003e-08 -4.91650628e-08 -2.43910882e-08 -1.02730869e-07\n",
      "  -4.49391030e-08  1.62094630e-08 -1.03177445e-08 -1.15285893e-07\n",
      "  -1.09936213e-07 -3.67028769e-08 -6.51716593e-08 -4.94574868e-08]\n",
      " [ 1.23703890e-07 -1.50195851e-07 -3.08583630e-07  1.70928358e-07\n",
      "   6.75648836e-07  1.19232847e-07 -1.91600667e-07  1.03598343e-07\n",
      "  -5.22330330e-08  6.93508891e-08 -1.37889428e-07 -2.37242081e-07\n",
      "  -1.08280179e-08  8.98063483e-08 -7.25242779e-08 -1.73522393e-07\n",
      "  -2.71580667e-07  1.74432217e-07 -1.23297137e-07  7.35409612e-08]\n",
      " [ 7.94292224e-08 -3.50307798e-08 -1.42924035e-07 -7.88320096e-08\n",
      "   1.19232847e-07  4.69895901e-07 -5.96352486e-08  2.22881729e-08\n",
      "  -6.40503804e-08  1.98833113e-07  2.74898288e-08  1.77170505e-07\n",
      "  -1.74392067e-08  1.32999639e-07 -9.72008776e-08  6.51261965e-08\n",
      "   1.89768816e-07 -6.90642863e-08 -1.00700403e-07  6.05460039e-08]\n",
      " [-1.74485712e-07  1.28364632e-07  1.71772094e-07  3.69244386e-08\n",
      "  -1.91600667e-07 -5.96352486e-08  3.99445048e-07 -1.63613898e-07\n",
      "   1.54436820e-07 -1.65396103e-08  1.06085646e-07  8.38525327e-08\n",
      "   3.58418307e-08 -5.30834384e-08  9.70330954e-08 -1.88827745e-08\n",
      "   5.10253543e-08 -1.34914138e-07  1.92874831e-08 -2.88014306e-08]\n",
      " [ 1.89359038e-07 -2.01201832e-07 -1.97904545e-07  2.77513852e-08\n",
      "   1.03598343e-07  2.22881729e-08 -1.63613898e-07  4.49469585e-07\n",
      "  -7.19286271e-09  5.33512671e-08 -1.97218953e-07 -5.65892310e-08\n",
      "  -1.18920299e-08 -4.29328803e-08  1.78497835e-08  6.68025948e-08\n",
      "  -1.42806969e-08  1.05226912e-07 -8.51301232e-08  4.87096872e-08]\n",
      " [-1.64163647e-07 -2.82329277e-08 -1.85040541e-08  7.56626003e-08\n",
      "  -5.22330330e-08 -6.40503804e-08  1.54436820e-07 -7.19286271e-09\n",
      "   5.14391770e-07  1.34198974e-07  4.03200109e-08 -4.04344321e-08\n",
      "  -9.74230792e-08  4.85638674e-08  7.29314056e-08 -7.12876256e-08\n",
      "   7.23354495e-08 -1.46257390e-08  1.80051758e-08 -3.16815741e-08]\n",
      " [ 1.56415729e-07 -4.42056644e-08 -3.65888946e-08 -4.91650628e-08\n",
      "   6.93508891e-08  1.98833113e-07 -1.65396103e-08  5.33512671e-08\n",
      "   1.34198974e-07  4.41198906e-07  9.51672064e-09  6.24005156e-08\n",
      "   9.49146483e-08 -3.96757337e-09 -8.91502253e-08  7.65839356e-08\n",
      "   1.23449343e-07  8.61413268e-08 -1.02554357e-07  4.52690714e-08]\n",
      " [-1.00489246e-07  1.63773039e-07  1.76288529e-07 -2.43910882e-08\n",
      "  -1.37889428e-07  2.74898288e-08  1.06085646e-07 -1.97218953e-07\n",
      "   4.03200109e-08  9.51672064e-09  4.66546933e-07  1.33149157e-07\n",
      "  -1.09168652e-07 -4.62192517e-09 -6.77606434e-08 -1.49032335e-07\n",
      "   1.70891312e-07 -7.93994288e-08  3.20352374e-08  4.20512979e-10]\n",
      " [-7.58961691e-08 -1.24181397e-07  1.13058632e-07 -1.02730869e-07\n",
      "  -2.37242081e-07  1.77170505e-07  8.38525327e-08 -5.65892310e-08\n",
      "  -4.04344321e-08  6.24005156e-08  1.33149157e-07  8.53928910e-07\n",
      "   1.21825227e-07 -1.45023359e-08 -1.13877337e-07  2.85424865e-07\n",
      "   3.20152340e-07 -2.18427703e-07 -8.21929952e-08  1.27569589e-07]\n",
      " [ 7.64744788e-08 -3.41780235e-08  9.58163605e-08 -4.49391030e-08\n",
      "  -1.08280179e-08 -1.74392067e-08  3.58418307e-08 -1.18920299e-08\n",
      "  -9.74230792e-08  9.49146483e-08 -1.09168652e-07  1.21825227e-07\n",
      "   4.29154855e-07 -1.20280724e-07  1.51894775e-09  8.38627248e-08\n",
      "  -7.60886125e-08  8.14509926e-08  3.45780453e-08  3.13667998e-09]\n",
      " [-1.52330884e-07  5.27370952e-08 -1.04618432e-07  1.62094630e-08\n",
      "   8.98063483e-08  1.32999639e-07 -5.30834384e-08 -4.29328803e-08\n",
      "   4.85638674e-08 -3.96757337e-09 -4.62192517e-09 -1.45023359e-08\n",
      "  -1.20280724e-07  4.05991702e-07  2.39084478e-08  3.86173257e-08\n",
      "   9.05589764e-09 -1.17327090e-07  7.07219475e-08 -4.77388085e-09]\n",
      " [-1.55148479e-07  1.58166734e-08  1.20478810e-07 -1.03177445e-08\n",
      "  -7.25242779e-08 -9.72008776e-08  9.70330954e-08  1.78497835e-08\n",
      "   7.29314056e-08 -8.91502253e-08 -6.77606434e-08 -1.13877337e-07\n",
      "   1.51894775e-09  2.39084478e-08  3.04334145e-07 -5.49391077e-08\n",
      "  -5.64472458e-08 -1.89067001e-08  1.08680846e-07  1.93588717e-09]\n",
      " [ 3.98500055e-08  1.40736020e-08 -5.70658756e-08 -1.15285893e-07\n",
      "  -1.73522393e-07  6.51261965e-08 -1.88827745e-08  6.68025948e-08\n",
      "  -7.12876256e-08  7.65839356e-08 -1.49032335e-07  2.85424865e-07\n",
      "   8.38627248e-08  3.86173257e-08 -5.49391077e-08  5.98693373e-07\n",
      "   1.16575061e-07 -3.99135901e-08 -1.35473948e-07  2.31726808e-07]\n",
      " [-6.67322079e-09  6.42338607e-08  9.93198980e-08 -1.09936213e-07\n",
      "  -2.71580667e-07  1.89768816e-07  5.10253543e-08 -1.42806969e-08\n",
      "   7.23354495e-08  1.23449343e-07  1.70891312e-07  3.20152340e-07\n",
      "  -7.60886125e-08  9.05589764e-09 -5.64472458e-08  1.16575061e-07\n",
      "   4.41666367e-07 -7.74456373e-08 -5.67100326e-08  3.75397495e-08]\n",
      " [ 2.90262996e-07  7.32539359e-08 -8.67752822e-08 -3.67028769e-08\n",
      "   1.74432217e-07 -6.90642863e-08 -1.34914138e-07  1.05226912e-07\n",
      "  -1.46257390e-08  8.61413268e-08 -7.93994288e-08 -2.18427703e-07\n",
      "   8.14509926e-08 -1.17327090e-07 -1.89067001e-08 -3.99135901e-08\n",
      "  -7.74456373e-08  5.27270511e-07 -5.23338138e-08  1.72523415e-08]\n",
      " [-1.90555936e-07  2.79066081e-08  9.54660071e-08 -6.51716593e-08\n",
      "  -1.23297137e-07 -1.00700403e-07  1.92874831e-08 -8.51301232e-08\n",
      "   1.80051758e-08 -1.02554357e-07  3.20352374e-08 -8.21929952e-08\n",
      "   3.45780453e-08  7.07219475e-08  1.08680846e-07 -1.35473948e-07\n",
      "  -5.67100326e-08 -5.23338138e-08  3.00619173e-07 -1.12714406e-07]\n",
      " [-1.16018324e-07 -4.19813384e-08 -1.67698259e-07 -4.94574868e-08\n",
      "   7.35409612e-08  6.05460039e-08 -2.88014306e-08  4.87096872e-08\n",
      "  -3.16815741e-08  4.52690714e-08  4.20512979e-10  1.27569589e-07\n",
      "   3.13667998e-09 -4.77388085e-09  1.93588717e-09  2.31726808e-07\n",
      "   3.75397495e-08  1.72523415e-08 -1.12714406e-07  3.01136074e-07]]\n",
      "Class probability P(C):\n",
      "0.1\n",
      "*******************************************************************\n",
      "Mean:\n",
      "(20,)\n",
      "[ 2.8329259e-06 -2.1891215e-06 -1.2935711e-06  3.1897644e-06\n",
      " -5.5255091e-06  1.2011071e-06 -6.9040613e-07  7.9878373e-06\n",
      "  7.7324546e-07  6.3074931e-06 -7.6027213e-06  2.3480290e-07\n",
      " -6.5695203e-06 -2.6470025e-06  2.1645587e-06 -3.2597140e-07\n",
      "  2.5340026e-07 -8.3774057e-06  5.9947879e-06 -2.2336705e-07]\n",
      "Covar:\n",
      "(20, 20)\n",
      "[[ 3.14870161e-08 -9.18399899e-09 -8.43261033e-09  4.12524858e-08\n",
      "  -2.90243997e-08  1.22659249e-08 -1.52386173e-08  2.95472709e-08\n",
      "   1.42189782e-08  3.99611540e-08 -3.97922294e-08  2.54850603e-08\n",
      "  -5.24877944e-08 -3.51264983e-09  2.91520357e-08  1.60138750e-08\n",
      "   1.08675982e-08 -3.42075971e-08  3.32380634e-08  4.64570683e-09]\n",
      " [-9.18399899e-09  4.01358133e-08  2.61099887e-08  4.83803780e-09\n",
      "   2.06193961e-08  2.25041014e-08 -1.08393162e-08  7.14000954e-09\n",
      "  -1.54534240e-08 -4.08626982e-09  3.36974639e-08 -2.25511457e-09\n",
      "  -9.76272960e-09  9.03543542e-09 -2.66477378e-08 -5.73232392e-09\n",
      "   1.12773627e-08  2.58064553e-09 -1.39837475e-08 -1.24999760e-08]\n",
      " [-8.43261033e-09  2.61099887e-08  5.29388318e-08 -1.13672246e-08\n",
      "   3.82772680e-08  2.70988691e-08 -1.31920341e-08  2.38070620e-08\n",
      "  -8.26262085e-09 -1.05378364e-08  3.32782159e-08 -3.11915725e-08\n",
      "  -1.99378814e-08  2.41854974e-09 -4.10183542e-09 -8.00082918e-09\n",
      "  -9.47838970e-09  6.83194417e-09 -2.93654242e-08 -3.89395033e-08]\n",
      " [ 4.12524858e-08  4.83803780e-09 -1.13672246e-08  7.45590066e-08\n",
      "  -4.64343561e-08  2.44737996e-08 -2.63466168e-08  4.26292212e-08\n",
      "   2.16541406e-08  6.92546345e-08 -4.84147889e-08  6.16545052e-08\n",
      "  -8.62130812e-08  1.13270619e-09  3.40472897e-08  3.73860838e-08\n",
      "   4.01469413e-08 -5.18171830e-08  5.61610335e-08  1.75043349e-08]\n",
      " [-2.90243997e-08  2.06193961e-08  3.82772680e-08 -4.64343561e-08\n",
      "   8.04088279e-08  9.98445644e-09 -6.49233943e-09 -3.30160562e-08\n",
      "  -1.71602933e-08 -7.59230033e-08  7.98223658e-08 -7.88732455e-08\n",
      "   5.98998313e-08  2.04185368e-08 -3.19092670e-08 -3.55095075e-08\n",
      "  -2.33530238e-08  6.92406321e-08 -4.99648870e-08 -1.75248675e-08]\n",
      " [ 1.22659249e-08  2.25041014e-08  2.70988691e-08  2.44737996e-08\n",
      "   9.98445644e-09  3.16853171e-08 -2.13974309e-08  3.28853567e-08\n",
      "  -3.38186187e-10  1.67841584e-08  6.07920134e-09 -1.67379569e-09\n",
      "  -4.24379634e-08  6.03740806e-09  4.47058376e-11  1.04159729e-09\n",
      "   1.09766511e-08 -1.75485896e-08  7.22671179e-09 -1.29634210e-08]\n",
      " [-1.52386173e-08 -1.08393162e-08 -1.31920341e-08 -2.63466168e-08\n",
      "  -6.49233943e-09 -2.13974309e-08  2.82619664e-08 -2.53779031e-08\n",
      "  -2.26299358e-09 -1.81355688e-08 -1.86269547e-10  1.34508097e-08\n",
      "   4.24806829e-08 -4.28228166e-09 -2.20067753e-08 -7.84545851e-09\n",
      "  -1.29856379e-08  4.64839329e-09 -1.80545720e-08  4.28278197e-09]\n",
      " [ 2.95472709e-08  7.14000954e-09  2.38070620e-08  4.26292212e-08\n",
      "  -3.30160562e-08  3.28853567e-08 -2.53779031e-08  8.75395005e-08\n",
      "   3.79848174e-09  7.43940043e-08 -4.87130476e-08  1.25376696e-08\n",
      "  -1.03221267e-07 -2.03294298e-08  3.64666898e-08  1.64490529e-08\n",
      "   1.43034227e-08 -7.25301606e-08  3.65206320e-08 -2.63374013e-08]\n",
      " [ 1.42189782e-08 -1.54534240e-08 -8.26262085e-09  2.16541406e-08\n",
      "  -1.71602933e-08 -3.38186187e-10 -2.26299358e-09  3.79848174e-09\n",
      "   2.18353403e-08  1.81743477e-08 -2.15653313e-08  2.95680899e-08\n",
      "  -1.96169154e-08  1.90094576e-09  2.32096084e-08  2.31432492e-08\n",
      "   1.32061284e-08 -8.53112986e-09  1.95677791e-08  1.31566567e-08]\n",
      " [ 3.99611540e-08 -4.08626982e-09 -1.05378364e-08  6.92546345e-08\n",
      "  -7.59230033e-08  1.67841584e-08 -1.81355688e-08  7.43940043e-08\n",
      "   1.81743477e-08  1.05631328e-07 -8.15536297e-08  7.33721907e-08\n",
      "  -1.16193180e-07 -2.18591003e-08  5.18239669e-08  4.61657859e-08\n",
      "   3.66720953e-08 -8.85636951e-08  6.10854877e-08  4.16457328e-10]\n",
      " [-3.97922294e-08  3.36974639e-08  3.32782159e-08 -4.84147889e-08\n",
      "   7.98223658e-08  6.07920134e-09 -1.86269547e-10 -4.87130476e-08\n",
      "  -2.15653313e-08 -8.15536297e-08  9.52892921e-08 -6.22608358e-08\n",
      "   7.49609415e-08  2.52252687e-08 -4.90666243e-08 -2.94290264e-08\n",
      "  -1.02638400e-08  7.81440432e-08 -5.36300514e-08 -7.55512788e-09]\n",
      " [ 2.54850603e-08 -2.25511457e-09 -3.11915725e-08  6.16545052e-08\n",
      "  -7.88732455e-08 -1.67379569e-09  1.34508097e-08  1.25376696e-08\n",
      "   2.95680899e-08  7.33721907e-08 -6.22608358e-08  1.34805995e-07\n",
      "  -5.56364463e-08 -3.22035807e-09  1.17044010e-08  5.65378456e-08\n",
      "   4.68211656e-08 -6.34559477e-08  3.99250053e-08  2.93710536e-08]\n",
      " [-5.24877944e-08 -9.76272960e-09 -1.99378814e-08 -8.62130812e-08\n",
      "   5.98998313e-08 -4.24379634e-08  4.24806829e-08 -1.03221267e-07\n",
      "  -1.96169154e-08 -1.16193180e-07  7.49609415e-08 -5.56364463e-08\n",
      "   1.58677532e-07  1.95267223e-08 -7.12024034e-08 -5.04517938e-08\n",
      "  -3.80068648e-08  9.21666913e-08 -6.17927588e-08  2.14636540e-08]\n",
      " [-3.51264983e-09  9.03543542e-09  2.41854974e-09  1.13270619e-09\n",
      "   2.04185368e-08  6.03740806e-09 -4.28228166e-09 -2.03294298e-08\n",
      "   1.90094576e-09 -2.18591003e-08  2.52252687e-08 -3.22035807e-09\n",
      "   1.95267223e-08  1.68385409e-08 -1.51873762e-08 -3.37804716e-09\n",
      "   6.41743084e-09  2.28393100e-08 -5.27433719e-09  1.13442269e-08]\n",
      " [ 2.91520357e-08 -2.66477378e-08 -4.10183542e-09  3.40472897e-08\n",
      "  -3.19092670e-08  4.47058376e-11 -2.20067753e-08  3.64666898e-08\n",
      "   2.32096084e-08  5.18239669e-08 -4.90666243e-08  1.17044010e-08\n",
      "  -7.12024034e-08 -1.51873762e-08  7.67283558e-08  3.97784140e-08\n",
      "   1.16068379e-08 -2.14305712e-08  3.59577400e-08 -5.03940292e-09]\n",
      " [ 1.60138750e-08 -5.73232392e-09 -8.00082918e-09  3.73860838e-08\n",
      "  -3.55095075e-08  1.04159729e-09 -7.84545851e-09  1.64490529e-08\n",
      "   2.31432492e-08  4.61657859e-08 -2.94290264e-08  5.65378456e-08\n",
      "  -5.04517938e-08 -3.37804716e-09  3.97784140e-08  4.99723906e-08\n",
      "   3.51562258e-08 -1.95817404e-08  3.03138594e-08  1.27131767e-08]\n",
      " [ 1.08675982e-08  1.12773627e-08 -9.47838970e-09  4.01469413e-08\n",
      "  -2.33530238e-08  1.09766511e-08 -1.29856379e-08  1.43034227e-08\n",
      "   1.32061284e-08  3.66720953e-08 -1.02638400e-08  4.68211656e-08\n",
      "  -3.80068648e-08  6.41743084e-09  1.16068379e-08  3.51562258e-08\n",
      "   4.52201367e-08 -1.67876279e-08  3.49831710e-08  2.51715946e-08]\n",
      " [-3.42075971e-08  2.58064553e-09  6.83194417e-09 -5.18171830e-08\n",
      "   6.92406321e-08 -1.75485896e-08  4.64839329e-09 -7.25301606e-08\n",
      "  -8.53112986e-09 -8.85636951e-08  7.81440432e-08 -6.34559477e-08\n",
      "   9.21666913e-08  2.28393100e-08 -2.14305712e-08 -1.95817404e-08\n",
      "  -1.67876279e-08  9.68863968e-08 -4.49355345e-08  8.07101648e-09]\n",
      " [ 3.32380634e-08 -1.39837475e-08 -2.93654242e-08  5.61610335e-08\n",
      "  -4.99648870e-08  7.22671179e-09 -1.80545720e-08  3.65206320e-08\n",
      "   1.95677791e-08  6.10854877e-08 -5.36300514e-08  3.99250053e-08\n",
      "  -6.17927588e-08 -5.27433719e-09  3.59577400e-08  3.03138594e-08\n",
      "   3.49831710e-08 -4.49355345e-08  6.47568144e-08  2.95657401e-08]\n",
      " [ 4.64570683e-09 -1.24999760e-08 -3.89395033e-08  1.75043349e-08\n",
      "  -1.75248675e-08 -1.29634210e-08  4.28278197e-09 -2.63374013e-08\n",
      "   1.31566567e-08  4.16457328e-10 -7.55512788e-09  2.93710536e-08\n",
      "   2.14636540e-08  1.13442269e-08 -5.03940292e-09  1.27131767e-08\n",
      "   2.51715946e-08  8.07101648e-09  2.95657401e-08  4.63886567e-08]]\n",
      "Class probability P(C):\n",
      "0.1\n",
      "*******************************************************************\n"
     ]
    }
   ],
   "source": [
    "mean = []\n",
    "covar =[]\n",
    "p_c = []\n",
    "for i in labels_all:\n",
    "  prediction_temp = H.predict(X_train_individual_classes[i])\n",
    "\n",
    "  mean_temp = np.mean(prediction_temp, axis = 0)\n",
    "  mean.append(mean_temp)\n",
    "  print(\"Mean:\")\n",
    "  print(mean_temp.shape)\n",
    "  print(mean_temp)\n",
    "\n",
    "  print(\"Covar:\")\n",
    "  covar_temp = np.cov(prediction_temp, rowvar=False)\n",
    "  covar.append(covar_temp)\n",
    "  print(covar_temp.shape)\n",
    "  print(covar_temp)\n",
    "\n",
    "  print(\"Class probability P(C):\")\n",
    "  p_c_temp = X_train_individual_classes[i].shape[0]/x_train.shape[0]\n",
    "  p_c.append(p_c_temp)\n",
    "  print(p_c_temp)\n",
    "  print(\"*******************************************************************\")\n",
    "\n",
    "mean = np.array(mean)\n",
    "covar = np.array(covar)\n",
    "p_c = np.array(p_c)\n",
    "\n"
   ]
  },
  {
   "cell_type": "code",
   "execution_count": 310,
   "metadata": {},
   "outputs": [
    {
     "name": "stdout",
     "output_type": "stream",
     "text": [
      "10000\n"
     ]
    },
    {
     "name": "stderr",
     "output_type": "stream",
     "text": [
      "C:\\Users\\ritvikpalvankar7\\Anaconda3\\lib\\site-packages\\ipykernel_launcher.py:39: RuntimeWarning: overflow encountered in exp\n",
      "C:\\Users\\ritvikpalvankar7\\Anaconda3\\lib\\site-packages\\ipykernel_launcher.py:43: RuntimeWarning: invalid value encountered in true_divide\n",
      "C:\\Users\\ritvikpalvankar7\\Anaconda3\\lib\\site-packages\\ipykernel_launcher.py:44: RuntimeWarning: invalid value encountered in cdouble_scalars\n",
      "C:\\Users\\ritvikpalvankar7\\Anaconda3\\lib\\site-packages\\ipykernel_launcher.py:43: RuntimeWarning: overflow encountered in true_divide\n"
     ]
    },
    {
     "name": "stdout",
     "output_type": "stream",
     "text": [
      "10.17 % accuracy\n"
     ]
    }
   ],
   "source": [
    "import math\n",
    "import cmath\n",
    "labels_all = [0,1,2,3,4,5,6,7,8,9]\n",
    "count = 0\n",
    "\n",
    "\n",
    "X_test_sub = x_test\n",
    "print(len(X_test_sub))\n",
    "\n",
    "predicted_labels = []\n",
    "true_labels = []\n",
    "\n",
    "# final_set = \n",
    "for idx, sample in enumerate(X_test_sub):\n",
    "  # print(idx)\n",
    "  # print(sample.shape)\n",
    "  sample = sample.reshape(1,sample.shape[0])\n",
    "  prediction = H.predict(sample)\n",
    "  prediction = prediction[0]\n",
    "  # print(prediction)\n",
    "  probabilites = []\n",
    "  for label in labels_all:\n",
    "    x_minus_mean = prediction - mean[label]\n",
    "    # print(x_minus_mean.shape)\n",
    "    # print(covar[label])\n",
    "    try:\n",
    "      covar_inv = np.linalg.inv(covar[label])\n",
    "      \n",
    "    except:\n",
    "      print(\"Inverse failed\")\n",
    "      covar_inv = covar[label] + 0.00001*np.identity(covar[label].shape[0])\n",
    "      print(\"New covar:\",covar_inv)\n",
    "      covar_inv = np.linalg.inv(covar[label])\n",
    "    \n",
    "    prod_1 = np.matmul(np.transpose(x_minus_mean),covar_inv)\n",
    "    \n",
    "    prod_2 = np.matmul(prod_1,x_minus_mean)\n",
    "    \n",
    "    exp_val = np.exp((-0.5)*prod_2)\n",
    "    \n",
    "    determinant_val = cmath.sqrt(np.linalg.det(covar[label]))\n",
    "    \n",
    "    P_x_by_c = (exp_val/determinant_val)\n",
    "    probabilites.append(P_x_by_c * p_c[label])\n",
    "  \n",
    "  final_class = np.argmax(probabilites)\n",
    "\n",
    "  true_label = np.argmax(test_y_one_hot[idx])\n",
    "  \n",
    "\n",
    "\n",
    "  predicted_labels.append(final_class)\n",
    "  true_labels.append(true_label)\n",
    "  if final_class == true_label:\n",
    "    count += 1\n",
    "  \n",
    "  # break\n",
    "print((count/len(X_test_sub))*100,\"% accuracy\")\n",
    "test_accuracy = (count/len(X_test_sub))*100\n"
   ]
  },
  {
   "cell_type": "code",
   "execution_count": 313,
   "metadata": {},
   "outputs": [
    {
     "name": "stdout",
     "output_type": "stream",
     "text": [
      "            T-shirt  Trouser  Pullover  Dress  Coat  Sandal  Shirt  Sneaker  \\\n",
      "T-shirt           0        0         0      0     0       0      0        0   \n",
      "Trouser           0        0         0      0     0       1      0        0   \n",
      "Pullover          0        0         0      0     0       0      0        0   \n",
      "Dress             0        0         0      0     0       1      0        0   \n",
      "Coat              0        0         0      0     0       0      1        0   \n",
      "Sandal            0        1         0      0     1      16      2        3   \n",
      "Shirt             0        0         0      0     0       1      2        0   \n",
      "Sneaker           0        0         0      0     0       1      0        0   \n",
      "Bag               0        0         0      0     0       1      0        1   \n",
      "Ankle boot     1000      999      1000   1000   999     979    995      996   \n",
      "\n",
      "            Bag  Ankle boot  \n",
      "T-shirt       0           0  \n",
      "Trouser       0           0  \n",
      "Pullover      0           0  \n",
      "Dress         0           0  \n",
      "Coat          0           0  \n",
      "Sandal        1           1  \n",
      "Shirt         0           0  \n",
      "Sneaker       0           0  \n",
      "Bag           0           0  \n",
      "Ankle boot  999         999  \n"
     ]
    },
    {
     "data": {
      "image/png": "[encoded data removed]",
      "text/plain": [
       "<Figure size 720x576 with 2 Axes>"
      ]
     },
     "metadata": {
      "needs_background": "light"
     },
     "output_type": "display_data"
    }
   ],
   "source": [
    "prediction_dataset = predicted_labels\n",
    "correct_label = true_labels\n",
    "length_loader = len(x_test)\n",
    "\n",
    "import pandas as pd\n",
    "\n",
    "c_matrix = (confusion_matrix(correct_label, prediction_dataset,labels= [0,1,2,3,4,5,6,7,8,9]))\n",
    "\n",
    "classes = [\"T-shirt\", \"Trouser\", \"Pullover\", \"Dress\", \"Coat\", \"Sandal\", \"Shirt\", \"Sneaker\", \"Bag\", \"Ankle boot\"]\n",
    "# classes = [\"T-shirt\", \"Trouser\"]\n",
    "CM_title = \"Confusion matrix test set, accuracy = \" + str(test_accuracy)\n",
    "ConfMat = np.transpose(c_matrix)\n",
    "\n",
    "df_cm = pd.DataFrame(ConfMat)\n",
    "df_cm.columns = [\"T-shirt\", \"Trouser\", \"Pullover\", \"Dress\", \"Coat\", \"Sandal\", \"Shirt\", \"Sneaker\", \"Bag\", \"Ankle boot\"]\n",
    "df_cm.rename(index={0:\"T-shirt\", 1:\"Trouser\", 2:\"Pullover\", 3:\"Dress\", 4:\"Coat\", 5:\"Sandal\", 6:\"Shirt\", 7:\"Sneaker\", 8:\"Bag\", 9:\"Ankle boot\"}, inplace=True)\n",
    "# df_cm.columns = [\"T-shirt\", \"Trouser\"]\n",
    "# df_cm.rename(index={0:\"T-shirt\", 1:\"Trouser\"}, inplace=True)\n",
    "print(df_cm)\n",
    "\n",
    "\n",
    "plt.figure(figsize = (10,8))\n",
    "\n",
    "font = {'size': 14}\n",
    "font_axis = {'size': 12}\n",
    "ax = sns.heatmap(df_cm, annot=True, fmt = \"d\", linewidths=.2, cmap = \"gray_r\")\n",
    "ax.set_xticklabels(classes,rotation=30,fontdict=font_axis)\n",
    "ax.set_yticklabels(classes,rotation=0,fontdict=font_axis)\n",
    "ax.set_title (CM_title,fontsize=14)\n",
    "ax.set_ylabel(' True Image Label', fontdict=font)\n",
    "ax.set_xlabel('Predicted Label', fontdict=font)\n",
    "plt.show()\n"
   ]
  },
  {
   "cell_type": "code",
   "execution_count": null,
   "metadata": {},
   "outputs": [],
   "source": []
  },
  {
   "cell_type": "code",
   "execution_count": null,
   "metadata": {},
   "outputs": [],
   "source": []
  },
  {
   "cell_type": "code",
   "execution_count": null,
   "metadata": {},
   "outputs": [],
   "source": []
  },
  {
   "cell_type": "code",
   "execution_count": null,
   "metadata": {},
   "outputs": [],
   "source": []
  },
  {
   "cell_type": "code",
   "execution_count": null,
   "metadata": {},
   "outputs": [],
   "source": []
  },
  {
   "cell_type": "code",
   "execution_count": null,
   "metadata": {},
   "outputs": [],
   "source": []
  },
  {
   "cell_type": "code",
   "execution_count": null,
   "metadata": {},
   "outputs": [],
   "source": []
  },
  {
   "cell_type": "code",
   "execution_count": null,
   "metadata": {},
   "outputs": [],
   "source": []
  },
  {
   "cell_type": "code",
   "execution_count": null,
   "metadata": {},
   "outputs": [],
   "source": []
  },
  {
   "cell_type": "code",
   "execution_count": null,
   "metadata": {},
   "outputs": [],
   "source": []
  },
  {
   "cell_type": "code",
   "execution_count": null,
   "metadata": {},
   "outputs": [],
   "source": []
  },
  {
   "cell_type": "code",
   "execution_count": null,
   "metadata": {},
   "outputs": [],
   "source": []
  },
  {
   "cell_type": "code",
   "execution_count": null,
   "metadata": {},
   "outputs": [],
   "source": []
  },
  {
   "cell_type": "code",
   "execution_count": null,
   "metadata": {},
   "outputs": [],
   "source": []
  },
  {
   "cell_type": "code",
   "execution_count": null,
   "metadata": {},
   "outputs": [],
   "source": []
  },
  {
   "cell_type": "code",
   "execution_count": null,
   "metadata": {},
   "outputs": [],
   "source": []
  },
  {
   "cell_type": "code",
   "execution_count": null,
   "metadata": {},
   "outputs": [],
   "source": []
  },
  {
   "cell_type": "code",
   "execution_count": null,
   "metadata": {},
   "outputs": [],
   "source": []
  }
 ],
 "metadata": {
  "colab": {
   "collapsed_sections": [],
   "name": "autoencoder_MLP.ipynb",
   "provenance": []
  },
  "kernelspec": {
   "display_name": "Python 3",
   "language": "python",
   "name": "python3"
  },
  "language_info": {
   "codemirror_mode": {
    "name": "ipython",
    "version": 3
   },
   "file_extension": ".py",
   "mimetype": "text/x-python",
   "name": "python",
   "nbconvert_exporter": "python",
   "pygments_lexer": "ipython3",
   "version": "3.7.4"
  }
 },
 "nbformat": 4,
 "nbformat_minor": 1
}
