{
 "cells": [
  {
   "cell_type": "code",
   "execution_count": 77,
   "metadata": {
    "id": "8DFcX-Rl1tMv"
   },
   "outputs": [],
   "source": [
    "import keras\n",
    "from matplotlib import pyplot as plt\n",
    "import numpy as np\n",
    "import gzip\n",
    "%matplotlib inline\n",
    "from keras.models import Model\n",
    "from keras.optimizers import RMSprop\n",
    "from keras.layers import Input,Dense,Flatten,Dropout,merge,Reshape,Conv2D,MaxPooling2D,UpSampling2D,Conv2DTranspose\n",
    "from keras.layers.normalization import BatchNormalization\n",
    "from keras.models import Model,Sequential\n",
    "from keras.callbacks import ModelCheckpoint\n",
    "from keras.optimizers import Adadelta, RMSprop,SGD,Adam\n",
    "from keras import regularizers\n",
    "from keras import backend as K\n",
    "from keras.utils import to_categorical\n",
    "from tensorflow import keras"
   ]
  },
  {
   "cell_type": "code",
   "execution_count": 78,
   "metadata": {
    "id": "-S_Xoqwr2NeZ"
   },
   "outputs": [],
   "source": [
    "from tensorflow.keras.datasets import fashion_mnist\n",
    "((trainX, trainY), (testX, testY)) = fashion_mnist.load_data()"
   ]
  },
  {
   "cell_type": "code",
   "execution_count": 79,
   "metadata": {
    "colab": {
     "base_uri": "https://localhost:8080/"
    },
    "id": "Ebl3GQ0F3d2E",
    "outputId": "d3238bbf-5f75-4949-9fe6-c2c3c25f3739"
   },
   "outputs": [
    {
     "data": {
      "text/plain": [
       "(60000, 28, 28)"
      ]
     },
     "execution_count": 79,
     "metadata": {
      "tags": []
     },
     "output_type": "execute_result"
    }
   ],
   "source": [
    "trainX.shape"
   ]
  },
  {
   "cell_type": "code",
   "execution_count": 80,
   "metadata": {
    "colab": {
     "base_uri": "https://localhost:8080/"
    },
    "id": "vct-cjNM4UmA",
    "outputId": "32bfd6c3-c77e-41f8-9ba2-6a5b1f0a2bf9"
   },
   "outputs": [
    {
     "data": {
      "text/plain": [
       "(10000, 28, 28)"
      ]
     },
     "execution_count": 80,
     "metadata": {
      "tags": []
     },
     "output_type": "execute_result"
    }
   ],
   "source": [
    "testX.shape"
   ]
  },
  {
   "cell_type": "code",
   "execution_count": 81,
   "metadata": {
    "colab": {
     "base_uri": "https://localhost:8080/"
    },
    "id": "SQNTGsXa4d-n",
    "outputId": "4eedd8ac-6bc3-462e-e790-ce4bcb7ae815"
   },
   "outputs": [
    {
     "data": {
      "text/plain": [
       "((60000, 28, 28, 1), (10000, 28, 28, 1))"
      ]
     },
     "execution_count": 81,
     "metadata": {
      "tags": []
     },
     "output_type": "execute_result"
    }
   ],
   "source": [
    "trainX = trainX.reshape(-1, 28,28, 1)\n",
    "testX = testX.reshape(-1, 28,28, 1)\n",
    "trainX.shape, testX.shape"
   ]
  },
  {
   "cell_type": "code",
   "execution_count": 82,
   "metadata": {
    "colab": {
     "base_uri": "https://localhost:8080/"
    },
    "id": "QoatQgr94yeA",
    "outputId": "5746e587-f9ab-411a-9c68-69bd6b4a2f13"
   },
   "outputs": [
    {
     "data": {
      "text/plain": [
       "(dtype('uint8'), dtype('uint8'))"
      ]
     },
     "execution_count": 82,
     "metadata": {
      "tags": []
     },
     "output_type": "execute_result"
    }
   ],
   "source": [
    "trainX.dtype, testX.dtype\n"
   ]
  },
  {
   "cell_type": "code",
   "execution_count": 83,
   "metadata": {
    "id": "DtR-zwyG46PP"
   },
   "outputs": [],
   "source": [
    "trainX = trainX.astype('float32')"
   ]
  },
  {
   "cell_type": "code",
   "execution_count": 84,
   "metadata": {
    "id": "OXnqoas15cDH"
   },
   "outputs": [],
   "source": [
    "testX = testX.astype('float32')"
   ]
  },
  {
   "cell_type": "code",
   "execution_count": 85,
   "metadata": {
    "colab": {
     "base_uri": "https://localhost:8080/"
    },
    "id": "vZpjKGse5juv",
    "outputId": "9f7b95f9-e48b-4006-a282-3ea2fd40cc3d"
   },
   "outputs": [
    {
     "data": {
      "text/plain": [
       "(dtype('float32'), dtype('float32'))"
      ]
     },
     "execution_count": 85,
     "metadata": {
      "tags": []
     },
     "output_type": "execute_result"
    }
   ],
   "source": [
    "trainX.dtype, testX.dtype\n"
   ]
  },
  {
   "cell_type": "code",
   "execution_count": 86,
   "metadata": {
    "id": "O4mM_A3v6cGb"
   },
   "outputs": [],
   "source": [
    "import numpy as np"
   ]
  },
  {
   "cell_type": "code",
   "execution_count": 87,
   "metadata": {
    "id": "hL9MVTQk5l04"
   },
   "outputs": [],
   "source": [
    "trainX = trainX / np.max(trainX)\n",
    "testX = testX / np.max(testX)"
   ]
  },
  {
   "cell_type": "code",
   "execution_count": 88,
   "metadata": {
    "colab": {
     "base_uri": "https://localhost:8080/"
    },
    "id": "TfTIANQz6bEB",
    "outputId": "8a18772e-07de-450d-a376-be9b1b964247"
   },
   "outputs": [
    {
     "data": {
      "text/plain": [
       "(1.0, 1.0)"
      ]
     },
     "execution_count": 88,
     "metadata": {
      "tags": []
     },
     "output_type": "execute_result"
    }
   ],
   "source": [
    "np.max(trainX), np.max(testX)\n"
   ]
  },
  {
   "cell_type": "code",
   "execution_count": 89,
   "metadata": {
    "id": "VbYF9r436j4q"
   },
   "outputs": [],
   "source": [
    "from sklearn.model_selection import train_test_split\n",
    "train_x,valid_x,train_y,valid_y = train_test_split(trainX,\n",
    "                                                             trainX,\n",
    "                                                             test_size=0.2,\n",
    "                                                             random_state=13)"
   ]
  },
  {
   "cell_type": "code",
   "execution_count": 90,
   "metadata": {
    "id": "c8EeVQEh7C1o"
   },
   "outputs": [],
   "source": [
    "batch_size = 64\n",
    "epochs = 20\n",
    "inChannel = 1\n",
    "x, y = 28, 28\n",
    "input_img = Input(shape = (x, y, inChannel))\n",
    "num_classes = 10"
   ]
  },
  {
   "cell_type": "markdown",
   "metadata": {},
   "source": [
    "# Encoder"
   ]
  },
  {
   "cell_type": "code",
   "execution_count": 91,
   "metadata": {
    "id": "tIfpPBpd7W7E"
   },
   "outputs": [],
   "source": [
    "def encoder(input_img):\n",
    "    #encoder\n",
    "    #input = 28 x 28 x 1 (wide and thin)\n",
    "    conv1 = Conv2D(32, (3, 3), activation='relu', padding='same')(input_img) #28 x 28 x 32  #Input Layer\n",
    "    conv1 = BatchNormalization()(conv1)\n",
    "    conv1 = Conv2D(32, (3, 3), activation='relu', padding='same')(conv1)  #First hidden layer\n",
    "    conv1 = BatchNormalization()(conv1)\n",
    "    pool1 = MaxPooling2D(pool_size=(2, 2))(conv1) #14 x 14 x 32\n",
    "    conv2 = Conv2D(64, (3, 3), activation='relu', padding='same')(pool1) #14 x 14 x 64  #second hidden layer\n",
    "    conv2 = BatchNormalization()(conv2)\n",
    "    conv2 = Conv2D(64, (3, 3), activation='relu', padding='same')(conv2)    #third hidden layer\n",
    "    conv2 = BatchNormalization()(conv2)\n",
    "    pool2 = MaxPooling2D(pool_size=(2, 2))(conv2) #7 x 7 x 64\n",
    "    conv3 = Conv2D(128, (3, 3), activation='relu', padding='same')(pool2) #7 x 7 x 128 (small and thick)  #fourth hidden layer\n",
    "    conv3 = BatchNormalization()(conv3)\n",
    "    conv3 = Conv2D(128, (3, 3), activation='relu', padding='same')(conv3)    #fifth hidden layer\n",
    "    conv3 = BatchNormalization()(conv3)\n",
    "    conv4 = Conv2D(256, (3, 3), activation='relu', padding='same')(conv3) #7 x 7 x 256 (small and thick)  #Output\n",
    "    conv4 = BatchNormalization()(conv4)\n",
    "    conv4 = Conv2D(256, (3, 3), activation='relu', padding='same')(conv4)\n",
    "    conv4 = BatchNormalization()(conv4)\n",
    "    return conv4"
   ]
  },
  {
   "cell_type": "markdown",
   "metadata": {},
   "source": [
    "# Decoder"
   ]
  },
  {
   "cell_type": "code",
   "execution_count": 92,
   "metadata": {
    "id": "RM3YSxRMYnGc"
   },
   "outputs": [],
   "source": [
    "def decoder(conv4):    \n",
    "    #decoder\n",
    "    #conv4 = Conv2D(256, (3, 3), activation='relu', padding='same')(conv4)\n",
    "    #conv4 = BatchNormalization()(conv4)\n",
    "    conv5 = Conv2D(128, (3, 3), activation='relu', padding='same')(conv4) #7 x 7 x 128\n",
    "    conv5 = BatchNormalization()(conv5)\n",
    "    conv5 = Conv2D(128, (3, 3), activation='relu', padding='same')(conv5)\n",
    "    conv5 = BatchNormalization()(conv5)\n",
    "    conv6 = Conv2D(64, (3, 3), activation='relu', padding='same')(conv5) #7 x 7 x 64\n",
    "    conv6 = BatchNormalization()(conv6)\n",
    "    conv6 = Conv2D(64, (3, 3), activation='relu', padding='same')(conv6)\n",
    "    conv6 = BatchNormalization()(conv6)\n",
    "    up1 = UpSampling2D((2,2))(conv6) #14 x 14 x 64\n",
    "    conv7 = Conv2D(32, (3, 3), activation='relu', padding='same')(up1) # 14 x 14 x 32\n",
    "    conv7 = BatchNormalization()(conv7)\n",
    "    conv7 = Conv2D(32, (3, 3), activation='relu', padding='same')(conv7)\n",
    "    conv7 = BatchNormalization()(conv7)\n",
    "    up2 = UpSampling2D((2,2))(conv7) # 28 x 28 x 32\n",
    "    decoded = Conv2D(1, (3, 3), activation='sigmoid', padding='same')(up2) # 28 x 28 x 1\n",
    "    return decoded"
   ]
  },
  {
   "cell_type": "code",
   "execution_count": 93,
   "metadata": {
    "id": "QGfYdBVAaBiL"
   },
   "outputs": [],
   "source": [
    "autoencoder = Model(input_img, decoder(encoder(input_img)))\n",
    "autoencoder.compile(loss='mean_squared_error', optimizer = RMSprop())"
   ]
  },
  {
   "cell_type": "code",
   "execution_count": 94,
   "metadata": {
    "colab": {
     "base_uri": "https://localhost:8080/"
    },
    "id": "yNeFoq2qaCPa",
    "outputId": "e749ede1-3ef3-4d6c-eaf7-ee720f541643"
   },
   "outputs": [
    {
     "name": "stdout",
     "output_type": "stream",
     "text": [
      "Model: \"functional_7\"\n",
      "_________________________________________________________________\n",
      "Layer (type)                 Output Shape              Param #   \n",
      "=================================================================\n",
      "input_2 (InputLayer)         [(None, 28, 28, 1)]       0         \n",
      "_________________________________________________________________\n",
      "conv2d_51 (Conv2D)           (None, 28, 28, 32)        320       \n",
      "_________________________________________________________________\n",
      "batch_normalization_46 (Batc (None, 28, 28, 32)        128       \n",
      "_________________________________________________________________\n",
      "conv2d_52 (Conv2D)           (None, 28, 28, 32)        9248      \n",
      "_________________________________________________________________\n",
      "batch_normalization_47 (Batc (None, 28, 28, 32)        128       \n",
      "_________________________________________________________________\n",
      "max_pooling2d_12 (MaxPooling (None, 14, 14, 32)        0         \n",
      "_________________________________________________________________\n",
      "conv2d_53 (Conv2D)           (None, 14, 14, 64)        18496     \n",
      "_________________________________________________________________\n",
      "batch_normalization_48 (Batc (None, 14, 14, 64)        256       \n",
      "_________________________________________________________________\n",
      "conv2d_54 (Conv2D)           (None, 14, 14, 64)        36928     \n",
      "_________________________________________________________________\n",
      "batch_normalization_49 (Batc (None, 14, 14, 64)        256       \n",
      "_________________________________________________________________\n",
      "max_pooling2d_13 (MaxPooling (None, 7, 7, 64)          0         \n",
      "_________________________________________________________________\n",
      "conv2d_55 (Conv2D)           (None, 7, 7, 128)         73856     \n",
      "_________________________________________________________________\n",
      "batch_normalization_50 (Batc (None, 7, 7, 128)         512       \n",
      "_________________________________________________________________\n",
      "conv2d_56 (Conv2D)           (None, 7, 7, 128)         147584    \n",
      "_________________________________________________________________\n",
      "batch_normalization_51 (Batc (None, 7, 7, 128)         512       \n",
      "_________________________________________________________________\n",
      "conv2d_57 (Conv2D)           (None, 7, 7, 256)         295168    \n",
      "_________________________________________________________________\n",
      "batch_normalization_52 (Batc (None, 7, 7, 256)         1024      \n",
      "_________________________________________________________________\n",
      "conv2d_58 (Conv2D)           (None, 7, 7, 256)         590080    \n",
      "_________________________________________________________________\n",
      "batch_normalization_53 (Batc (None, 7, 7, 256)         1024      \n",
      "_________________________________________________________________\n",
      "conv2d_59 (Conv2D)           (None, 7, 7, 128)         295040    \n",
      "_________________________________________________________________\n",
      "batch_normalization_54 (Batc (None, 7, 7, 128)         512       \n",
      "_________________________________________________________________\n",
      "conv2d_60 (Conv2D)           (None, 7, 7, 128)         147584    \n",
      "_________________________________________________________________\n",
      "batch_normalization_55 (Batc (None, 7, 7, 128)         512       \n",
      "_________________________________________________________________\n",
      "conv2d_61 (Conv2D)           (None, 7, 7, 64)          73792     \n",
      "_________________________________________________________________\n",
      "batch_normalization_56 (Batc (None, 7, 7, 64)          256       \n",
      "_________________________________________________________________\n",
      "conv2d_62 (Conv2D)           (None, 7, 7, 64)          36928     \n",
      "_________________________________________________________________\n",
      "batch_normalization_57 (Batc (None, 7, 7, 64)          256       \n",
      "_________________________________________________________________\n",
      "up_sampling2d_2 (UpSampling2 (None, 14, 14, 64)        0         \n",
      "_________________________________________________________________\n",
      "conv2d_63 (Conv2D)           (None, 14, 14, 32)        18464     \n",
      "_________________________________________________________________\n",
      "batch_normalization_58 (Batc (None, 14, 14, 32)        128       \n",
      "_________________________________________________________________\n",
      "conv2d_64 (Conv2D)           (None, 14, 14, 32)        9248      \n",
      "_________________________________________________________________\n",
      "batch_normalization_59 (Batc (None, 14, 14, 32)        128       \n",
      "_________________________________________________________________\n",
      "up_sampling2d_3 (UpSampling2 (None, 28, 28, 32)        0         \n",
      "_________________________________________________________________\n",
      "conv2d_65 (Conv2D)           (None, 28, 28, 1)         289       \n",
      "=================================================================\n",
      "Total params: 1,758,657\n",
      "Trainable params: 1,755,841\n",
      "Non-trainable params: 2,816\n",
      "_________________________________________________________________\n"
     ]
    }
   ],
   "source": [
    "autoencoder.summary()\n"
   ]
  },
  {
   "cell_type": "code",
   "execution_count": 95,
   "metadata": {
    "colab": {
     "base_uri": "https://localhost:8080/"
    },
    "id": "3NXoYL52aJYs",
    "outputId": "5e610332-4fe5-4e01-cac8-a97fa427e327"
   },
   "outputs": [
    {
     "name": "stdout",
     "output_type": "stream",
     "text": [
      "Epoch 1/20\n",
      "750/750 [==============================] - 12s 17ms/step - loss: 0.0192 - val_loss: 0.0124\n",
      "Epoch 2/20\n",
      "750/750 [==============================] - 12s 16ms/step - loss: 0.0092 - val_loss: 0.0088\n",
      "Epoch 3/20\n",
      "750/750 [==============================] - 12s 16ms/step - loss: 0.0073 - val_loss: 0.0081\n",
      "Epoch 4/20\n",
      "750/750 [==============================] - 12s 16ms/step - loss: 0.0061 - val_loss: 0.0062\n",
      "Epoch 5/20\n",
      "750/750 [==============================] - 12s 16ms/step - loss: 0.0052 - val_loss: 0.0051\n",
      "Epoch 6/20\n",
      "750/750 [==============================] - 12s 16ms/step - loss: 0.0045 - val_loss: 0.0065\n",
      "Epoch 7/20\n",
      "750/750 [==============================] - 12s 17ms/step - loss: 0.0041 - val_loss: 0.0036\n",
      "Epoch 8/20\n",
      "750/750 [==============================] - 12s 17ms/step - loss: 0.0037 - val_loss: 0.0033\n",
      "Epoch 9/20\n",
      "750/750 [==============================] - 12s 17ms/step - loss: 0.0034 - val_loss: 0.0034\n",
      "Epoch 10/20\n",
      "750/750 [==============================] - 12s 17ms/step - loss: 0.0032 - val_loss: 0.0033\n",
      "Epoch 11/20\n",
      "750/750 [==============================] - 12s 17ms/step - loss: 0.0030 - val_loss: 0.0029\n",
      "Epoch 12/20\n",
      "750/750 [==============================] - 12s 16ms/step - loss: 0.0028 - val_loss: 0.0029\n",
      "Epoch 13/20\n",
      "750/750 [==============================] - 12s 17ms/step - loss: 0.0027 - val_loss: 0.0026\n",
      "Epoch 14/20\n",
      "750/750 [==============================] - 12s 16ms/step - loss: 0.0026 - val_loss: 0.0025\n",
      "Epoch 15/20\n",
      "750/750 [==============================] - 12s 16ms/step - loss: 0.0025 - val_loss: 0.0024\n",
      "Epoch 16/20\n",
      "750/750 [==============================] - 12s 16ms/step - loss: 0.0024 - val_loss: 0.0033\n",
      "Epoch 17/20\n",
      "750/750 [==============================] - 12s 16ms/step - loss: 0.0023 - val_loss: 0.0026\n",
      "Epoch 18/20\n",
      "750/750 [==============================] - 12s 17ms/step - loss: 0.0022 - val_loss: 0.0021\n",
      "Epoch 19/20\n",
      "750/750 [==============================] - 12s 16ms/step - loss: 0.0021 - val_loss: 0.0023\n",
      "Epoch 20/20\n",
      "750/750 [==============================] - 12s 16ms/step - loss: 0.0021 - val_loss: 0.0020\n"
     ]
    }
   ],
   "source": [
    "autoencoder_train = autoencoder.fit(train_x, train_y, batch_size=batch_size,epochs=epochs,verbose=1,validation_data=(valid_x, valid_y))\n"
   ]
  },
  {
   "cell_type": "code",
   "execution_count": 96,
   "metadata": {
    "colab": {
     "base_uri": "https://localhost:8080/",
     "height": 281
    },
    "id": "efMdBEN7lQmd",
    "outputId": "d329a5bf-1d11-4f59-aa8d-1ff3d300339a"
   },
   "outputs": [
    {
     "data": {
      "image/png": "[encoded data removed]",
      "text/plain": [
       "<Figure size 432x288 with 1 Axes>"
      ]
     },
     "metadata": {
      "needs_background": "light",
      "tags": []
     },
     "output_type": "display_data"
    }
   ],
   "source": [
    "loss = autoencoder_train.history['loss']\n",
    "val_loss = autoencoder_train.history['val_loss']\n",
    "epochs = range(20)\n",
    "plt.figure()\n",
    "plt.plot(epochs, loss, 'bo', label='Training loss')\n",
    "plt.plot(epochs, val_loss, 'b', label='Validation loss')\n",
    "plt.title('Training and validation loss')\n",
    "plt.legend()\n",
    "plt.show()"
   ]
  },
  {
   "cell_type": "code",
   "execution_count": 97,
   "metadata": {
    "id": "pv3OCflnlUrd"
   },
   "outputs": [],
   "source": [
    "autoencoder.save_weights('autoencoder.h5')\n",
    "\n"
   ]
  },
  {
   "cell_type": "code",
   "execution_count": 98,
   "metadata": {
    "id": "QNasSBNnlj6H"
   },
   "outputs": [],
   "source": [
    "# Change the labels from categorical to one-hot encoding\n",
    "train_y_one_hot = to_categorical(trainY)\n",
    "test_y_one_hot = to_categorical(testY)\n"
   ]
  },
  {
   "cell_type": "code",
   "execution_count": 99,
   "metadata": {
    "id": "d0CLBnFsqY8u"
   },
   "outputs": [],
   "source": [
    "train_X,valid_X,train_label,valid_label = train_test_split(trainX,train_y_one_hot,test_size=0.2,random_state=13)\n"
   ]
  },
  {
   "cell_type": "code",
   "execution_count": 100,
   "metadata": {
    "colab": {
     "base_uri": "https://localhost:8080/"
    },
    "id": "2R7HzxDOrFDu",
    "outputId": "bdf8e09e-200d-4c4a-eb22-7354042d40d4"
   },
   "outputs": [
    {
     "data": {
      "text/plain": [
       "((48000, 28, 28, 1), (12000, 28, 28, 1), (48000, 10), (12000, 10))"
      ]
     },
     "execution_count": 100,
     "metadata": {
      "tags": []
     },
     "output_type": "execute_result"
    }
   ],
   "source": [
    "train_X.shape,valid_X.shape,train_label.shape,valid_label.shape\n"
   ]
  },
  {
   "cell_type": "code",
   "execution_count": 25,
   "metadata": {
    "id": "9BHNHK4Yw_wn"
   },
   "outputs": [],
   "source": [
    "#classification model"
   ]
  },
  {
   "cell_type": "code",
   "execution_count": 26,
   "metadata": {
    "id": "vvo_f9_JrNJb"
   },
   "outputs": [],
   "source": [
    "#####MLP\n",
    "def fc(enco):\n",
    "    flat = Flatten()(enco)\n",
    "    den = Dense(128, activation='relu')(flat)\n",
    "    den1 = Dense(64, activation='relu')(den)\n",
    "    out = Dense(num_classes, activation='softmax')(den1)\n",
    "    return out"
   ]
  },
  {
   "cell_type": "code",
   "execution_count": 110,
   "metadata": {
    "id": "ohRUY2rZCKf4"
   },
   "outputs": [],
   "source": [
    "#####CONV\n",
    "def fc(enco):\n",
    "    #flat = Flatten()(enco)\n",
    "    conv1 = Conv2D(128, (3, 3), activation='relu', padding='same')(enco)\n",
    "    max1 = MaxPooling2D((2, 2), strides=(2,2))(conv1)\n",
    "    flat = Flatten()(max1)\n",
    "    \n",
    "    #conv2 = Conv2D(128, (3, 3), activation='relu', padding='same')(max1)\n",
    "    #max2 = MaxPooling2D(pool_size=(2, 2), strides=(2,2))(conv2)\n",
    "    out = Dense(num_classes, activation='softmax')(flat)\n",
    "    return out"
   ]
  },
  {
   "cell_type": "code",
   "execution_count": 111,
   "metadata": {
    "id": "inYSTIlPra6j"
   },
   "outputs": [],
   "source": [
    "encode = encoder(input_img)\n",
    "full_model = Model(input_img,fc(encode))"
   ]
  },
  {
   "cell_type": "code",
   "execution_count": 112,
   "metadata": {
    "id": "ZX9w6Xx9riF7"
   },
   "outputs": [],
   "source": [
    "for l1,l2 in zip(full_model.layers[:19],autoencoder.layers[0:19]):\n",
    "    l1.set_weights(l2.get_weights())"
   ]
  },
  {
   "cell_type": "code",
   "execution_count": 113,
   "metadata": {
    "colab": {
     "base_uri": "https://localhost:8080/"
    },
    "id": "DunQmiwfr-uc",
    "outputId": "9691b1bc-0242-469b-82bc-46d9b7784199"
   },
   "outputs": [
    {
     "data": {
      "text/plain": [
       "array([[[-0.06458951, -0.12101363,  0.1917443 ,  0.06301707,\n",
       "          0.09078442, -0.13780133, -0.2537381 ,  0.3028224 ,\n",
       "         -0.20558242, -0.22507168,  0.17636561,  0.26872197,\n",
       "          0.09513223, -0.05340387, -0.15143684,  0.03256997,\n",
       "         -0.24445902,  0.21918565, -0.04624458, -0.24491467,\n",
       "          0.14439209,  0.1981577 , -0.1917659 ,  0.04471782,\n",
       "          0.08864937,  0.05886013, -0.21666984,  0.06598727,\n",
       "         -0.05642964,  0.06617812, -0.07223777,  0.09733734]],\n",
       "\n",
       "       [[ 0.16306789, -0.03151816,  0.32430518,  0.02244924,\n",
       "          0.18360412,  0.2740819 , -0.2972979 ,  0.06985057,\n",
       "         -0.24108346,  0.21841612,  0.02166108, -0.13987814,\n",
       "          0.08331388,  0.3775639 , -0.2795508 ,  0.27233115,\n",
       "         -0.06577637,  0.09723113,  0.21374834, -0.36393207,\n",
       "          0.4853588 ,  0.69603294, -0.23419575, -0.1312703 ,\n",
       "          0.18962687, -0.29286098, -0.07338028,  0.18625209,\n",
       "          0.29588956,  0.23484506,  0.10867884, -0.27293426]],\n",
       "\n",
       "       [[-0.07969736,  0.36821675, -0.10786109,  0.0193196 ,\n",
       "          0.22155787, -0.08091903, -0.19429578, -0.2570157 ,\n",
       "         -0.22372814, -0.01610981,  0.13792747, -0.22904415,\n",
       "          0.05301234,  0.08607912, -0.00104841,  0.31160074,\n",
       "          0.25747907, -0.20954211, -0.1756088 ,  0.03304037,\n",
       "          0.10927936,  0.05310514,  0.03064476, -0.01959782,\n",
       "          0.29211006,  0.20841347,  0.15538701,  0.14649405,\n",
       "          0.00113812,  0.09320962, -0.03991991, -0.05116197]]],\n",
       "      dtype=float32)"
      ]
     },
     "execution_count": 113,
     "metadata": {
      "tags": []
     },
     "output_type": "execute_result"
    }
   ],
   "source": [
    "autoencoder.get_weights()[0][1]\n"
   ]
  },
  {
   "cell_type": "code",
   "execution_count": 114,
   "metadata": {
    "colab": {
     "base_uri": "https://localhost:8080/"
    },
    "id": "CEUa-9lrsCHy",
    "outputId": "4c460dcb-038a-4838-d127-4ee757f93b37"
   },
   "outputs": [
    {
     "data": {
      "text/plain": [
       "array([[[-0.06458951, -0.12101363,  0.1917443 ,  0.06301707,\n",
       "          0.09078442, -0.13780133, -0.2537381 ,  0.3028224 ,\n",
       "         -0.20558242, -0.22507168,  0.17636561,  0.26872197,\n",
       "          0.09513223, -0.05340387, -0.15143684,  0.03256997,\n",
       "         -0.24445902,  0.21918565, -0.04624458, -0.24491467,\n",
       "          0.14439209,  0.1981577 , -0.1917659 ,  0.04471782,\n",
       "          0.08864937,  0.05886013, -0.21666984,  0.06598727,\n",
       "         -0.05642964,  0.06617812, -0.07223777,  0.09733734]],\n",
       "\n",
       "       [[ 0.16306789, -0.03151816,  0.32430518,  0.02244924,\n",
       "          0.18360412,  0.2740819 , -0.2972979 ,  0.06985057,\n",
       "         -0.24108346,  0.21841612,  0.02166108, -0.13987814,\n",
       "          0.08331388,  0.3775639 , -0.2795508 ,  0.27233115,\n",
       "         -0.06577637,  0.09723113,  0.21374834, -0.36393207,\n",
       "          0.4853588 ,  0.69603294, -0.23419575, -0.1312703 ,\n",
       "          0.18962687, -0.29286098, -0.07338028,  0.18625209,\n",
       "          0.29588956,  0.23484506,  0.10867884, -0.27293426]],\n",
       "\n",
       "       [[-0.07969736,  0.36821675, -0.10786109,  0.0193196 ,\n",
       "          0.22155787, -0.08091903, -0.19429578, -0.2570157 ,\n",
       "         -0.22372814, -0.01610981,  0.13792747, -0.22904415,\n",
       "          0.05301234,  0.08607912, -0.00104841,  0.31160074,\n",
       "          0.25747907, -0.20954211, -0.1756088 ,  0.03304037,\n",
       "          0.10927936,  0.05310514,  0.03064476, -0.01959782,\n",
       "          0.29211006,  0.20841347,  0.15538701,  0.14649405,\n",
       "          0.00113812,  0.09320962, -0.03991991, -0.05116197]]],\n",
       "      dtype=float32)"
      ]
     },
     "execution_count": 114,
     "metadata": {
      "tags": []
     },
     "output_type": "execute_result"
    }
   ],
   "source": [
    "full_model.get_weights()[0][1]\n"
   ]
  },
  {
   "cell_type": "code",
   "execution_count": 115,
   "metadata": {
    "id": "UjIXuybCsFAm"
   },
   "outputs": [],
   "source": [
    "for layer in full_model.layers[0:19]:\n",
    "    layer.trainable = False"
   ]
  },
  {
   "cell_type": "code",
   "execution_count": 116,
   "metadata": {
    "id": "ctRr83DOsMSt"
   },
   "outputs": [],
   "source": [
    "full_model.compile(loss=keras.losses.categorical_crossentropy, optimizer=keras.optimizers.Adam(),metrics=['accuracy'])\n"
   ]
  },
  {
   "cell_type": "code",
   "execution_count": 117,
   "metadata": {
    "colab": {
     "base_uri": "https://localhost:8080/"
    },
    "id": "yUbaEAdXsOQL",
    "outputId": "431e48e5-2d67-4d08-f680-697734fb308a"
   },
   "outputs": [
    {
     "name": "stdout",
     "output_type": "stream",
     "text": [
      "Model: \"functional_11\"\n",
      "_________________________________________________________________\n",
      "Layer (type)                 Output Shape              Param #   \n",
      "=================================================================\n",
      "input_2 (InputLayer)         [(None, 28, 28, 1)]       0         \n",
      "_________________________________________________________________\n",
      "conv2d_76 (Conv2D)           (None, 28, 28, 32)        320       \n",
      "_________________________________________________________________\n",
      "batch_normalization_68 (Batc (None, 28, 28, 32)        128       \n",
      "_________________________________________________________________\n",
      "conv2d_77 (Conv2D)           (None, 28, 28, 32)        9248      \n",
      "_________________________________________________________________\n",
      "batch_normalization_69 (Batc (None, 28, 28, 32)        128       \n",
      "_________________________________________________________________\n",
      "max_pooling2d_18 (MaxPooling (None, 14, 14, 32)        0         \n",
      "_________________________________________________________________\n",
      "conv2d_78 (Conv2D)           (None, 14, 14, 64)        18496     \n",
      "_________________________________________________________________\n",
      "batch_normalization_70 (Batc (None, 14, 14, 64)        256       \n",
      "_________________________________________________________________\n",
      "conv2d_79 (Conv2D)           (None, 14, 14, 64)        36928     \n",
      "_________________________________________________________________\n",
      "batch_normalization_71 (Batc (None, 14, 14, 64)        256       \n",
      "_________________________________________________________________\n",
      "max_pooling2d_19 (MaxPooling (None, 7, 7, 64)          0         \n",
      "_________________________________________________________________\n",
      "conv2d_80 (Conv2D)           (None, 7, 7, 128)         73856     \n",
      "_________________________________________________________________\n",
      "batch_normalization_72 (Batc (None, 7, 7, 128)         512       \n",
      "_________________________________________________________________\n",
      "conv2d_81 (Conv2D)           (None, 7, 7, 128)         147584    \n",
      "_________________________________________________________________\n",
      "batch_normalization_73 (Batc (None, 7, 7, 128)         512       \n",
      "_________________________________________________________________\n",
      "conv2d_82 (Conv2D)           (None, 7, 7, 256)         295168    \n",
      "_________________________________________________________________\n",
      "batch_normalization_74 (Batc (None, 7, 7, 256)         1024      \n",
      "_________________________________________________________________\n",
      "conv2d_83 (Conv2D)           (None, 7, 7, 256)         590080    \n",
      "_________________________________________________________________\n",
      "batch_normalization_75 (Batc (None, 7, 7, 256)         1024      \n",
      "_________________________________________________________________\n",
      "conv2d_84 (Conv2D)           (None, 7, 7, 128)         295040    \n",
      "_________________________________________________________________\n",
      "max_pooling2d_20 (MaxPooling (None, 3, 3, 128)         0         \n",
      "_________________________________________________________________\n",
      "flatten_3 (Flatten)          (None, 1152)              0         \n",
      "_________________________________________________________________\n",
      "dense_5 (Dense)              (None, 10)                11530     \n",
      "=================================================================\n",
      "Total params: 1,482,090\n",
      "Trainable params: 306,570\n",
      "Non-trainable params: 1,175,520\n",
      "_________________________________________________________________\n"
     ]
    }
   ],
   "source": [
    "full_model.summary()\n"
   ]
  },
  {
   "cell_type": "code",
   "execution_count": 118,
   "metadata": {
    "colab": {
     "base_uri": "https://localhost:8080/"
    },
    "id": "00KX0bfcsQMg",
    "outputId": "8ac52fe2-12dd-42fe-e696-dbf53abae623"
   },
   "outputs": [
    {
     "name": "stdout",
     "output_type": "stream",
     "text": [
      "Epoch 1/10\n",
      "188/188 [==============================] - 3s 17ms/step - loss: 0.4281 - accuracy: 0.8557 - val_loss: 0.3073 - val_accuracy: 0.8879\n",
      "Epoch 2/10\n",
      "188/188 [==============================] - 3s 16ms/step - loss: 0.2211 - accuracy: 0.9216 - val_loss: 0.2911 - val_accuracy: 0.9006\n",
      "Epoch 3/10\n",
      "188/188 [==============================] - 3s 16ms/step - loss: 0.1626 - accuracy: 0.9421 - val_loss: 0.2704 - val_accuracy: 0.9072\n",
      "Epoch 4/10\n",
      "188/188 [==============================] - 3s 16ms/step - loss: 0.1219 - accuracy: 0.9579 - val_loss: 0.2804 - val_accuracy: 0.9083\n",
      "Epoch 5/10\n",
      "188/188 [==============================] - 3s 16ms/step - loss: 0.0871 - accuracy: 0.9705 - val_loss: 0.2987 - val_accuracy: 0.9069\n",
      "Epoch 6/10\n",
      "188/188 [==============================] - 3s 16ms/step - loss: 0.0706 - accuracy: 0.9762 - val_loss: 0.3382 - val_accuracy: 0.8997\n",
      "Epoch 7/10\n",
      "188/188 [==============================] - 3s 16ms/step - loss: 0.0487 - accuracy: 0.9844 - val_loss: 0.3115 - val_accuracy: 0.9131\n",
      "Epoch 8/10\n",
      "188/188 [==============================] - 3s 16ms/step - loss: 0.0332 - accuracy: 0.9904 - val_loss: 0.3335 - val_accuracy: 0.9126\n",
      "Epoch 9/10\n",
      "188/188 [==============================] - 3s 16ms/step - loss: 0.0233 - accuracy: 0.9938 - val_loss: 0.3587 - val_accuracy: 0.9086\n",
      "Epoch 10/10\n",
      "188/188 [==============================] - 3s 16ms/step - loss: 0.0229 - accuracy: 0.9929 - val_loss: 0.3798 - val_accuracy: 0.9102\n"
     ]
    }
   ],
   "source": [
    "classify_train = full_model.fit(train_X, train_label, batch_size=256,epochs=10,verbose=1,validation_data=(valid_X, valid_label))\n"
   ]
  },
  {
   "cell_type": "code",
   "execution_count": 119,
   "metadata": {
    "id": "JtMCr51PsUiL"
   },
   "outputs": [],
   "source": [
    "full_model.save_weights('autoencoder_classification.h5')\n"
   ]
  },
  {
   "cell_type": "code",
   "execution_count": 120,
   "metadata": {
    "id": "1tmNibwst-3k"
   },
   "outputs": [],
   "source": [
    "for layer in full_model.layers[0:19]:\n",
    "    layer.trainable = True"
   ]
  },
  {
   "cell_type": "code",
   "execution_count": 121,
   "metadata": {
    "id": "Vc2IAmGjuCyD"
   },
   "outputs": [],
   "source": [
    "full_model.compile(loss=keras.losses.categorical_crossentropy, optimizer=keras.optimizers.Adam(),metrics=['accuracy'])\n"
   ]
  },
  {
   "cell_type": "code",
   "execution_count": 122,
   "metadata": {
    "colab": {
     "base_uri": "https://localhost:8080/"
    },
    "id": "eMtxBW6HuE1-",
    "outputId": "a2686871-f0b3-4fbb-fdb8-bf3bf0d1b57b"
   },
   "outputs": [
    {
     "name": "stdout",
     "output_type": "stream",
     "text": [
      "Epoch 1/10\n",
      "  1/750 [..............................] - ETA: 8s - loss: 0.0905 - accuracy: 0.9688WARNING:tensorflow:Callbacks method `on_train_batch_end` is slow compared to the batch time (batch time: 0.0067s vs `on_train_batch_end` time: 0.0105s). Check your callbacks.\n",
      "750/750 [==============================] - 9s 12ms/step - loss: 0.2483 - accuracy: 0.9175 - val_loss: 0.3447 - val_accuracy: 0.8982\n",
      "Epoch 2/10\n",
      "750/750 [==============================] - 9s 12ms/step - loss: 0.1894 - accuracy: 0.9332 - val_loss: 0.3770 - val_accuracy: 0.8890\n",
      "Epoch 3/10\n",
      "750/750 [==============================] - 9s 12ms/step - loss: 0.1494 - accuracy: 0.9469 - val_loss: 0.3234 - val_accuracy: 0.9046\n",
      "Epoch 4/10\n",
      "750/750 [==============================] - 9s 12ms/step - loss: 0.1243 - accuracy: 0.9558 - val_loss: 0.3572 - val_accuracy: 0.8990\n",
      "Epoch 5/10\n",
      "750/750 [==============================] - 9s 12ms/step - loss: 0.1077 - accuracy: 0.9620 - val_loss: 0.3985 - val_accuracy: 0.8955\n",
      "Epoch 6/10\n",
      "750/750 [==============================] - 9s 12ms/step - loss: 0.0958 - accuracy: 0.9660 - val_loss: 0.4355 - val_accuracy: 0.9015\n",
      "Epoch 7/10\n",
      "750/750 [==============================] - 9s 12ms/step - loss: 0.0838 - accuracy: 0.9704 - val_loss: 0.6014 - val_accuracy: 0.9080\n",
      "Epoch 8/10\n",
      "750/750 [==============================] - 9s 12ms/step - loss: 0.0718 - accuracy: 0.9761 - val_loss: 0.4168 - val_accuracy: 0.9125\n",
      "Epoch 9/10\n",
      "750/750 [==============================] - 9s 12ms/step - loss: 0.0659 - accuracy: 0.9768 - val_loss: 0.3900 - val_accuracy: 0.9093\n",
      "Epoch 10/10\n",
      "750/750 [==============================] - 9s 12ms/step - loss: 0.0647 - accuracy: 0.9789 - val_loss: 0.4881 - val_accuracy: 0.9053\n"
     ]
    }
   ],
   "source": [
    "classify_train = full_model.fit(train_X, train_label, batch_size=64,epochs=10,verbose=1,validation_data=(valid_X, valid_label))\n"
   ]
  },
  {
   "cell_type": "code",
   "execution_count": 123,
   "metadata": {
    "id": "Ab07PSdOuIXC"
   },
   "outputs": [],
   "source": [
    "full_model.save_weights('classification_complete.h5')\n"
   ]
  },
  {
   "cell_type": "code",
   "execution_count": 124,
   "metadata": {
    "colab": {
     "base_uri": "https://localhost:8080/",
     "height": 545
    },
    "id": "TbM49likutZK",
    "outputId": "53c3a0d8-fb89-4afa-f53d-b8879c2054bc"
   },
   "outputs": [
    {
     "data": {
      "image/png": "[encoded data removed]",
      "text/plain": [
       "<Figure size 432x288 with 1 Axes>"
      ]
     },
     "metadata": {
      "needs_background": "light",
      "tags": []
     },
     "output_type": "display_data"
    },
    {
     "data": {
      "image/png": "[encoded data removed]",
      "text/plain": [
       "<Figure size 432x288 with 1 Axes>"
      ]
     },
     "metadata": {
      "needs_background": "light",
      "tags": []
     },
     "output_type": "display_data"
    }
   ],
   "source": [
    "accuracy = classify_train.history['accuracy']\n",
    "val_accuracy = classify_train.history['val_accuracy']\n",
    "loss = classify_train.history['loss']\n",
    "val_loss = classify_train.history['val_loss']\n",
    "epochs = range(len(accuracy))\n",
    "plt.plot(epochs, accuracy, 'bo', label='Training accuracy')\n",
    "plt.plot(epochs, val_accuracy, 'b', label='Validation accuracy')\n",
    "plt.title('Training and validation accuracy')\n",
    "plt.legend()\n",
    "plt.figure()\n",
    "plt.plot(epochs, loss, 'bo', label='Training loss')\n",
    "plt.plot(epochs, val_loss, 'b', label='Validation loss')\n",
    "plt.title('Training and validation loss')\n",
    "plt.legend()\n",
    "plt.show()"
   ]
  },
  {
   "cell_type": "code",
   "execution_count": 125,
   "metadata": {
    "id": "w6IAsj6Wuwf-"
   },
   "outputs": [],
   "source": [
    "#test set evaluation\n",
    "test_eval = full_model.evaluate(testX, test_y_one_hot, verbose=0)\n"
   ]
  },
  {
   "cell_type": "code",
   "execution_count": 126,
   "metadata": {
    "colab": {
     "base_uri": "https://localhost:8080/"
    },
    "id": "AcCbbYmYvny_",
    "outputId": "c2ce5c8b-d142-432e-f597-6bb2a7673bc4"
   },
   "outputs": [
    {
     "name": "stdout",
     "output_type": "stream",
     "text": [
      "Test loss: 0.5200155973434448\n",
      "Test accuracy: 0.8967999815940857\n"
     ]
    }
   ],
   "source": [
    "print('Test loss:', test_eval[0])\n",
    "print('Test accuracy:', test_eval[1])"
   ]
  },
  {
   "cell_type": "code",
   "execution_count": 127,
   "metadata": {
    "id": "GmOCtbaxvtN6"
   },
   "outputs": [],
   "source": [
    "#Predict Labels\n",
    "predicted_classes = full_model.predict(testX)\n"
   ]
  },
  {
   "cell_type": "code",
   "execution_count": 128,
   "metadata": {
    "id": "HbGBrIXyv-9_"
   },
   "outputs": [],
   "source": [
    "predicted_classes = np.argmax(np.round(predicted_classes),axis=1)\n"
   ]
  },
  {
   "cell_type": "code",
   "execution_count": 129,
   "metadata": {
    "colab": {
     "base_uri": "https://localhost:8080/"
    },
    "id": "8aqsv3KYwGDe",
    "outputId": "bfa305db-5f39-43df-b847-d04d43d788b2"
   },
   "outputs": [
    {
     "data": {
      "text/plain": [
       "((10000,), (10000,))"
      ]
     },
     "execution_count": 129,
     "metadata": {
      "tags": []
     },
     "output_type": "execute_result"
    }
   ],
   "source": [
    "predicted_classes.shape, testY.shape\n"
   ]
  },
  {
   "cell_type": "code",
   "execution_count": 130,
   "metadata": {
    "colab": {
     "base_uri": "https://localhost:8080/",
     "height": 314
    },
    "id": "JC0sJncwwIHO",
    "outputId": "9cba3bad-eca3-4d18-a659-044e09b64e1e"
   },
   "outputs": [
    {
     "name": "stdout",
     "output_type": "stream",
     "text": [
      "Found 8959 correct labels\n"
     ]
    },
    {
     "data": {
      "image/png": "[encoded data removed]",
      "text/plain": [
       "<Figure size 432x288 with 9 Axes>"
      ]
     },
     "metadata": {
      "needs_background": "light",
      "tags": []
     },
     "output_type": "display_data"
    }
   ],
   "source": [
    "correct = np.where(predicted_classes==testY)[0]\n",
    "print(\"Found %d correct labels\" % len(correct))\n",
    "for i, correct in enumerate(correct[:9]):\n",
    "    plt.subplot(3,3,i+1)\n",
    "    plt.imshow(testX[correct].reshape(28,28), cmap='gray', interpolation='none')\n",
    "    plt.title(\"Predicted {}, Class {}\".format(predicted_classes[correct], testY[correct]))\n",
    "    plt.tight_layout()"
   ]
  },
  {
   "cell_type": "code",
   "execution_count": 131,
   "metadata": {
    "colab": {
     "base_uri": "https://localhost:8080/",
     "height": 314
    },
    "id": "7QMbanhdwQpp",
    "outputId": "736b56f2-b9f1-47d9-ee03-3bdc763cb6df"
   },
   "outputs": [
    {
     "name": "stdout",
     "output_type": "stream",
     "text": [
      "Found 1041 incorrect labels\n"
     ]
    },
    {
     "data": {
      "image/png": "[encoded data removed]",
      "text/plain": [
       "<Figure size 432x288 with 9 Axes>"
      ]
     },
     "metadata": {
      "needs_background": "light",
      "tags": []
     },
     "output_type": "display_data"
    }
   ],
   "source": [
    "incorrect = np.where(predicted_classes!=testY)[0]\n",
    "print(\"Found %d incorrect labels\" % len(incorrect))\n",
    "for i, incorrect in enumerate(incorrect[:9]):\n",
    "    plt.subplot(3,3,i+1)\n",
    "    plt.imshow(testX[incorrect].reshape(28,28), cmap='gray', interpolation='none')\n",
    "    plt.title(\"Predicted {}, Class {}\".format(predicted_classes[incorrect], testY[incorrect]))\n",
    "    plt.tight_layout()"
   ]
  },
  {
   "cell_type": "code",
   "execution_count": 132,
   "metadata": {
    "colab": {
     "base_uri": "https://localhost:8080/"
    },
    "id": "cfarvrAiwmz6",
    "outputId": "1caa94ec-bcfe-4478-9e4e-41d38af9e702"
   },
   "outputs": [
    {
     "name": "stdout",
     "output_type": "stream",
     "text": [
      "              precision    recall  f1-score   support\n",
      "\n",
      "     Class 0       0.86      0.80      0.83      1000\n",
      "     Class 1       0.99      0.97      0.98      1000\n",
      "     Class 2       0.93      0.78      0.85      1000\n",
      "     Class 3       0.90      0.88      0.89      1000\n",
      "     Class 4       0.84      0.84      0.84      1000\n",
      "     Class 5       0.97      0.99      0.98      1000\n",
      "     Class 6       0.64      0.82      0.72      1000\n",
      "     Class 7       0.97      0.95      0.96      1000\n",
      "     Class 8       0.98      0.97      0.98      1000\n",
      "     Class 9       0.96      0.96      0.96      1000\n",
      "\n",
      "    accuracy                           0.90     10000\n",
      "   macro avg       0.90      0.90      0.90     10000\n",
      "weighted avg       0.90      0.90      0.90     10000\n",
      "\n"
     ]
    }
   ],
   "source": [
    "from sklearn.metrics import classification_report\n",
    "target_names = [\"Class {}\".format(i) for i in range(num_classes)]\n",
    "print(classification_report(testY, predicted_classes, target_names=target_names))"
   ]
  },
  {
   "cell_type": "code",
   "execution_count": 48,
   "metadata": {
    "id": "SgQs77tjw1bm"
   },
   "outputs": [],
   "source": []
  }
 ],
 "metadata": {
  "accelerator": "GPU",
  "colab": {
   "collapsed_sections": [],
   "name": "Project2.ipynb",
   "provenance": []
  },
  "kernelspec": {
   "display_name": "Python 3",
   "language": "python",
   "name": "python3"
  },
  "language_info": {
   "codemirror_mode": {
    "name": "ipython",
    "version": 3
   },
   "file_extension": ".py",
   "mimetype": "text/x-python",
   "name": "python",
   "nbconvert_exporter": "python",
   "pygments_lexer": "ipython3",
   "version": "3.7.4"
  }
 },
 "nbformat": 4,
 "nbformat_minor": 1
}
